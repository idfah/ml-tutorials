{
 "cells": [
  {
   "cell_type": "markdown",
   "metadata": {},
   "source": [
    "# Clustering twenty newsgroups using scikit-learn"
   ]
  },
  {
   "cell_type": "code",
   "execution_count": 1,
   "metadata": {},
   "outputs": [],
   "source": [
    "import numpy as np\n",
    "import sklearn\n",
    "import sklearn.datasets\n",
    "import sklearn.feature_extraction.text as sk_text\n",
    "import sklearn.cluster\n",
    "import sklearn.metrics"
   ]
  },
  {
   "cell_type": "markdown",
   "metadata": {},
   "source": [
    "## Getting the data"
   ]
  },
  {
   "cell_type": "code",
   "execution_count": 2,
   "metadata": {},
   "outputs": [],
   "source": [
    "newsgroups = sklearn.datasets.fetch_20newsgroups()"
   ]
  },
  {
   "cell_type": "code",
   "execution_count": 3,
   "metadata": {},
   "outputs": [
    {
     "data": {
      "text/plain": [
       "dict_keys(['data', 'filenames', 'target_names', 'target', 'DESCR'])"
      ]
     },
     "execution_count": 3,
     "metadata": {},
     "output_type": "execute_result"
    }
   ],
   "source": [
    "newsgroups.keys()"
   ]
  },
  {
   "cell_type": "code",
   "execution_count": 4,
   "metadata": {},
   "outputs": [
    {
     "data": {
      "text/plain": [
       "(list, 11314, str)"
      ]
     },
     "execution_count": 4,
     "metadata": {},
     "output_type": "execute_result"
    }
   ],
   "source": [
    "type(newsgroups.data), len(newsgroups.data), type(newsgroups.data[0])"
   ]
  },
  {
   "cell_type": "code",
   "execution_count": 5,
   "metadata": {},
   "outputs": [
    {
     "data": {
      "text/plain": [
       "[\"From: lerxst@wam.umd.edu (where's my thing)\\nSubject: WHAT car is this!?\\nNntp-Posting-Host: rac3.wam.umd.edu\\nOrganization: University of Maryland, College Park\\nLines: 15\\n\\n I was wondering if anyone out there could enlighten me on this car I saw\\nthe other day. It was a 2-door sports car, looked to be from the late 60s/\\nearly 70s. It was called a Bricklin. The doors were really small. In addition,\\nthe front bumper was separate from the rest of the body. This is \\nall I know. If anyone can tellme a model name, engine specs, years\\nof production, where this car is made, history, or whatever info you\\nhave on this funky looking car, please e-mail.\\n\\nThanks,\\n- IL\\n   ---- brought to you by your neighborhood Lerxst ----\\n\\n\\n\\n\\n\",\n",
       " \"From: guykuo@carson.u.washington.edu (Guy Kuo)\\nSubject: SI Clock Poll - Final Call\\nSummary: Final call for SI clock reports\\nKeywords: SI,acceleration,clock,upgrade\\nArticle-I.D.: shelley.1qvfo9INNc3s\\nOrganization: University of Washington\\nLines: 11\\nNNTP-Posting-Host: carson.u.washington.edu\\n\\nA fair number of brave souls who upgraded their SI clock oscillator have\\nshared their experiences for this poll. Please send a brief message detailing\\nyour experiences with the procedure. Top speed attained, CPU rated speed,\\nadd on cards and adapters, heat sinks, hour of usage per day, floppy disk\\nfunctionality with 800 and 1.4 m floppies are especially requested.\\n\\nI will be summarizing in the next two days, so please add to the network\\nknowledge base if you have done the clock upgrade and haven't answered this\\npoll. Thanks.\\n\\nGuy Kuo <guykuo@u.washington.edu>\\n\",\n",
       " 'From: twillis@ec.ecn.purdue.edu (Thomas E Willis)\\nSubject: PB questions...\\nOrganization: Purdue University Engineering Computer Network\\nDistribution: usa\\nLines: 36\\n\\nwell folks, my mac plus finally gave up the ghost this weekend after\\nstarting life as a 512k way back in 1985.  sooo, i\\'m in the market for a\\nnew machine a bit sooner than i intended to be...\\n\\ni\\'m looking into picking up a powerbook 160 or maybe 180 and have a bunch\\nof questions that (hopefully) somebody can answer:\\n\\n* does anybody know any dirt on when the next round of powerbook\\nintroductions are expected?  i\\'d heard the 185c was supposed to make an\\nappearence \"this summer\" but haven\\'t heard anymore on it - and since i\\ndon\\'t have access to macleak, i was wondering if anybody out there had\\nmore info...\\n\\n* has anybody heard rumors about price drops to the powerbook line like the\\nones the duo\\'s just went through recently?\\n\\n* what\\'s the impression of the display on the 180?  i could probably swing\\na 180 if i got the 80Mb disk rather than the 120, but i don\\'t really have\\na feel for how much \"better\" the display is (yea, it looks great in the\\nstore, but is that all \"wow\" or is it really that good?).  could i solicit\\nsome opinions of people who use the 160 and 180 day-to-day on if its worth\\ntaking the disk size and money hit to get the active display?  (i realize\\nthis is a real subjective question, but i\\'ve only played around with the\\nmachines in a computer store breifly and figured the opinions of somebody\\nwho actually uses the machine daily might prove helpful).\\n\\n* how well does hellcats perform?  ;)\\n\\nthanks a bunch in advance for any info - if you could email, i\\'ll post a\\nsummary (news reading time is at a premium with finals just around the\\ncorner... :( )\\n--\\nTom Willis  \\\\  twillis@ecn.purdue.edu    \\\\    Purdue Electrical Engineering\\n---------------------------------------------------------------------------\\n\"Convictions are more dangerous enemies of truth than lies.\"  - F. W.\\nNietzsche\\n']"
      ]
     },
     "execution_count": 5,
     "metadata": {},
     "output_type": "execute_result"
    }
   ],
   "source": [
    "newsgroups.data[:3]"
   ]
  },
  {
   "cell_type": "code",
   "execution_count": 6,
   "metadata": {},
   "outputs": [
    {
     "data": {
      "text/plain": [
       "array([7, 4, 4])"
      ]
     },
     "execution_count": 6,
     "metadata": {},
     "output_type": "execute_result"
    }
   ],
   "source": [
    "newsgroups.target[:3]"
   ]
  },
  {
   "cell_type": "code",
   "execution_count": 7,
   "metadata": {},
   "outputs": [
    {
     "data": {
      "text/plain": [
       "['alt.atheism', 'comp.graphics', 'comp.os.ms-windows.misc']"
      ]
     },
     "execution_count": 7,
     "metadata": {},
     "output_type": "execute_result"
    }
   ],
   "source": [
    "newsgroups.target_names[:3]"
   ]
  },
  {
   "cell_type": "code",
   "execution_count": 8,
   "metadata": {},
   "outputs": [
    {
     "data": {
      "text/plain": [
       "(10748, 566)"
      ]
     },
     "execution_count": 8,
     "metadata": {},
     "output_type": "execute_result"
    }
   ],
   "source": [
    "nobs = len(newsgroups.data)\n",
    "train_frac = 0.95\n",
    "cutoff = int(nobs * train_frac)\n",
    "\n",
    "train_data, valid_data = newsgroups.data[:cutoff], newsgroups.data[cutoff:]\n",
    "train_labels, valid_labels = newsgroups.target[:cutoff], newsgroups.target[cutoff:]\n",
    "\n",
    "len(train_data), len(valid_data)"
   ]
  },
  {
   "cell_type": "markdown",
   "metadata": {},
   "source": [
    "## Filtering stopwords"
   ]
  },
  {
   "cell_type": "code",
   "execution_count": 9,
   "metadata": {},
   "outputs": [
    {
     "data": {
      "text/plain": [
       "(318,\n",
       " ['a',\n",
       "  'about',\n",
       "  'above',\n",
       "  'across',\n",
       "  'after',\n",
       "  'afterwards',\n",
       "  'again',\n",
       "  'against',\n",
       "  'all',\n",
       "  'almost'])"
      ]
     },
     "execution_count": 9,
     "metadata": {},
     "output_type": "execute_result"
    }
   ],
   "source": [
    "len(sk_text.ENGLISH_STOP_WORDS), sorted(sk_text.ENGLISH_STOP_WORDS)[:10]"
   ]
  },
  {
   "cell_type": "markdown",
   "metadata": {},
   "source": [
    "## Term-Frequency / Inverse Document-Frequency (TF-IDF) vectorizer"
   ]
  },
  {
   "cell_type": "code",
   "execution_count": 10,
   "metadata": {},
   "outputs": [],
   "source": [
    "vectorizer = sk_text.TfidfVectorizer(max_features=10_000, stop_words=sk_text.ENGLISH_STOP_WORDS)"
   ]
  },
  {
   "cell_type": "code",
   "execution_count": 11,
   "metadata": {},
   "outputs": [
    {
     "data": {
      "text/plain": [
       "(<10748x10000 sparse matrix of type '<class 'numpy.float64'>'\n",
       " \twith 954700 stored elements in Compressed Sparse Row format>,\n",
       " (10748, 10000))"
      ]
     },
     "execution_count": 11,
     "metadata": {},
     "output_type": "execute_result"
    }
   ],
   "source": [
    "train_vectors = vectorizer.fit_transform(train_data)\n",
    "train_vectors, train_vectors.shape"
   ]
  },
  {
   "cell_type": "code",
   "execution_count": 12,
   "metadata": {},
   "outputs": [
    {
     "data": {
      "text/plain": [
       "(<566x10000 sparse matrix of type '<class 'numpy.float64'>'\n",
       " \twith 49132 stored elements in Compressed Sparse Row format>,\n",
       " (566, 10000))"
      ]
     },
     "execution_count": 12,
     "metadata": {},
     "output_type": "execute_result"
    }
   ],
   "source": [
    "valid_vectors = vectorizer.transform(valid_data)\n",
    "valid_vectors, valid_vectors.shape"
   ]
  },
  {
   "cell_type": "markdown",
   "metadata": {},
   "source": [
    "## K-means clustering"
   ]
  },
  {
   "cell_type": "code",
   "execution_count": 13,
   "metadata": {},
   "outputs": [],
   "source": [
    "kmeans = sklearn.cluster.KMeans(n_clusters=30)"
   ]
  },
  {
   "cell_type": "code",
   "execution_count": 14,
   "metadata": {},
   "outputs": [
    {
     "data": {
      "text/plain": [
       "(array([21, 17, 17,  8, ..., 18,  2, 19,  0], dtype=int32), (10748,))"
      ]
     },
     "execution_count": 14,
     "metadata": {},
     "output_type": "execute_result"
    }
   ],
   "source": [
    "train_clusters = kmeans.fit_predict(train_vectors)\n",
    "train_clusters, train_clusters.shape"
   ]
  },
  {
   "cell_type": "code",
   "execution_count": 15,
   "metadata": {},
   "outputs": [
    {
     "data": {
      "text/plain": [
       "(array([13,  5, 15, 24, ..., 16,  8,  8, 17], dtype=int32), (566,))"
      ]
     },
     "execution_count": 15,
     "metadata": {},
     "output_type": "execute_result"
    }
   ],
   "source": [
    "valid_clusters = kmeans.predict(valid_vectors)\n",
    "valid_clusters, valid_clusters.shape"
   ]
  },
  {
   "cell_type": "markdown",
   "metadata": {},
   "source": [
    "## Evaluate mutual information score"
   ]
  },
  {
   "cell_type": "code",
   "execution_count": 16,
   "metadata": {},
   "outputs": [
    {
     "data": {
      "text/plain": [
       "0.4003120251051953"
      ]
     },
     "execution_count": 16,
     "metadata": {},
     "output_type": "execute_result"
    }
   ],
   "source": [
    "train_mi = sklearn.metrics.adjusted_mutual_info_score(train_labels, train_clusters)\n",
    "train_mi"
   ]
  },
  {
   "cell_type": "code",
   "execution_count": 17,
   "metadata": {},
   "outputs": [
    {
     "data": {
      "text/plain": [
       "0.383634000751514"
      ]
     },
     "execution_count": 17,
     "metadata": {},
     "output_type": "execute_result"
    }
   ],
   "source": [
    "valid_mi = sklearn.metrics.adjusted_mutual_info_score(valid_labels, valid_clusters)\n",
    "valid_mi"
   ]
  },
  {
   "cell_type": "markdown",
   "metadata": {},
   "source": [
    "## Print cluster labels"
   ]
  },
  {
   "cell_type": "code",
   "execution_count": 18,
   "metadata": {},
   "outputs": [
    {
     "name": "stdout",
     "output_type": "stream",
     "text": [
      "cluster: 0\n",
      "['sci.space', 'sci.space', 'sci.space', 'talk.politics.misc', 'sci.space', 'sci.space', 'sci.space', 'sci.space', 'sci.space', 'sci.space', 'talk.politics.misc', 'rec.sport.hockey']\n",
      "\n",
      "cluster: 1\n",
      "['misc.forsale', 'talk.politics.mideast', 'talk.religion.misc', 'comp.sys.mac.hardware', 'rec.autos']\n",
      "\n",
      "cluster: 2\n",
      "['talk.politics.mideast', 'talk.politics.mideast', 'talk.politics.mideast', 'talk.politics.mideast', 'talk.politics.mideast', 'talk.politics.mideast', 'talk.politics.mideast', 'talk.politics.mideast', 'talk.politics.mideast', 'talk.politics.mideast', 'talk.politics.mideast', 'talk.politics.mideast', 'talk.politics.mideast', 'talk.politics.mideast', 'talk.politics.mideast']\n",
      "\n",
      "cluster: 3\n",
      "['talk.religion.misc']\n",
      "\n",
      "cluster: 4\n",
      "['talk.religion.misc', 'soc.religion.christian', 'talk.politics.misc', 'alt.atheism', 'soc.religion.christian', 'alt.atheism', 'alt.atheism', 'soc.religion.christian', 'soc.religion.christian', 'soc.religion.christian', 'soc.religion.christian', 'soc.religion.christian', 'soc.religion.christian', 'talk.religion.misc', 'alt.atheism', 'soc.religion.christian', 'soc.religion.christian', 'soc.religion.christian', 'talk.religion.misc', 'soc.religion.christian', 'alt.atheism', 'soc.religion.christian', 'soc.religion.christian']\n",
      "\n",
      "cluster: 5\n",
      "['sci.crypt', 'talk.politics.misc', 'sci.electronics', 'alt.atheism', 'sci.med', 'comp.os.ms-windows.misc', 'sci.space', 'rec.motorcycles', 'comp.graphics', 'sci.crypt', 'comp.graphics']\n",
      "\n",
      "cluster: 6\n",
      "['rec.motorcycles', 'comp.sys.mac.hardware', 'comp.sys.mac.hardware', 'comp.sys.mac.hardware', 'rec.motorcycles', 'sci.electronics', 'comp.sys.mac.hardware', 'comp.sys.mac.hardware', 'comp.sys.mac.hardware', 'comp.sys.mac.hardware', 'talk.politics.misc', 'comp.sys.mac.hardware', 'comp.sys.mac.hardware', 'comp.sys.mac.hardware', 'talk.politics.misc', 'comp.sys.mac.hardware', 'comp.sys.mac.hardware']\n",
      "\n",
      "cluster: 7\n",
      "['talk.politics.guns', 'talk.politics.guns', 'talk.politics.guns', 'talk.politics.guns', 'talk.politics.guns', 'talk.politics.guns', 'talk.politics.guns', 'talk.politics.guns', 'talk.politics.guns', 'talk.politics.guns', 'talk.politics.guns', 'talk.politics.guns', 'talk.politics.guns']\n",
      "\n",
      "cluster: 8\n",
      "['sci.crypt', 'comp.graphics', 'comp.sys.ibm.pc.hardware', 'sci.electronics', 'misc.forsale', 'sci.space', 'sci.electronics', 'sci.med', 'rec.sport.baseball', 'sci.crypt', 'talk.politics.guns', 'misc.forsale', 'sci.space', 'comp.sys.ibm.pc.hardware', 'talk.politics.misc', 'sci.med', 'misc.forsale', 'rec.motorcycles', 'misc.forsale', 'talk.religion.misc', 'rec.sport.baseball', 'sci.space', 'comp.graphics', 'misc.forsale', 'sci.crypt', 'sci.med', 'comp.graphics', 'rec.autos', 'comp.os.ms-windows.misc', 'comp.graphics', 'rec.motorcycles', 'sci.electronics', 'comp.windows.x', 'comp.windows.x', 'comp.windows.x', 'sci.space', 'sci.electronics', 'sci.space', 'misc.forsale', 'sci.electronics', 'rec.autos', 'comp.os.ms-windows.misc', 'sci.electronics', 'comp.os.ms-windows.misc', 'soc.religion.christian', 'sci.med', 'sci.med', 'comp.sys.mac.hardware', 'talk.politics.mideast', 'rec.motorcycles', 'comp.windows.x', 'talk.politics.misc', 'talk.politics.guns', 'comp.sys.mac.hardware', 'talk.religion.misc', 'rec.autos', 'rec.sport.hockey', 'rec.autos', 'comp.sys.ibm.pc.hardware', 'rec.motorcycles', 'rec.autos', 'comp.windows.x', 'comp.os.ms-windows.misc', 'sci.crypt', 'sci.electronics', 'comp.windows.x', 'sci.space', 'sci.space', 'comp.sys.mac.hardware', 'misc.forsale', 'misc.forsale', 'talk.politics.mideast', 'rec.motorcycles', 'comp.sys.ibm.pc.hardware', 'sci.med', 'comp.graphics', 'rec.motorcycles', 'comp.windows.x', 'sci.crypt', 'sci.electronics', 'comp.sys.mac.hardware', 'talk.politics.misc', 'rec.motorcycles', 'talk.politics.misc', 'comp.windows.x', 'sci.electronics', 'sci.med', 'talk.politics.guns', 'comp.sys.ibm.pc.hardware', 'talk.politics.guns', 'sci.space', 'rec.autos', 'talk.religion.misc', 'comp.graphics', 'sci.space', 'sci.crypt', 'rec.autos', 'rec.motorcycles', 'talk.politics.mideast', 'comp.windows.x', 'sci.electronics', 'comp.sys.ibm.pc.hardware', 'comp.os.ms-windows.misc', 'comp.os.ms-windows.misc', 'comp.graphics', 'misc.forsale', 'sci.electronics', 'comp.windows.x', 'talk.politics.guns', 'sci.med', 'sci.space', 'comp.sys.ibm.pc.hardware', 'soc.religion.christian', 'talk.politics.mideast', 'comp.os.ms-windows.misc', 'comp.windows.x', 'comp.sys.mac.hardware', 'sci.space', 'rec.autos', 'rec.sport.baseball', 'comp.sys.ibm.pc.hardware', 'misc.forsale', 'sci.crypt', 'comp.windows.x', 'sci.med', 'comp.sys.ibm.pc.hardware', 'comp.graphics']\n",
      "\n",
      "cluster: 9\n",
      "['rec.sport.baseball', 'rec.sport.baseball', 'rec.sport.baseball', 'rec.sport.baseball', 'rec.sport.baseball', 'rec.sport.baseball', 'rec.sport.baseball', 'rec.sport.hockey', 'rec.sport.hockey', 'rec.sport.hockey', 'rec.sport.baseball', 'rec.sport.baseball', 'rec.sport.baseball', 'rec.sport.hockey', 'rec.sport.hockey', 'rec.sport.hockey', 'rec.sport.hockey', 'rec.sport.hockey', 'rec.sport.hockey', 'rec.sport.hockey', 'rec.sport.baseball', 'rec.sport.hockey', 'rec.sport.hockey', 'rec.sport.hockey', 'rec.sport.hockey', 'rec.sport.hockey', 'rec.sport.hockey', 'rec.sport.hockey', 'rec.sport.baseball', 'rec.sport.hockey', 'rec.sport.hockey', 'rec.sport.hockey', 'rec.sport.hockey']\n",
      "\n",
      "cluster: 10\n",
      "['talk.politics.mideast', 'talk.politics.mideast', 'talk.politics.mideast', 'talk.politics.mideast']\n",
      "\n",
      "cluster: 11\n",
      "['comp.sys.ibm.pc.hardware', 'rec.autos', 'rec.sport.hockey', 'alt.atheism', 'rec.sport.hockey']\n",
      "\n",
      "cluster: 12\n",
      "['sci.space', 'sci.space', 'sci.space', 'sci.space', 'sci.space', 'sci.space', 'sci.space']\n",
      "\n",
      "cluster: 13\n",
      "['rec.motorcycles', 'rec.motorcycles', 'rec.motorcycles', 'misc.forsale', 'rec.motorcycles', 'rec.motorcycles', 'rec.motorcycles', 'rec.motorcycles', 'rec.motorcycles', 'rec.motorcycles', 'rec.motorcycles', 'rec.motorcycles', 'rec.motorcycles', 'rec.motorcycles', 'rec.motorcycles']\n",
      "\n",
      "cluster: 14\n",
      "['comp.sys.mac.hardware', 'comp.sys.ibm.pc.hardware']\n",
      "\n",
      "cluster: 15\n",
      "['comp.sys.ibm.pc.hardware', 'comp.os.ms-windows.misc', 'comp.os.ms-windows.misc', 'comp.os.ms-windows.misc', 'comp.windows.x', 'comp.os.ms-windows.misc', 'comp.windows.x', 'comp.os.ms-windows.misc', 'comp.sys.ibm.pc.hardware', 'comp.os.ms-windows.misc', 'comp.os.ms-windows.misc', 'comp.graphics', 'comp.graphics', 'comp.os.ms-windows.misc', 'comp.windows.x', 'comp.windows.x', 'comp.os.ms-windows.misc', 'comp.windows.x', 'comp.os.ms-windows.misc', 'comp.windows.x', 'comp.os.ms-windows.misc', 'comp.windows.x', 'comp.windows.x', 'comp.sys.ibm.pc.hardware', 'comp.windows.x']\n",
      "\n",
      "cluster: 16\n",
      "['comp.sys.ibm.pc.hardware', 'comp.graphics', 'comp.os.ms-windows.misc', 'comp.sys.ibm.pc.hardware', 'comp.sys.mac.hardware', 'comp.sys.ibm.pc.hardware', 'comp.sys.ibm.pc.hardware', 'comp.os.ms-windows.misc', 'comp.sys.ibm.pc.hardware', 'comp.sys.ibm.pc.hardware', 'comp.os.ms-windows.misc', 'comp.sys.ibm.pc.hardware', 'comp.graphics', 'comp.sys.mac.hardware', 'comp.os.ms-windows.misc', 'comp.sys.ibm.pc.hardware', 'comp.sys.ibm.pc.hardware', 'comp.os.ms-windows.misc', 'misc.forsale', 'comp.sys.ibm.pc.hardware', 'comp.graphics', 'comp.graphics', 'misc.forsale', 'misc.forsale', 'comp.sys.ibm.pc.hardware', 'comp.sys.ibm.pc.hardware', 'comp.sys.ibm.pc.hardware', 'misc.forsale', 'misc.forsale', 'comp.sys.mac.hardware', 'comp.sys.ibm.pc.hardware', 'comp.sys.ibm.pc.hardware', 'comp.sys.ibm.pc.hardware', 'comp.os.ms-windows.misc', 'comp.graphics', 'comp.sys.ibm.pc.hardware', 'comp.sys.ibm.pc.hardware', 'comp.sys.mac.hardware']\n",
      "\n",
      "cluster: 17\n",
      "['soc.religion.christian', 'rec.sport.baseball', 'sci.space', 'comp.sys.mac.hardware', 'sci.electronics', 'rec.motorcycles', 'comp.os.ms-windows.misc', 'comp.os.ms-windows.misc', 'comp.sys.ibm.pc.hardware', 'comp.graphics', 'sci.med', 'sci.med', 'comp.sys.ibm.pc.hardware', 'misc.forsale', 'comp.graphics', 'comp.os.ms-windows.misc', 'misc.forsale', 'sci.electronics', 'comp.graphics', 'comp.graphics', 'sci.space', 'talk.politics.misc', 'alt.atheism', 'rec.autos', 'rec.autos', 'talk.politics.mideast', 'comp.sys.mac.hardware', 'comp.sys.mac.hardware', 'comp.graphics', 'talk.religion.misc', 'misc.forsale', 'talk.politics.guns', 'rec.autos', 'sci.space', 'soc.religion.christian', 'sci.electronics', 'misc.forsale', 'talk.politics.misc', 'rec.sport.hockey', 'comp.os.ms-windows.misc', 'comp.windows.x', 'misc.forsale', 'comp.os.ms-windows.misc', 'soc.religion.christian', 'rec.sport.baseball', 'sci.electronics', 'misc.forsale', 'sci.space', 'comp.sys.mac.hardware', 'sci.space', 'rec.motorcycles', 'comp.graphics', 'misc.forsale', 'talk.politics.mideast', 'rec.sport.hockey', 'comp.sys.ibm.pc.hardware', 'sci.electronics', 'rec.sport.hockey', 'sci.space', 'sci.electronics', 'misc.forsale', 'sci.med', 'talk.politics.mideast', 'sci.electronics', 'sci.space', 'comp.graphics', 'talk.politics.misc', 'talk.religion.misc', 'alt.atheism', 'rec.motorcycles', 'comp.sys.mac.hardware', 'misc.forsale', 'talk.politics.misc', 'talk.politics.misc', 'comp.sys.ibm.pc.hardware', 'comp.graphics', 'comp.sys.ibm.pc.hardware', 'talk.politics.misc', 'misc.forsale', 'comp.sys.mac.hardware', 'talk.religion.misc', 'misc.forsale', 'rec.motorcycles']\n",
      "\n",
      "cluster: 18\n",
      "['talk.politics.guns', 'talk.politics.misc', 'sci.crypt', 'talk.politics.misc', 'talk.religion.misc', 'talk.politics.misc', 'talk.politics.guns', 'talk.politics.misc', 'talk.politics.misc', 'talk.religion.misc', 'talk.politics.misc', 'sci.crypt', 'alt.atheism']\n",
      "\n",
      "cluster: 19\n",
      "['sci.space', 'sci.space', 'sci.space', 'sci.space', 'sci.space']\n",
      "\n",
      "cluster: 20\n",
      "['talk.politics.misc', 'talk.politics.misc', 'talk.politics.misc']\n",
      "\n",
      "cluster: 21\n",
      "['rec.autos', 'rec.autos', 'rec.autos', 'rec.autos', 'rec.autos', 'rec.autos', 'rec.autos', 'sci.med', 'rec.autos', 'rec.autos', 'rec.motorcycles', 'rec.autos', 'rec.autos', 'sci.med', 'rec.autos', 'rec.autos', 'rec.autos', 'rec.autos', 'rec.autos']\n",
      "\n",
      "cluster: 22\n",
      "['misc.forsale', 'talk.politics.misc', 'talk.politics.misc', 'rec.autos']\n",
      "\n",
      "cluster: 23\n",
      "['sci.electronics', 'comp.os.ms-windows.misc', 'soc.religion.christian', 'rec.sport.baseball']\n",
      "\n",
      "cluster: 24\n",
      "['alt.atheism', 'soc.religion.christian', 'soc.religion.christian', 'alt.atheism', 'talk.religion.misc', 'soc.religion.christian', 'talk.politics.mideast', 'soc.religion.christian', 'alt.atheism', 'soc.religion.christian', 'alt.atheism', 'soc.religion.christian', 'alt.atheism', 'soc.religion.christian', 'alt.atheism', 'talk.religion.misc', 'talk.religion.misc', 'soc.religion.christian', 'alt.atheism', 'talk.politics.misc', 'alt.atheism', 'soc.religion.christian', 'soc.religion.christian', 'alt.atheism', 'alt.atheism', 'talk.politics.misc', 'soc.religion.christian', 'soc.religion.christian', 'talk.religion.misc', 'alt.atheism', 'talk.religion.misc', 'talk.religion.misc', 'soc.religion.christian', 'alt.atheism', 'talk.religion.misc', 'talk.politics.misc', 'alt.atheism', 'alt.atheism', 'soc.religion.christian']\n",
      "\n",
      "cluster: 25\n",
      "['rec.sport.hockey', 'comp.graphics']\n",
      "\n",
      "cluster: 26\n",
      "['sci.med', 'sci.med', 'sci.med']\n",
      "\n",
      "cluster: 27\n",
      "['misc.forsale', 'sci.crypt', 'sci.med', 'sci.crypt', 'sci.med', 'sci.crypt', 'talk.religion.misc']\n",
      "\n",
      "cluster: 28\n",
      "['talk.politics.guns', 'rec.autos', 'talk.politics.guns', 'rec.sport.baseball', 'comp.sys.mac.hardware', 'comp.os.ms-windows.misc', 'comp.os.ms-windows.misc', 'sci.med']\n",
      "\n",
      "cluster: 29\n",
      "['sci.crypt', 'sci.crypt', 'sci.crypt', 'sci.crypt', 'sci.crypt', 'sci.crypt', 'sci.crypt', 'sci.crypt', 'sci.crypt', 'sci.crypt', 'sci.crypt', 'sci.crypt', 'sci.crypt', 'sci.crypt', 'sci.crypt', 'sci.crypt', 'sci.crypt', 'sci.crypt', 'sci.crypt', 'sci.crypt', 'sci.crypt', 'sci.crypt', 'sci.crypt']\n",
      "\n"
     ]
    }
   ],
   "source": [
    "for cluster_id in np.unique(valid_clusters):\n",
    "    print('cluster:', cluster_id)\n",
    "    doc_idxs = np.where(valid_clusters == cluster_id)[0]\n",
    "    print([newsgroups.target_names[valid_labels[idx]] for idx in doc_idxs])\n",
    "    print()"
   ]
  },
  {
   "cell_type": "code",
   "execution_count": null,
   "metadata": {},
   "outputs": [],
   "source": []
  },
  {
   "cell_type": "code",
   "execution_count": null,
   "metadata": {},
   "outputs": [],
   "source": []
  }
 ],
 "metadata": {
  "kernelspec": {
   "display_name": "Python 3",
   "language": "python",
   "name": "python3"
  },
  "language_info": {
   "codemirror_mode": {
    "name": "ipython",
    "version": 3
   },
   "file_extension": ".py",
   "mimetype": "text/x-python",
   "name": "python",
   "nbconvert_exporter": "python",
   "pygments_lexer": "ipython3",
   "version": "3.8.6"
  }
 },
 "nbformat": 4,
 "nbformat_minor": 4
}
