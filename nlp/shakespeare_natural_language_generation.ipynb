{
 "cells": [
  {
   "cell_type": "markdown",
   "metadata": {},
   "source": [
    "# Shakespearean Natural Language Generation (NLG)\n",
    "\n",
    "---\n",
    "\n",
    "__Elliott Forney__\n",
    "\n",
    "__This notebook is a work in progress...__"
   ]
  },
  {
   "cell_type": "markdown",
   "metadata": {},
   "source": [
    "Language models work by attempting to continually predict the next word in a large corpus of text.\n",
    "\n",
    "Say that we have a vocabulary, $\\mathbf{V}$, that contains $N$ words and that we also have a phrase consisting of $M$ words, $w_1, w_2, ..., w_M,$ where each word is in $\\mathbf{V}$.  Then, for each timestep, $t$, in our phrase, our model will attempt to predict\n",
    "\n",
    "$$\n",
    "  P(w_t = v_i\\; | \\; w_{t-1}, \\; w_{t-2}, \\; ..., \\; w_1)\n",
    "$$\n",
    "\n",
    "for each word $v_i$ in $\\mathbf{V}$.  In other words, we are continually predicting the probability that each word in our vocabulary will occur next, given a previous sequence of actual observed words.\n",
    "\n",
    "Language models have many uses.  This includes applications in transfer learning for solving various types of NLP problems, such as classification, named entity recognition and sentiment analysis.  Language models can also be used to generate artificial text in a process called Natural Language Generation (NLG).  NLG has various applications, including text generation for deceiving search engines, generating script to be presented by chat bots and creating responses for question answering systems.\n",
    "\n",
    "In this example, we will create a very simple NLG system that mimics Shakespearean text using a relatively simple Elman Recurrent Neural Network (RNN)."
   ]
  },
  {
   "cell_type": "markdown",
   "metadata": {},
   "source": []
  },
  {
   "cell_type": "code",
   "execution_count": 1,
   "metadata": {},
   "outputs": [],
   "source": [
    "import random, re\n",
    "import munch\n",
    "\n",
    "import nltk\n",
    "import torch as th\n",
    "\n",
    "import matplotlib\n",
    "import matplotlib.pyplot as plt\n",
    "%matplotlib inline\n",
    "matplotlib.rcParams['figure.figsize'] = (9, 8)"
   ]
  },
  {
   "cell_type": "markdown",
   "metadata": {},
   "source": [
    "First, we use NLTK to download the `punkt` data, which is used for word-punctuation tokenization, and the `gutenberg` corpora, which includes a number of freely available texts, including several of Shakespeare's plays: Caesar, Hamlet and Macbeth."
   ]
  },
  {
   "cell_type": "code",
   "execution_count": 2,
   "metadata": {},
   "outputs": [
    {
     "name": "stderr",
     "output_type": "stream",
     "text": [
      "[nltk_data] Downloading package punkt to /home/idfah/nltk_data...\n",
      "[nltk_data]   Package punkt is already up-to-date!\n",
      "[nltk_data] Downloading package gutenberg to /home/idfah/nltk_data...\n",
      "[nltk_data]   Package gutenberg is already up-to-date!\n"
     ]
    },
    {
     "data": {
      "text/plain": [
       "[(0, 'austen-emma.txt'),\n",
       " (1, 'austen-persuasion.txt'),\n",
       " (2, 'austen-sense.txt'),\n",
       " (3, 'bible-kjv.txt'),\n",
       " (4, 'blake-poems.txt'),\n",
       " (5, 'bryant-stories.txt'),\n",
       " (6, 'burgess-busterbrown.txt'),\n",
       " (7, 'carroll-alice.txt'),\n",
       " (8, 'chesterton-ball.txt'),\n",
       " (9, 'chesterton-brown.txt'),\n",
       " (10, 'chesterton-thursday.txt'),\n",
       " (11, 'edgeworth-parents.txt'),\n",
       " (12, 'melville-moby_dick.txt'),\n",
       " (13, 'milton-paradise.txt'),\n",
       " (14, 'shakespeare-caesar.txt'),\n",
       " (15, 'shakespeare-hamlet.txt'),\n",
       " (16, 'shakespeare-macbeth.txt'),\n",
       " (17, 'whitman-leaves.txt')]"
      ]
     },
     "execution_count": 2,
     "metadata": {},
     "output_type": "execute_result"
    }
   ],
   "source": [
    "nltk.download('punkt')\n",
    "nltk.download('gutenberg')\n",
    "list(enumerate(nltk.corpus.gutenberg.fileids()))"
   ]
  },
  {
   "cell_type": "markdown",
   "metadata": {},
   "source": [
    "We then, specifically, extract the filenames for the Shakespeare documents."
   ]
  },
  {
   "cell_type": "code",
   "execution_count": 3,
   "metadata": {},
   "outputs": [
    {
     "data": {
      "text/plain": [
       "['shakespeare-caesar.txt', 'shakespeare-hamlet.txt', 'shakespeare-macbeth.txt']"
      ]
     },
     "execution_count": 3,
     "metadata": {},
     "output_type": "execute_result"
    }
   ],
   "source": [
    "filenames = nltk.corpus.gutenberg.fileids()[14:17]\n",
    "filenames"
   ]
  },
  {
   "cell_type": "markdown",
   "metadata": {},
   "source": [
    "And then do some data munging to ensure that we have a list of paragraphs for all combined documents and that each paragraph is a list of words represented as python strings.  Note that we use paragraphs rather than sentences in order to ensure our model can capture some level of cross-sentence dependencies.  This will enable our NLG model to produce more than single sentences at a time.  We also remove very short paragraphs, less than three words, and make everything lower case in order to reduce the size of our vocabulary somewhat.  Note that having a binary indicator of capitalization would also be an easy thing to do in order to handle case."
   ]
  },
  {
   "cell_type": "code",
   "execution_count": 4,
   "metadata": {},
   "outputs": [
    {
     "name": "stdout",
     "output_type": "stream",
     "text": [
      "0 ['[', 'the', 'tragedie', 'of', 'julius', 'caesar', 'by', 'william', 'shakespeare', '1599', ']']\n",
      "1 ['actus', 'primus', '.', 'scoena', 'prima', '.']\n",
      "2 ['enter', 'flauius', ',', 'murellus', ',', 'and', 'certaine', 'commoners', 'ouer', 'the', 'stage', '.']\n",
      "3 ['flauius', '.', 'hence', ':', 'home', 'you', 'idle', 'creatures', ',', 'get', 'you', 'home', ':', 'is', 'this', 'a', 'holiday', '?', 'what', ',', 'know', 'you', 'not', '(', 'being', 'mechanicall', ')', 'you', 'ought', 'not', 'walke', 'vpon', 'a', 'labouring', 'day', ',', 'without', 'the', 'signe', 'of', 'your', 'profession', '?', 'speake', ',', 'what', 'trade', 'art', 'thou', '?', 'car', '.', 'why', 'sir', ',', 'a', 'carpenter']\n",
      "4 ['mur', '.', 'where', 'is', 'thy', 'leather', 'apron', ',', 'and', 'thy', 'rule', '?', 'what', 'dost', 'thou', 'with', 'thy', 'best', 'apparrell', 'on', '?', 'you', 'sir', ',', 'what', 'trade', 'are', 'you', '?', 'cobl', '.', 'truely', 'sir', ',', 'in', 'respect', 'of', 'a', 'fine', 'workman', ',', 'i', 'am', 'but', 'as', 'you', 'would', 'say', ',', 'a', 'cobler']\n",
      "5 ['mur', '.', 'but', 'what', 'trade', 'art', 'thou', '?', 'answer', 'me', 'directly']\n",
      "6 ['cob', '.', 'a', 'trade', 'sir', ',', 'that', 'i', 'hope', 'i', 'may', 'vse', ',', 'with', 'a', 'safe', 'conscience', ',', 'which', 'is', 'indeed', 'sir', ',', 'a', 'mender', 'of', 'bad', 'soules']\n"
     ]
    }
   ],
   "source": [
    "# combine all of the corpora, which are segmented by paragraph, sentences and words\n",
    "paras_by_sent = sum((list(nltk.corpus.gutenberg.paras(filename)) for filename in filenames), [])\n",
    "\n",
    "# combine sentences so each element in paras is a list of words in each paragraph\n",
    "paras = [sum((sent for sent in para), []) for para in paras_by_sent]\n",
    "\n",
    "# filter out very short paragraphs\n",
    "paras = list(filter(lambda para: len(para) > 3, paras))\n",
    "\n",
    "# make everything lower case\n",
    "paras = [[word.lower() for word in para] for para in paras]\n",
    "\n",
    "# print a few paragraphs\n",
    "for i, para in enumerate(paras[:7]):\n",
    "    print(i, para)"
   ]
  },
  {
   "cell_type": "markdown",
   "metadata": {},
   "source": [
    "It also turns out that not all paragraphs end with proper punctuation, since they are plays, so we add a period to any sentence that ends with a word.  We also add a special `<end>` word to the end of each paragraph so that the network will have a way to denote that a paragraph has terminated and a new one is beginning.\n",
    "\n",
    "Finally, we sort the paragraphs by length.  This ensures that paragraphs with similar length will be grouped together when generating minibatches for training, which, in turn, reduces padding and reduces the computational cost during training."
   ]
  },
  {
   "cell_type": "code",
   "execution_count": 5,
   "metadata": {},
   "outputs": [
    {
     "name": "stdout",
     "output_type": "stream",
     "text": [
      "0 ['shout', '.', 'flourish', '.', '<end>']\n",
      "1 ['they', 'stab', 'caesar', '.', '<end>']\n",
      "2 ['low', 'march', 'within', '.', '<end>']\n",
      "3 ['exeunt', '.', 'omnes', '.', '<end>']\n",
      "4 ['exit', 'the', 'ghost', '.', '<end>']\n",
      "5 ['laer', '.', 'farewell', '.', '<end>']\n",
      "6 ['ghost', 'beckens', 'hamlet', '.', '<end>']\n"
     ]
    }
   ],
   "source": [
    "# add a period to the end of paragraphs that end without punctuation\n",
    "word_regex = re.compile(r'\\w')\n",
    "def fix_end_punct(para):\n",
    "    if word_regex.match(para[-1]):\n",
    "        return para + ['.']\n",
    "    return para\n",
    "\n",
    "paras = list(map(fix_end_punct, paras))\n",
    "\n",
    "# add a newline at the end of each paragraph\n",
    "paras = [para + ['<end>',] for para in paras]\n",
    "\n",
    "# sort by length, reduces padding and speeds up training\n",
    "paras = sorted(paras, key=len)\n",
    "\n",
    "# print the first few paragraphs\n",
    "for i, para in enumerate(paras[:7]):\n",
    "    print(i, para)"
   ]
  },
  {
   "cell_type": "markdown",
   "metadata": {},
   "source": [
    "Next, let's print some quick summary statistics.  We have about 2,160 paragraphs with a total of 19,669 words.  A histogram of the paragraph lengths also shows that the vast majority of paragraphs are quite short."
   ]
  },
  {
   "cell_type": "code",
   "execution_count": 6,
   "metadata": {},
   "outputs": [
    {
     "name": "stdout",
     "output_type": "stream",
     "text": [
      "nparas: 2160\n",
      "nwords: 89669\n"
     ]
    },
    {
     "data": {
      "image/png": "[encoded data removed]",
      "text/plain": [
       "<Figure size 648x576 with 1 Axes>"
      ]
     },
     "metadata": {
      "needs_background": "light"
     },
     "output_type": "display_data"
    }
   ],
   "source": [
    "print('nparas:', len(paras))\n",
    "print('nwords:', sum(len(para) for para in paras))\n",
    "\n",
    "plt.hist([len(para) for para in paras], bins=100);\n",
    "plt.xlabel('Paragraph Length');\n",
    "plt.ylabel('Number of Paragraphs');"
   ]
  },
  {
   "cell_type": "markdown",
   "metadata": {},
   "source": [
    "We now need to define a class that can represent the vocabulary of words in the corpus and map them to unique integer indices.  These indices will be used to look up the words in a word embedding matrix.  This can be easily achieved by extending the python `dict` class and adding a constructor to generate indices from our list of paragraphs.\n",
    "\n",
    "We also add `pad` and `unk` special words that represent padding and unknown tokens, respectively.  Padding words will be used to ensure that we are able to generate batches as rectangular tensors and the unknown token is used when a word that is not in the vocabulary is encountered, i.e., during inference."
   ]
  },
  {
   "cell_type": "code",
   "execution_count": 7,
   "metadata": {},
   "outputs": [],
   "source": [
    "class IndexVocab(dict):\n",
    "    '''A map from string words to unique integer indices.\n",
    "    '''\n",
    "    # special tokens for padding and out-of-vocab words\n",
    "    pad, unk, end = '<pad>', '<unk>', '<end>'\n",
    "    pad_idx, unk_idx, end_idx = tuple(range(3))\n",
    "    \n",
    "    def __init__(self, paras):\n",
    "        '''Initialize a new vocabulary that maps string words to unique\n",
    "        integer indices.  This can be used to look words up in a word embedding.\n",
    "        '''\n",
    "        # create a set of words to make them unique\n",
    "        words = set(word for para in paras for word in para) \\\n",
    "            .difference((self.pad, self.unk, self.end))\n",
    "        \n",
    "        # convert to list and add in special tokens\n",
    "        words = [self.pad, self.unk, self.end] + sorted(list(words))\n",
    "        \n",
    "        # assign indices\n",
    "        idx_vocab = {word: idx for idx, word in enumerate(words)}\n",
    "        super().__init__(idx_vocab)\n",
    "        \n",
    "        # store the reverse map so we can go back to strings\n",
    "        self.reverse = {idx: word for word, idx in self.items()}\n",
    "        \n",
    "    def get(self, word, default=unk_idx):\n",
    "        '''Find the integer index for a given string word.\n",
    "        Returns `unk_idx` if the word is out-of-vocab.\n",
    "        '''\n",
    "        return super().get(word, default)"
   ]
  },
  {
   "cell_type": "markdown",
   "metadata": {},
   "source": [
    "We can then generate a vocabulary over all the paragraphs in our corpus."
   ]
  },
  {
   "cell_type": "code",
   "execution_count": 8,
   "metadata": {},
   "outputs": [
    {
     "data": {
      "text/plain": [
       "[('<pad>', 0),\n",
       " ('<unk>', 1),\n",
       " ('<end>', 2),\n",
       " ('!', 3),\n",
       " ('&', 4),\n",
       " (\"'\", 5),\n",
       " ('(', 6),\n",
       " (')', 7),\n",
       " (',', 8),\n",
       " ('-', 9),\n",
       " ('.', 10),\n",
       " ('1', 11),\n",
       " ('1599', 12),\n",
       " ('1603', 13),\n",
       " ('2', 14),\n",
       " ('3', 15),\n",
       " ('4', 16),\n",
       " (':', 17),\n",
       " (':)', 18),\n",
       " (';', 19),\n",
       " ('?', 20),\n",
       " ('[', 21),\n",
       " (']', 22),\n",
       " ('].', 23),\n",
       " ('a', 24)]"
      ]
     },
     "execution_count": 8,
     "metadata": {},
     "output_type": "execute_result"
    }
   ],
   "source": [
    "vocab = IndexVocab(paras)\n",
    "list(vocab.items())[:25]"
   ]
  },
  {
   "cell_type": "markdown",
   "metadata": {},
   "source": []
  },
  {
   "cell_type": "code",
   "execution_count": 9,
   "metadata": {},
   "outputs": [
    {
     "data": {
      "text/plain": [
       "[[5848, 10, 2530, 10, 2],\n",
       " [6606, 6183, 910, 10, 2],\n",
       " [3894, 4009, 7406, 10, 2],\n",
       " [2269, 10, 4508, 10, 2],\n",
       " [2273, 6576, 2763, 10, 2],\n",
       " [3653, 10, 2357, 10, 2],\n",
       " [2763, 536, 2965, 10, 2],\n",
       " [2762, 10, 6440, 10, 2],\n",
       " [2269, 10, 2746, 10, 2],\n",
       " [24, 4406, 7406, 10, 2],\n",
       " [2181, 24, 4116, 10, 2],\n",
       " [5227, 6576, 3764, 10, 2],\n",
       " [2181, 6868, 1212, 10, 2],\n",
       " [4946, 6696, 4802, 10, 2]]"
      ]
     },
     "execution_count": 9,
     "metadata": {},
     "output_type": "execute_result"
    }
   ],
   "source": [
    "all_idxs = [[vocab.get(word) for word in para] for para in paras]\n",
    "all_idxs[:14]"
   ]
  },
  {
   "cell_type": "code",
   "execution_count": 10,
   "metadata": {},
   "outputs": [
    {
     "data": {
      "text/plain": [
       "[[2269, 10, 2746, 10, 2], [2530, 10, 2269, 10, 2], [2181, 6868, 1212, 10, 2]]"
      ]
     },
     "execution_count": 10,
     "metadata": {},
     "output_type": "execute_result"
    }
   ],
   "source": [
    "random.shuffle(all_idxs)\n",
    "\n",
    "nvalid = 150\n",
    "\n",
    "train_idxs = all_idxs[:-nvalid]\n",
    "valid_idxs = all_idxs[-nvalid:]\n",
    "\n",
    "train_idxs.sort(key=len, reverse=True)\n",
    "valid_idxs.sort(key=len, reverse=True)\n",
    "\n",
    "train_idxs[-3:]"
   ]
  },
  {
   "cell_type": "code",
   "execution_count": 11,
   "metadata": {},
   "outputs": [],
   "source": [
    "class NLGDataset(th.utils.data.Dataset):\n",
    "    def __init__(self, phrases):\n",
    "        super().__init__()\n",
    "        self.phrases = phrases\n",
    "        \n",
    "    def __getitem__(self, idx):\n",
    "        phrase = self.phrases[idx]\n",
    "        return th.as_tensor(phrase), th.as_tensor(len(phrase))\n",
    "    \n",
    "    def __len__(self):\n",
    "        return len(self.phrases)"
   ]
  },
  {
   "cell_type": "code",
   "execution_count": null,
   "metadata": {},
   "outputs": [],
   "source": []
  },
  {
   "cell_type": "code",
   "execution_count": 12,
   "metadata": {},
   "outputs": [],
   "source": [
    "train_data = NLGDataset(train_idxs)\n",
    "valid_data = NLGDataset(valid_idxs)"
   ]
  },
  {
   "cell_type": "code",
   "execution_count": null,
   "metadata": {},
   "outputs": [],
   "source": []
  },
  {
   "cell_type": "code",
   "execution_count": 13,
   "metadata": {},
   "outputs": [
    {
     "data": {
      "text/plain": [
       "(tensor([2181, 6868, 1212,   10,    2]), tensor(5))"
      ]
     },
     "execution_count": 13,
     "metadata": {},
     "output_type": "execute_result"
    }
   ],
   "source": [
    "train_data[-1]"
   ]
  },
  {
   "cell_type": "code",
   "execution_count": null,
   "metadata": {},
   "outputs": [],
   "source": []
  },
  {
   "cell_type": "code",
   "execution_count": 14,
   "metadata": {},
   "outputs": [],
   "source": [
    "class LanguageModel(th.nn.Module):\n",
    "    def __init__(self, vocab_size, embed_dim, nhidden):\n",
    "        super().__init__()\n",
    "        \n",
    "        self.vocab_size = vocab_size\n",
    "        self.embed_dim = embed_dim\n",
    "        self.nhidden = nhidden\n",
    "        \n",
    "        self.embed = th.nn.Embedding(\n",
    "            num_embeddings=self.vocab_size,\n",
    "            embedding_dim=self.embed_dim,\n",
    "            padding_idx=IndexVocab.pad_idx)\n",
    "        \n",
    "        self.initial_state = th.nn.Parameter(\n",
    "            th.empty(1, self.nhidden),\n",
    "            requires_grad=True)\n",
    "        th.nn.init.xavier_uniform_(self.initial_state)\n",
    "        \n",
    "        self.hidden = th.nn.RNN(\n",
    "            input_size=self.embed_dim,\n",
    "            hidden_size=self.nhidden)\n",
    "        \n",
    "        self.visible = th.nn.Linear(\n",
    "            in_features=self.nhidden,\n",
    "            out_features=self.vocab_size)\n",
    "        \n",
    "    def forward(self, idxs, lens, state=None):\n",
    "        assert idxs.ndim == 2\n",
    "        max_len = idxs.shape[0]\n",
    "        batch_size = idxs.shape[1]\n",
    "        \n",
    "        assert lens.ndim == 1\n",
    "        assert lens.shape[0] == batch_size\n",
    "        \n",
    "        word_vectors = self.embed(idxs)\n",
    "        \n",
    "        assert word_vectors.ndim == 3\n",
    "        assert word_vectors.shape[0] == max_len\n",
    "        assert word_vectors.shape[1] == batch_size\n",
    "        assert word_vectors.shape[2] == self.embed_dim\n",
    "        \n",
    "        if state is None:\n",
    "            state = self.initial_state[None, ...].repeat(1, batch_size, 1)\n",
    "        \n",
    "        packed_word_vectors = th.nn.utils.rnn.pack_padded_sequence(word_vectors, lens)\n",
    "        packed_hidden_out, final_state = self.hidden(packed_word_vectors, hx=state)\n",
    "        hidden_out, _ = th.nn.utils.rnn.pad_packed_sequence(packed_hidden_out)\n",
    "        \n",
    "        assert hidden_out.ndim == 3\n",
    "        assert hidden_out.shape[0] == max_len\n",
    "        assert hidden_out.shape[1] == batch_size\n",
    "        assert hidden_out.shape[2] == self.nhidden\n",
    "        \n",
    "        visible_out = self.visible(hidden_out)\n",
    "        assert visible_out.ndim == 3\n",
    "        assert visible_out.shape[0] == max_len\n",
    "        assert visible_out.shape[1] == batch_size\n",
    "        assert visible_out.shape[2] == self.vocab_size\n",
    "        \n",
    "        return visible_out, final_state\n",
    "    \n",
    "    def labels(self, idxs, lens, state=None):\n",
    "        preds, final_state = self(idxs, lens, state=state)\n",
    "        return th.argmax(preds, dim=2), final_state\n",
    "    \n",
    "    @th.no_grad()\n",
    "    def iterate(self, seed_idxs, max_words=64):\n",
    "        seed_idxs = seed_idxs[:, None]\n",
    "        \n",
    "        one_len = th.ones(1, dtype=th.int64)\n",
    "                \n",
    "        # initial predictions of seed words\n",
    "        init_idxs, state = self.labels(\n",
    "            seed_idxs, th.as_tensor(seed_idxs.shape[0])[None,])\n",
    "                \n",
    "        # list of new predictions, start with first seedword\n",
    "        new_idxs = [seed_idxs,]\n",
    "        \n",
    "        # current prediction, starts with last seedword prediction\n",
    "        idxs = init_idxs[-1][None, :]\n",
    "        for i in range(max_words):\n",
    "            idxs, state = self.labels(\n",
    "                idxs, th.as_tensor(idxs.shape[0])[None,], state=state)\n",
    "            \n",
    "            new_idxs.append(idxs)\n",
    "            \n",
    "            if idxs[0][0].item() == IndexVocab.end_idx:\n",
    "                break\n",
    "                \n",
    "        return th.cat(new_idxs)"
   ]
  },
  {
   "cell_type": "code",
   "execution_count": null,
   "metadata": {},
   "outputs": [],
   "source": []
  },
  {
   "cell_type": "code",
   "execution_count": 15,
   "metadata": {},
   "outputs": [],
   "source": [
    "def collate(data):\n",
    "    phrases, lens = zip(*data)\n",
    "    return th.nn.utils.rnn.pad_sequence(phrases), th.stack(lens)"
   ]
  },
  {
   "cell_type": "code",
   "execution_count": 16,
   "metadata": {},
   "outputs": [],
   "source": [
    "train_loader = th.utils.data.DataLoader(train_data, batch_size=3, collate_fn=collate)"
   ]
  },
  {
   "cell_type": "code",
   "execution_count": 17,
   "metadata": {},
   "outputs": [],
   "source": [
    "def train(model, train_data, valid_data, epochs=30, batch_size=16, learning_rate=0.0015, use_gpu=False):\n",
    "    if use_gpu:\n",
    "        model = model.cuda()\n",
    "    model.train()\n",
    "    \n",
    "    result = munch.Munch({\n",
    "        'train_losses': [],\n",
    "        'valid_losses': [],\n",
    "    })\n",
    "    \n",
    "    train_loader = th.utils.data.DataLoader(\n",
    "        train_data,\n",
    "        batch_size=batch_size,\n",
    "        collate_fn=collate)\n",
    "    \n",
    "    valid_loader = th.utils.data.DataLoader(\n",
    "        valid_data,\n",
    "        batch_size=batch_size,\n",
    "        collate_fn=collate)\n",
    "    \n",
    "    loss_func = th.nn.CrossEntropyLoss(reduction='mean')\n",
    "    \n",
    "    optimizer = th.optim.Adam(\n",
    "        filter(lambda param: param.requires_grad, model.parameters()),\n",
    "        lr=learning_rate)\n",
    "    \n",
    "    result.best_valid_loss = float('inf')\n",
    "    result.best_epoch = 0.0\n",
    "    best_weights = None\n",
    "        \n",
    "    for epoch in range(epochs):\n",
    "        train_losses = []\n",
    "        for idxs, lens in train_loader:\n",
    "            if use_gpu:\n",
    "                idxs = idxs.cuda()\n",
    "                lens = lens.cuda()\n",
    "            \n",
    "            optimizer.zero_grad()\n",
    "            \n",
    "            preds, _final_state = model(idxs[:-1], lens - 1)\n",
    "            targs = idxs[1:]\n",
    "            \n",
    "            loss = loss_func(\n",
    "                preds.view(-1, preds.shape[-1]),\n",
    "                targs.view(-1))\n",
    "            \n",
    "            loss.backward()\n",
    "            optimizer.step()\n",
    "            \n",
    "            train_losses.append(loss.item())\n",
    "            \n",
    "            \n",
    "        result.train_losses.append(\n",
    "            sum(train_losses) / len(train_losses))\n",
    "        \n",
    "        valid_losses = []\n",
    "        for idxs, lens in valid_loader:\n",
    "            if use_gpu:\n",
    "                idxs = idxs.cuda()\n",
    "                lens = lens.cuda()\n",
    "            \n",
    "            with th.no_grad():\n",
    "                preds, _final_state = model(idxs[:-1], lens - 1)\n",
    "                targs = idxs[1:]\n",
    "            \n",
    "                loss = loss_func(\n",
    "                    preds.view(-1, preds.shape[-1]),\n",
    "                    targs.view(-1))\n",
    "            \n",
    "            valid_losses.append(loss.item())\n",
    "            \n",
    "        result.valid_losses.append(\n",
    "            sum(valid_losses) / len(valid_losses))\n",
    "        \n",
    "        if epoch % 32 == 0:\n",
    "            print(epoch, 'train_loss:', result.train_losses[-1])\n",
    "            print(epoch, 'valid_loss:', result.valid_losses[-1])\n",
    "\n",
    "        if result.valid_losses[-1] < result.best_valid_loss:\n",
    "            #print('best:', epoch)\n",
    "            result.best_valid_loss = result.valid_losses[-1]\n",
    "            result.best_epoch = epoch\n",
    "            \n",
    "            best_weights = model.state_dict()\n",
    "\n",
    "    model.load_state_dict(best_weights)        \n",
    "    \n",
    "    if use_gpu:\n",
    "        model = model.cpu()\n",
    "    model.eval()\n",
    "    \n",
    "    return result"
   ]
  },
  {
   "cell_type": "code",
   "execution_count": null,
   "metadata": {},
   "outputs": [],
   "source": []
  },
  {
   "cell_type": "code",
   "execution_count": 18,
   "metadata": {},
   "outputs": [],
   "source": [
    "model = LanguageModel(\n",
    "    vocab_size=len(vocab),\n",
    "    embed_dim=24,\n",
    "    nhidden=48)"
   ]
  },
  {
   "cell_type": "code",
   "execution_count": null,
   "metadata": {},
   "outputs": [],
   "source": []
  },
  {
   "cell_type": "code",
   "execution_count": 19,
   "metadata": {},
   "outputs": [
    {
     "name": "stdout",
     "output_type": "stream",
     "text": [
      "0 train_loss: 7.73249702226548\n",
      "0 valid_loss: 7.053115248680115\n",
      "32 train_loss: 4.227978978838239\n",
      "32 valid_loss: 5.468559145927429\n",
      "64 train_loss: 3.5222068145161582\n",
      "64 valid_loss: 5.043928921222687\n",
      "96 train_loss: 3.0616399333590554\n",
      "96 valid_loss: 4.683694779872894\n",
      "128 train_loss: 2.7963265549568903\n",
      "128 valid_loss: 4.414904177188873\n",
      "160 train_loss: 2.5197512209415436\n",
      "160 valid_loss: 4.074554622173309\n",
      "192 train_loss: 2.35137040132568\n",
      "192 valid_loss: 3.8836010694503784\n",
      "224 train_loss: 2.234189971571877\n",
      "224 valid_loss: 3.801573693752289\n",
      "256 train_loss: 2.1587909772282554\n",
      "256 valid_loss: 3.811968743801117\n",
      "288 train_loss: 2.102191862605867\n",
      "288 valid_loss: 3.859937906265259\n",
      "320 train_loss: 2.0493033812159585\n",
      "320 valid_loss: 3.903241515159607\n",
      "352 train_loss: 2.0152155118329182\n",
      "352 valid_loss: 3.9966273307800293\n",
      "384 train_loss: 1.9841538866360982\n",
      "384 valid_loss: 4.082005620002747\n",
      "416 train_loss: 1.9628632494381495\n",
      "416 valid_loss: 4.107345402240753\n",
      "448 train_loss: 1.9421437240782238\n",
      "448 valid_loss: 4.1503570675849915\n",
      "480 train_loss: 1.922753101303464\n",
      "480 valid_loss: 4.231114089488983\n"
     ]
    }
   ],
   "source": [
    "result = train(model, train_data, valid_data, epochs=512, batch_size=48)"
   ]
  },
  {
   "cell_type": "code",
   "execution_count": 30,
   "metadata": {},
   "outputs": [
    {
     "data": {
      "text/plain": [
       "['beware',\n",
       " 'the',\n",
       " 'ides',\n",
       " 'this',\n",
       " ',',\n",
       " 'and',\n",
       " 'perhaps',\n",
       " 'plundge',\n",
       " 'pluckt',\n",
       " 'collected',\n",
       " 'bodie',\n",
       " 'eye',\n",
       " 'burnes',\n",
       " '.',\n",
       " 'enter',\n",
       " 'antony',\n",
       " '.',\n",
       " '<end>']"
      ]
     },
     "execution_count": 30,
     "metadata": {},
     "output_type": "execute_result"
    }
   ],
   "source": [
    "seed_words = ['beware', 'the', 'ides',]\n",
    "seed_idxs = th.as_tensor([vocab.get(word) for word in seed_words])\n",
    "\n",
    "iter_preds = model.iterate(seed_idxs)\n",
    "[vocab.reverse[word.item()] for word in iter_preds]"
   ]
  },
  {
   "cell_type": "code",
   "execution_count": 29,
   "metadata": {},
   "outputs": [
    {
     "data": {
      "text/plain": [
       "['she', 'is', 'of', ',', 'who', \"'\", 's', 'follow', 'him', '.', '<end>']"
      ]
     },
     "execution_count": 29,
     "metadata": {},
     "output_type": "execute_result"
    }
   ],
   "source": [
    "seed_words = ['she', 'is', 'of']\n",
    "seed_idxs = th.as_tensor([vocab.get(word) for word in seed_words])\n",
    "\n",
    "iter_preds = model.iterate(seed_idxs)\n",
    "[vocab.reverse[word.item()] for word in iter_preds]"
   ]
  },
  {
   "cell_type": "code",
   "execution_count": null,
   "metadata": {},
   "outputs": [],
   "source": []
  },
  {
   "cell_type": "code",
   "execution_count": 28,
   "metadata": {},
   "outputs": [
    {
     "data": {
      "text/plain": [
       "['i', 'haue', 'it', 'selfe', 'a', 'roman', 'off', '.', '<end>']"
      ]
     },
     "execution_count": 28,
     "metadata": {},
     "output_type": "execute_result"
    }
   ],
   "source": [
    "seed_words = ['i', 'haue',]\n",
    "seed_idxs = th.as_tensor([vocab.get(word) for word in seed_words])\n",
    "\n",
    "iter_preds = model.iterate(seed_idxs)\n",
    "[vocab.reverse[word.item()] for word in iter_preds]"
   ]
  },
  {
   "cell_type": "code",
   "execution_count": 22,
   "metadata": {},
   "outputs": [
    {
     "data": {
      "image/png": "[encoded data removed]",
      "text/plain": [
       "<Figure size 648x576 with 1 Axes>"
      ]
     },
     "metadata": {
      "needs_background": "light"
     },
     "output_type": "display_data"
    }
   ],
   "source": [
    "plt.plot(result.train_losses, linewidth=2, label='train');\n",
    "plt.plot(result.valid_losses, linewidth=2, label='valid');\n",
    "plt.scatter(\n",
    "    (result.best_epoch,), (result.valid_losses[result.best_epoch],),\n",
    "    linewidth=3, s=200, marker='x', color='red', label='best')\n",
    "plt.legend();\n",
    "plt.xlabel('Epoch');\n",
    "plt.ylabel('Mean Loss');\n",
    "plt.grid();"
   ]
  },
  {
   "cell_type": "code",
   "execution_count": 23,
   "metadata": {},
   "outputs": [
    {
     "data": {
      "text/plain": [
       "tensor([ 0.4414, -1.0238,  0.3816,  0.7942,  0.2409,  0.6877, -0.3190,  0.3703,\n",
       "        -0.0283, -0.5532,  0.3193,  0.1219, -0.1753,  0.0414,  0.2469,  0.2542,\n",
       "         0.1744,  0.3157,  0.7874, -0.1048, -0.6390, -0.1800,  0.2171, -0.3694,\n",
       "         0.7874, -0.0944, -0.3864, -0.6245,  0.2039, -0.5354,  0.5815, -0.5056,\n",
       "         0.6935,  0.3151,  0.8126, -0.6834, -0.5879, -0.2256, -0.7870,  0.3433,\n",
       "        -0.3653,  0.2966, -0.2537, -0.2793, -0.2640, -0.5185, -0.4232,  0.0319])"
      ]
     },
     "execution_count": 23,
     "metadata": {},
     "output_type": "execute_result"
    }
   ],
   "source": [
    "model.initial_state.detach().squeeze()"
   ]
  },
  {
   "cell_type": "code",
   "execution_count": 24,
   "metadata": {},
   "outputs": [
    {
     "data": {
      "image/png": "[encoded data removed]",
      "text/plain": [
       "<Figure size 648x576 with 1 Axes>"
      ]
     },
     "metadata": {
      "needs_background": "light"
     },
     "output_type": "display_data"
    }
   ],
   "source": [
    "init_state = model.initial_state.detach().squeeze()\n",
    "plt.bar(range(len(init_state)), init_state, width=1);\n",
    "plt.xlabel('Index');\n",
    "plt.ylabel('Initial State Value');\n",
    "plt.autoscale(tight=True);"
   ]
  },
  {
   "cell_type": "code",
   "execution_count": null,
   "metadata": {},
   "outputs": [],
   "source": []
  }
 ],
 "metadata": {
  "kernelspec": {
   "display_name": "Python 3",
   "language": "python",
   "name": "python3"
  },
  "language_info": {
   "codemirror_mode": {
    "name": "ipython",
    "version": 3
   },
   "file_extension": ".py",
   "mimetype": "text/x-python",
   "name": "python",
   "nbconvert_exporter": "python",
   "pygments_lexer": "ipython3",
   "version": "3.8.6"
  }
 },
 "nbformat": 4,
 "nbformat_minor": 2
}
