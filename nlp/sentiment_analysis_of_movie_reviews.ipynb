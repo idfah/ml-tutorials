{
 "cells": [
  {
   "cell_type": "markdown",
   "metadata": {},
   "source": [
    "## Sentiment Analysis on Movie Reviews\n",
    "\n",
    "The Sentiment Analysis on Movie reviews dataset is a text classification dataset that aims to predict whether movie reviews have positive or negative sentiment.  In the field of Natural Language Processing (NLP) this type of task is known as sentiment analysis."
   ]
  },
  {
   "cell_type": "code",
   "execution_count": 1,
   "metadata": {},
   "outputs": [],
   "source": [
    "import collections, itertools\n",
    "import munch, csv\n",
    "\n",
    "import torch as th\n",
    "import torch.utils.data\n",
    "import numpy as np\n",
    "\n",
    "import matplotlib\n",
    "import matplotlib.pyplot as plt\n",
    "%matplotlib inline\n",
    "matplotlib.rcParams['figure.figsize'] = (9, 8)"
   ]
  },
  {
   "cell_type": "markdown",
   "metadata": {},
   "source": [
    "This dataset is provided by the Rotten Tomateos movie review website and can be downloaded from [Kaggle](https://www.kaggle.com/c/sentiment-analysis-on-movie-reviews/data).  The data is provided as a TSV (tab-separated values) file.  The training data consists of a phrase id, sentence id, phrase text, and a sentiment label ranging from 0-4 with zero being negative sentiment and two being neutral and four being positive.  The phrase text for each example is already tokenized with whitespace separating text word token, as shown below."
   ]
  },
  {
   "cell_type": "code",
   "execution_count": 2,
   "metadata": {},
   "outputs": [
    {
     "name": "stdout",
     "output_type": "stream",
     "text": [
      "Downloading sentiment-analysis-on-movie-reviews.zip to /home/idfah/projects/notebooks/nlp\n",
      "\n",
      "/home/idfah/projects/notebooks/nlp/sentiment-analysis-on-movie-reviews\n",
      "~/projects/notebooks/nlp/sentiment-analysis-on-movie-reviews ~/projects/notebooks/nlp\n",
      "Archive:  sentiment-analysis-on-movie-reviews.zip\n",
      "  inflating: sampleSubmission.csv    \n",
      "  inflating: test.tsv.zip            \n",
      "  inflating: train.tsv.zip           \n",
      "Archive:  train.tsv.zip\n",
      "  inflating: train.tsv               \n",
      "Archive:  test.tsv.zip\n",
      "  inflating: test.tsv                \n",
      "~/projects/notebooks/nlp\n"
     ]
    },
    {
     "name": "stderr",
     "output_type": "stream",
     "text": [
      "\r",
      "  0%|          | 0.00/1.90M [00:00<?, ?B/s]\r",
      " 53%|█████▎    | 1.00M/1.90M [00:00<00:00, 8.34MB/s]\r",
      "100%|██████████| 1.90M/1.90M [00:00<00:00, 9.45MB/s]\n"
     ]
    }
   ],
   "source": [
    "%%bash\n",
    "kaggle competitions download -c sentiment-analysis-on-movie-reviews\n",
    "mkdir -p sentiment-analysis-on-movie-reviews\n",
    "mv sentiment-analysis-on-movie-reviews.zip sentiment-analysis-on-movie-reviews/\n",
    "\n",
    "pushd sentiment-analysis-on-movie-reviews\n",
    "unzip -o sentiment-analysis-on-movie-reviews.zip\n",
    "unzip -o train.tsv.zip\n",
    "unzip -o test.tsv.zip\n",
    "popd"
   ]
  },
  {
   "cell_type": "code",
   "execution_count": null,
   "metadata": {},
   "outputs": [],
   "source": []
  },
  {
   "cell_type": "code",
   "execution_count": 3,
   "metadata": {},
   "outputs": [
    {
     "name": "stdout",
     "output_type": "stream",
     "text": [
      "PhraseId\tSentenceId\tPhrase\tSentiment\n",
      "1\t1\tA series of escapades demonstrating the adage that what is good for the goose is also good for the gander , some of which occasionally amuses but none of which amounts to much of a story .\t1\n",
      "2\t1\tA series of escapades demonstrating the adage that what is good for the goose\t2\n",
      "3\t1\tA series\t2\n",
      "4\t1\tA\t2\n",
      "5\t1\tseries\t2\n",
      "6\t1\tof escapades demonstrating the adage that what is good for the goose\t2\n",
      "7\t1\tof\t2\n",
      "8\t1\tescapades demonstrating the adage that what is good for the goose\t2\n",
      "9\t1\tescapades\t2\n",
      "10\t1\tdemonstrating the adage that what is good for the goose\t2\n",
      "11\t1\tdemonstrating the adage\t2\n"
     ]
    }
   ],
   "source": [
    "%%bash\n",
    "head -12 sentiment-analysis-on-movie-reviews/train.tsv"
   ]
  },
  {
   "cell_type": "markdown",
   "metadata": {},
   "source": [
    "Let's also put the sentiment labels for each class in a dictionary for easy reference."
   ]
  },
  {
   "cell_type": "code",
   "execution_count": 4,
   "metadata": {},
   "outputs": [
    {
     "data": {
      "text/plain": [
       "{0: 'negative',\n",
       " 1: 'somewhat negative',\n",
       " 2: 'neutral',\n",
       " 3: 'somewhat positive',\n",
       " 4: 'positive'}"
      ]
     },
     "execution_count": 4,
     "metadata": {},
     "output_type": "execute_result"
    }
   ],
   "source": [
    "sentiment_labels = {number: label for number, label in\n",
    "    ((0, 'negative'),\n",
    "     (1, 'somewhat negative'),\n",
    "     (2, 'neutral'),\n",
    "     (3, 'somewhat positive'),\n",
    "     (4, 'positive'))\n",
    "}\n",
    "\n",
    "sentiment_labels"
   ]
  },
  {
   "cell_type": "markdown",
   "metadata": {},
   "source": [
    "In addition to the training data, we will also leverage CBOW word vectors trained using wikipedia, [as described in this previous notebook on word embeddings with GenSim](word_embeddings_with_gensim_word2vec.ipynb).  A word embedding attempts to form a compact representation of a large vocabulary in in terms of relatively low dimensional word vectors, that aim to capture semantic relationships.  In other words, words with similar meaning are nearby."
   ]
  },
  {
   "cell_type": "code",
   "execution_count": null,
   "metadata": {},
   "outputs": [],
   "source": []
  },
  {
   "cell_type": "markdown",
   "metadata": {},
   "source": [
    "In order to map each word in the data to a word vector, we first need to establish a vocabulary of all acceptable words and a method for mapping each word to a unique integer index.  This index will be used to look up the corresponding word vector.\n",
    "\n",
    "In order to achieve this, we create a simple `IndexVocab` class that assigns a unique integer to each word represented by a list of strings."
   ]
  },
  {
   "cell_type": "code",
   "execution_count": 5,
   "metadata": {},
   "outputs": [],
   "source": [
    "class IndexVocab:\n",
    "    '''Vocabulary that maps string words to unique integer identifiers.'''\n",
    "    \n",
    "    # special character and index for padding\n",
    "    # we also use this for words that are out-of-vocab (unknown)\n",
    "    # but should really have a separate special token\n",
    "    # we could also have a special token for numerical digits\n",
    "    # or other tokens that should be handled in a special way\n",
    "    pad, unk, num = '<pad>', '<unk>', '<num>'\n",
    "    special = (pad, unk, num)\n",
    "    \n",
    "    special_idx = range(len(special))\n",
    "    pad_idx, unk_idx, num_idx = special_idx\n",
    "    \n",
    "    def __init__(self, words):\n",
    "        '''Create a new vocabular that maps string words to unique integer identifiers.'''\n",
    "        # factory function to create new indices\n",
    "        def idx_factory():\n",
    "            idx, idx_factory.idx = idx_factory.idx, idx_factory.idx + 1\n",
    "            return idx\n",
    "        idx_factory.idx = 0\n",
    "        \n",
    "        # using `defaultdict`, we can just iterate over all words\n",
    "        # and the factory will initialize the indices\n",
    "        vocab = collections.defaultdict(idx_factory)\n",
    "        for word in itertools.chain(self.special, words):\n",
    "            vocab[word]\n",
    "\n",
    "        # cast to dictionary\n",
    "        self.vocab = dict(vocab)\n",
    "        \n",
    "        # save the reverse map\n",
    "        self.reverse = {idx: word for word, idx in self.vocab.items()}\n",
    "        \n",
    "    def get(self, word):\n",
    "        '''Get the index corresponding to a given word.'''\n",
    "        if word.isdigit():\n",
    "            return self.num_idx\n",
    "        \n",
    "        return self.vocab.get(word, self.unk_idx)\n",
    "        \n",
    "    def __getitem__(self, word):\n",
    "        '''Get the index corresponding to a given word.'''\n",
    "        return self.get(word)\n",
    "    \n",
    "    def __len__(self):\n",
    "        '''Number of words in this vocabulary.'''\n",
    "        return len(self.vocab)"
   ]
  },
  {
   "cell_type": "markdown",
   "metadata": {},
   "source": [
    "In the example below, we can see that our `IndexVocab` class assigns a unique integer to each word while squashing duplicates."
   ]
  },
  {
   "cell_type": "code",
   "execution_count": 6,
   "metadata": {},
   "outputs": [
    {
     "data": {
      "text/plain": [
       "{'<pad>': 0, '<unk>': 1, '<num>': 2, 'hello': 3, 'world': 4, '!': 5}"
      ]
     },
     "execution_count": 6,
     "metadata": {},
     "output_type": "execute_result"
    }
   ],
   "source": [
    "vocab = IndexVocab(('hello', 'hello', 'world', '!'))\n",
    "vocab.vocab"
   ]
  },
  {
   "cell_type": "markdown",
   "metadata": {},
   "source": [
    "Also, we have a special character called `<pad>` that we use both for padding and for out-of-vocab (unknown) words.\n",
    "\n",
    "We really should have seperate special words for \"unkown\" and other special cases, but leave this as an exercise for the reader."
   ]
  },
  {
   "cell_type": "code",
   "execution_count": 7,
   "metadata": {},
   "outputs": [
    {
     "data": {
      "text/plain": [
       "(1, '<unk>')"
      ]
     },
     "execution_count": 7,
     "metadata": {},
     "output_type": "execute_result"
    }
   ],
   "source": [
    "vocab['junk'], vocab.reverse[vocab['junk']]"
   ]
  },
  {
   "cell_type": "code",
   "execution_count": null,
   "metadata": {},
   "outputs": [],
   "source": []
  },
  {
   "cell_type": "code",
   "execution_count": 8,
   "metadata": {},
   "outputs": [],
   "source": [
    "def load_word_embedding_weights(filename, standardize=True):\n",
    "    '''Load a word vectors file.\n",
    "    \n",
    "    Args:\n",
    "        filename:  str\n",
    "            The downloaded GloVe word vectors file.\n",
    "        standardize:\n",
    "            If `True` (default) word vectors will be standardized\n",
    "            to have zero mean and unit variance.\n",
    "    \n",
    "    Returns:\n",
    "        tuple(IndexVocab, th.Tensor(vocab_size, embed_size, dtype=th.int64))\n",
    "            The vocabular that maps strings to word indices and the\n",
    "            corresponding word embedding matrix.\n",
    "    '''\n",
    "    words = []\n",
    "    word_vectors = []\n",
    "    \n",
    "    # open the plain-text file with utf8 encoding\n",
    "    with open(filename, mode='r', encoding='utf8') as fh:\n",
    "        for line in fh:\n",
    "            # split each line by whitespace\n",
    "            line = line.strip().split()\n",
    "            \n",
    "            # first element is the string word\n",
    "            words.append(line[0])\n",
    "            \n",
    "            # remaining elements are the float values\n",
    "            word_vectors.append(\n",
    "                th.tensor([float(v) for v in line[1:]]))\n",
    "\n",
    "    # stack word vectors into a single tensor\n",
    "    word_vectors = th.stack(word_vectors)\n",
    "\n",
    "    # standardize if requested\n",
    "    if standardize:\n",
    "        word_vectors -= word_vectors.mean(0)\n",
    "        word_vectors /= word_vectors.std(0)\n",
    "    \n",
    "    # padding char is hard-coded to first element and is all zeros\n",
    "    words.insert(0, IndexVocab.pad)\n",
    "    word_vectors = th.cat((th.zeros_like(word_vectors[0])[None, :], word_vectors))\n",
    "    \n",
    "    # create the vocab\n",
    "    vocab = IndexVocab(words)\n",
    "    assert len(vocab) == word_vectors.shape[0]\n",
    "    \n",
    "    return vocab, word_vectors"
   ]
  },
  {
   "cell_type": "markdown",
   "metadata": {},
   "source": [
    "Now, we can load our vocabulary and the corresponding word embedding."
   ]
  },
  {
   "cell_type": "code",
   "execution_count": 9,
   "metadata": {},
   "outputs": [
    {
     "data": {
      "text/plain": [
       "147822"
      ]
     },
     "execution_count": 9,
     "metadata": {},
     "output_type": "execute_result"
    }
   ],
   "source": [
    "vocab, word_embed_weights = load_word_embedding_weights('wikipedia-cbow-128d-150k.txt')\n",
    "len(vocab)"
   ]
  },
  {
   "cell_type": "code",
   "execution_count": null,
   "metadata": {},
   "outputs": [],
   "source": []
  },
  {
   "cell_type": "code",
   "execution_count": 10,
   "metadata": {},
   "outputs": [
    {
     "data": {
      "text/plain": [
       "tensor([[ 0.0000,  0.0000,  0.0000,  0.0000,  0.0000,  0.0000,  0.0000,  0.0000,\n",
       "          0.0000,  0.0000,  0.0000,  0.0000,  0.0000,  0.0000,  0.0000,  0.0000,\n",
       "          0.0000,  0.0000,  0.0000,  0.0000,  0.0000,  0.0000,  0.0000,  0.0000,\n",
       "          0.0000,  0.0000,  0.0000,  0.0000,  0.0000,  0.0000,  0.0000,  0.0000,\n",
       "          0.0000,  0.0000,  0.0000,  0.0000,  0.0000,  0.0000,  0.0000,  0.0000,\n",
       "          0.0000,  0.0000,  0.0000,  0.0000,  0.0000,  0.0000,  0.0000,  0.0000,\n",
       "          0.0000,  0.0000,  0.0000,  0.0000,  0.0000,  0.0000,  0.0000,  0.0000,\n",
       "          0.0000,  0.0000,  0.0000,  0.0000,  0.0000,  0.0000,  0.0000,  0.0000,\n",
       "          0.0000,  0.0000,  0.0000,  0.0000,  0.0000,  0.0000,  0.0000,  0.0000,\n",
       "          0.0000,  0.0000,  0.0000,  0.0000,  0.0000,  0.0000,  0.0000,  0.0000,\n",
       "          0.0000,  0.0000,  0.0000,  0.0000,  0.0000,  0.0000,  0.0000,  0.0000,\n",
       "          0.0000,  0.0000,  0.0000,  0.0000,  0.0000,  0.0000,  0.0000,  0.0000,\n",
       "          0.0000,  0.0000,  0.0000,  0.0000,  0.0000,  0.0000,  0.0000,  0.0000,\n",
       "          0.0000,  0.0000,  0.0000,  0.0000,  0.0000,  0.0000,  0.0000,  0.0000,\n",
       "          0.0000,  0.0000,  0.0000,  0.0000,  0.0000,  0.0000,  0.0000,  0.0000,\n",
       "          0.0000,  0.0000,  0.0000,  0.0000,  0.0000,  0.0000,  0.0000,  0.0000],\n",
       "        [ 1.8059, -0.4178,  0.1265, -1.9152, -1.0110, -0.5444,  0.5789, -0.2332,\n",
       "         -0.5084,  0.0390, -1.0948, -2.4507, -0.1298, -1.8305, -1.0152,  0.5208,\n",
       "         -0.4954,  1.0220, -1.9723, -0.6902,  3.0171, -3.2523,  0.4540,  1.0998,\n",
       "         -0.0996, -2.1130, -0.0147,  0.1320, -1.8276,  0.4533,  1.2550, -0.5028,\n",
       "          0.2732,  1.7842, -0.3736,  2.0970,  1.3294, -0.0126, -0.5454, -1.2552,\n",
       "         -1.5411, -1.0693, -1.1342,  1.4999,  2.1876, -0.7327,  2.2340, -2.1099,\n",
       "         -0.6050,  0.0684, -0.4652,  0.6464,  0.4299,  0.1841,  0.5154,  1.8734,\n",
       "         -0.9194,  1.1130, -1.3978,  0.6103,  0.2976, -0.4707, -1.8805, -0.1982,\n",
       "         -1.9342,  0.1794,  2.4056,  0.7973, -2.1253, -0.6199, -0.2151,  1.3343,\n",
       "          1.3040,  1.1630,  0.2926, -1.0008,  1.6574,  1.0539,  1.4871, -0.9760,\n",
       "         -0.9464,  1.2190, -2.1491,  0.0111, -0.4391, -0.5468,  0.2371, -0.8856,\n",
       "          0.4014,  3.1842,  0.8596, -0.4918, -2.0247,  1.1897, -2.8122,  0.0583,\n",
       "         -0.2307,  1.3250,  1.6618,  0.2951,  0.0448,  1.0953,  2.1538,  1.3715,\n",
       "         -1.4898,  1.2155, -0.7434, -0.2700,  1.5316,  1.8049,  1.3763,  1.6575,\n",
       "         -0.9005,  0.0208, -1.3229,  0.6643, -1.0537,  0.6082,  1.4314,  0.9884,\n",
       "         -2.1720,  1.8551, -0.9798, -0.4175,  0.6455,  0.6297, -3.6901, -0.3162]])"
      ]
     },
     "execution_count": 10,
     "metadata": {},
     "output_type": "execute_result"
    }
   ],
   "source": [
    "word_embed_weights[0:2]"
   ]
  },
  {
   "cell_type": "code",
   "execution_count": 11,
   "metadata": {},
   "outputs": [
    {
     "data": {
      "text/plain": [
       "tensor([ 5.3677e-07, -4.2111e-07,  3.4161e-07,  1.6040e-08,  8.6482e-07,\n",
       "         2.2223e-06, -1.1812e-07, -3.7771e-07,  2.6307e-06, -2.0629e-07,\n",
       "        -9.5866e-07, -1.4327e-07,  9.5983e-07,  4.3109e-07, -1.1889e-06,\n",
       "         1.0586e-08,  4.0529e-07, -4.1124e-07, -1.8148e-07, -2.8908e-08,\n",
       "        -5.7828e-07, -8.2921e-08,  6.1932e-08, -1.9274e-06, -4.0494e-07,\n",
       "         2.2165e-07,  4.8231e-08,  2.7161e-07,  1.4715e-06, -4.5693e-07,\n",
       "        -4.1261e-07, -1.9318e-07, -2.2081e-08,  3.9164e-07, -2.5066e-06,\n",
       "        -1.6249e-06, -8.3090e-08,  3.0676e-07,  4.1225e-07, -2.2601e-07,\n",
       "        -1.2510e-06,  2.8712e-07, -2.7648e-07, -5.3610e-07, -6.2134e-07,\n",
       "         3.5472e-07, -1.6051e-07, -2.9784e-07,  1.1440e-07,  2.7417e-07,\n",
       "         4.0747e-07,  7.9597e-08,  1.1119e-06,  1.4339e-08, -1.0510e-06,\n",
       "         1.2468e-09,  6.0260e-07, -9.5263e-07, -1.6557e-06,  4.8646e-07,\n",
       "         5.0441e-07, -2.7799e-07,  3.3215e-07,  2.8536e-06,  1.5308e-06,\n",
       "        -9.0457e-07,  2.8456e-08, -3.0684e-07,  2.4482e-06, -3.5073e-07,\n",
       "        -4.5401e-07,  6.5789e-07, -1.0302e-06, -9.7263e-07, -7.5142e-07,\n",
       "         1.3814e-07,  3.7122e-07,  1.7283e-07, -2.7235e-07, -3.5293e-07,\n",
       "         1.1649e-07,  1.5149e-06, -1.1528e-06,  2.0920e-07, -5.9275e-07,\n",
       "        -2.4857e-06, -8.6719e-07, -1.5103e-07,  1.9322e-06, -6.2728e-08,\n",
       "        -4.6894e-08, -3.9319e-07,  1.6423e-06,  7.3205e-07, -7.4846e-08,\n",
       "         2.9246e-07, -1.8084e-07, -4.0151e-07, -1.3989e-07, -7.4219e-07,\n",
       "        -1.0375e-06,  9.0884e-07, -5.5964e-06, -1.7927e-07,  4.5595e-07,\n",
       "         1.9559e-08,  3.7778e-07, -5.5602e-07, -1.4780e-07,  1.7073e-06,\n",
       "        -8.5053e-08,  3.0745e-07,  4.4370e-07, -3.7368e-07,  3.1156e-06,\n",
       "        -1.0608e-06, -6.3417e-07,  1.6295e-07, -1.3442e-08,  2.9990e-07,\n",
       "         1.3808e-06,  2.0404e-06, -8.2204e-08,  8.2934e-08,  1.8130e-07,\n",
       "         6.6718e-07,  9.2577e-07, -1.0587e-06])"
      ]
     },
     "execution_count": 11,
     "metadata": {},
     "output_type": "execute_result"
    }
   ],
   "source": [
    "word_embed_weights.mean(0)"
   ]
  },
  {
   "cell_type": "code",
   "execution_count": 12,
   "metadata": {},
   "outputs": [
    {
     "data": {
      "text/plain": [
       "tensor([1.0000, 1.0000, 1.0000, 1.0000, 1.0000, 1.0000, 1.0000, 1.0000, 1.0000,\n",
       "        1.0000, 1.0000, 1.0000, 1.0000, 1.0000, 1.0000, 1.0000, 1.0000, 1.0000,\n",
       "        1.0000, 1.0000, 1.0000, 1.0000, 1.0000, 1.0000, 1.0000, 1.0000, 1.0000,\n",
       "        1.0000, 1.0000, 1.0000, 1.0000, 1.0000, 1.0000, 1.0000, 1.0000, 1.0000,\n",
       "        1.0000, 1.0000, 1.0000, 1.0000, 1.0000, 1.0000, 1.0000, 1.0000, 1.0000,\n",
       "        1.0000, 1.0000, 1.0000, 1.0000, 1.0000, 1.0000, 1.0000, 1.0000, 1.0000,\n",
       "        1.0000, 1.0000, 1.0000, 1.0000, 1.0000, 1.0000, 1.0000, 1.0000, 1.0000,\n",
       "        1.0000, 1.0000, 1.0000, 1.0000, 1.0000, 1.0000, 1.0000, 1.0000, 1.0000,\n",
       "        1.0000, 1.0000, 1.0000, 1.0000, 1.0000, 1.0000, 1.0000, 1.0000, 1.0000,\n",
       "        1.0000, 1.0000, 1.0000, 1.0000, 1.0000, 1.0000, 1.0000, 1.0000, 1.0000,\n",
       "        1.0000, 1.0000, 1.0000, 1.0000, 1.0000, 1.0000, 1.0000, 1.0000, 1.0000,\n",
       "        1.0000, 1.0000, 1.0000, 1.0000, 1.0000, 1.0000, 1.0000, 1.0000, 1.0000,\n",
       "        1.0000, 1.0000, 1.0000, 1.0000, 1.0000, 1.0000, 1.0000, 1.0000, 1.0000,\n",
       "        1.0000, 1.0000, 1.0000, 1.0000, 1.0000, 1.0000, 1.0000, 1.0000, 1.0000,\n",
       "        1.0000, 1.0000])"
      ]
     },
     "execution_count": 12,
     "metadata": {},
     "output_type": "execute_result"
    }
   ],
   "source": [
    "word_embed_weights.std(0)"
   ]
  },
  {
   "cell_type": "markdown",
   "metadata": {},
   "source": [
    "Now that we have our word embedding taken care of, we can create a PyTorch dataset to load our training and test data.  Note that the dataset only yields the vocab indices and not the full word vectors.  The dataset could easily be too large to fit into memory if we loaded the word vectors for each individual word.  Instead, we will allow PyTorch to quickly look up the words in the word embedding using these indices assigned by our `IndexVocab` (which are just the corresponding rows in the word embedding matrix)."
   ]
  },
  {
   "cell_type": "code",
   "execution_count": null,
   "metadata": {},
   "outputs": [],
   "source": []
  },
  {
   "cell_type": "code",
   "execution_count": 13,
   "metadata": {},
   "outputs": [],
   "source": [
    "class SentimentDataset(th.utils.data.Dataset):\n",
    "    '''Torch dataset for the Kaggle \"sentiment on movie reviews\" challenge.'''\n",
    "    def __init__(self, filename, vocab):\n",
    "        '''Create a new dataset for the Kaggle \"sentiment on movie reviews\" challenge.'''\n",
    "        phrases, labels = [], None\n",
    "\n",
    "        # open training data\n",
    "        with open(filename, mode='r') as fh:\n",
    "            # check if labels are in header\n",
    "            if next(fh).rstrip('\\r\\n').endswith('Sentiment'):\n",
    "                labels = []\n",
    "    \n",
    "            # for each example\n",
    "            for line in csv.reader(fh, delimiter='\\t'):\n",
    "                phrase = line[2].split()\n",
    "                if not phrase:\n",
    "                    continue\n",
    "                    \n",
    "                phrases.append(\n",
    "                    th.tensor([vocab[word.lower()] for word in phrase], dtype=th.int64))\n",
    "                \n",
    "                if labels is not None:\n",
    "                    labels.append(int(line[-1]))\n",
    "\n",
    "        self.phrases = phrases \n",
    "        self.labels = None if labels is None else th.tensor(labels, dtype=th.int64)\n",
    "        \n",
    "    def __getitem__(self, idxs):\n",
    "        '''Get a single phrase and, optionally, it's known label.'''\n",
    "        if self.labels is not None:\n",
    "            return self.phrases[idxs], self.labels[idxs]\n",
    "        else:\n",
    "            return self.phrases[idxs]\n",
    "    \n",
    "    def __len__(self):\n",
    "        '''Number of examples in the datasets.'''\n",
    "        return len(self.phrases)"
   ]
  },
  {
   "cell_type": "markdown",
   "metadata": {},
   "source": [
    "We can then load our training and test data"
   ]
  },
  {
   "cell_type": "code",
   "execution_count": 14,
   "metadata": {},
   "outputs": [
    {
     "data": {
      "text/plain": [
       "(140453, 15606, 66291)"
      ]
     },
     "execution_count": 14,
     "metadata": {},
     "output_type": "execute_result"
    }
   ],
   "source": [
    "train_frac = 0.9\n",
    "\n",
    "all_train_data = SentimentDataset('sentiment-analysis-on-movie-reviews/train.tsv', vocab)\n",
    "\n",
    "train_obs = int(train_frac * len(all_train_data))\n",
    "valid_obs = len(all_train_data) - train_obs\n",
    "\n",
    "train_data, valid_data = th.utils.data.random_split(all_train_data, (train_obs, valid_obs))\n",
    "\n",
    "test_data = SentimentDataset('sentiment-analysis-on-movie-reviews/test.tsv', vocab)\n",
    "\n",
    "len(train_data), len(valid_data), len(test_data)"
   ]
  },
  {
   "cell_type": "code",
   "execution_count": 15,
   "metadata": {},
   "outputs": [
    {
     "data": {
      "text/plain": [
       "[1, 10, 2, 7, 10, 6, 3, 10, 3, 1]"
      ]
     },
     "execution_count": 15,
     "metadata": {},
     "output_type": "execute_result"
    }
   ],
   "source": [
    "[len(train_data[i][0]) for i in range(10)]"
   ]
  },
  {
   "cell_type": "markdown",
   "metadata": {},
   "source": [
    "and verify that looking up an element returns a `th.Tensor` containing the integer indices into our word embedding matrix for each word in a phrase by using the reverse map to restore the original words."
   ]
  },
  {
   "cell_type": "code",
   "execution_count": 16,
   "metadata": {},
   "outputs": [
    {
     "data": {
      "text/plain": [
       "(tensor([82325]), tensor(3))"
      ]
     },
     "execution_count": 16,
     "metadata": {},
     "output_type": "execute_result"
    }
   ],
   "source": [
    "train_data[0]"
   ]
  },
  {
   "cell_type": "code",
   "execution_count": 17,
   "metadata": {},
   "outputs": [
    {
     "data": {
      "text/plain": [
       "['an', 'intermittently', 'pleasing', 'but', 'mostly', 'routine', 'effort', '.']"
      ]
     },
     "execution_count": 17,
     "metadata": {},
     "output_type": "execute_result"
    }
   ],
   "source": [
    "[vocab.reverse.get(idx.item()) for idx in test_data[0]]"
   ]
  },
  {
   "cell_type": "code",
   "execution_count": 18,
   "metadata": {},
   "outputs": [
    {
     "data": {
      "text/plain": [
       "['once',\n",
       " 'you',\n",
       " 'get',\n",
       " 'into',\n",
       " 'its',\n",
       " 'rhythm',\n",
       " '...',\n",
       " 'the',\n",
       " 'movie',\n",
       " 'becomes',\n",
       " 'a',\n",
       " 'heady',\n",
       " 'experience',\n",
       " '.']"
      ]
     },
     "execution_count": 18,
     "metadata": {},
     "output_type": "execute_result"
    }
   ],
   "source": [
    "[vocab.reverse.get(idx.item()) for idx in test_data[93]]"
   ]
  },
  {
   "cell_type": "code",
   "execution_count": null,
   "metadata": {},
   "outputs": [],
   "source": []
  },
  {
   "cell_type": "markdown",
   "metadata": {},
   "source": [
    "## CNN Model\n",
    "\n",
    "We are now ready to build our single-axis Convolutional Neural Network (CNN) model for performing sentiment analysis.  Similar to how two-axis convolutions provide shift invariance when classifying images, single-axis convolutions provide temporal invariance when analyzing text.  In other words, the convolutional kernel is able to learn to identify subsequences of word-tokens that are indicative of a specific class, regardless of where in the phrase those tokens lie.\n",
    "\n",
    "When classifying sequences with varying length, however, we must somehow aggregate the outputs of the convolutions so that we can have a densely connected readout layer with static size (since each phrase may have different length).  One simple way to do this is to take the `.max` along the temporal axis, i.e., the maximum output from each convolutional unit across words.  This is sometimes called a \"global pooling layer.\"  Note that many other strategies are possible for aggregating across words, but that this approach is simple and works well enough for an initial prototype."
   ]
  },
  {
   "cell_type": "code",
   "execution_count": 19,
   "metadata": {},
   "outputs": [],
   "source": [
    "class CNNSentiment(th.nn.Module):\n",
    "    '''A single-axis Convolutional Neural Network (CNN) with a max\n",
    "    global pooling layer for sentiment analysis.\n",
    "    \n",
    "    Input:\n",
    "        idxs:  th.Tensor(batch_size, ntokens, dtype=th.int64)\n",
    "            A batch of phrases where each element is the integer\n",
    "            index into the word embedding.\n",
    "    \n",
    "    Output:\n",
    "        logits:  th.Tensor(batch_size, ncls)\n",
    "            Visible layer outputs before application of the softmax\n",
    "            function.  Larger values indicate a higher predicted\n",
    "            confidence for a given class, i.e., sentiment level.\n",
    "    '''\n",
    "    def __init__(self, embed_weights, ncls, nconvs, nhiddens,\n",
    "                 conv_transfer=th.nn.LeakyReLU, hidden_transfer=th.nn.Tanh):\n",
    "        '''Construct a new single-axis Convolutional Neural Network (CNN) with\n",
    "        a max global pooling layer for sentiment analysis.\n",
    "        \n",
    "        Args:\n",
    "            embed_weights:  th.Tensor(vocab_len, embed_dim, dtype=th.float32)\n",
    "                Matrix of word vectors.  Note that the vocab length and\n",
    "                embedding dimension are inferred from the shape of this matrix.\n",
    "            ncls:\n",
    "                Number of classes, i.e., sentiment levels.\n",
    "            nconvs:  ((int, int), ...)\n",
    "                An n-tuple of 2-tuples of integers representing the shapes\n",
    "                of the convolutional layers.  The network will consist of\n",
    "                n layers each specified as (nunits, kernel_size) where\n",
    "                `nunits` is the number of convolutional filters or units\n",
    "                and where `kernel_size` is the width of the convolution.\n",
    "                Note that all convolutions are across a single axis.\n",
    "            conv_transfer:  th.nn.Module\n",
    "                The transfer function (aka activation function) applied\n",
    "                to each convolutional layer.  Defaults to the Leaky\n",
    "                Rectified Linear Unit, `th.nn.ReLU`.\n",
    "            hidden_transfer:  th.nn.Module\n",
    "                The transfer function (aka activation function) applied\n",
    "                to the densely connected readout layer.  Defaults to\n",
    "                the hyperbolic tangent, `th.nn.Tanh`.\n",
    "        '''\n",
    "        super().__init__()\n",
    "        \n",
    "        self.embed_dim = embed_weights.shape[1]\n",
    "        self.ncls = ncls\n",
    "        self.nconvs = nconvs\n",
    "        self.nhiddens = nhiddens\n",
    "\n",
    "        # initialize word embeddings and set `requires_grad = False` so\n",
    "        # that the weights remain fixed during training\n",
    "        self.word_embed = th.nn.Embedding.from_pretrained(embed_weights)\n",
    "        self.word_embed.weight.requires_grad = False\n",
    "        \n",
    "        # construct the convolutional layers\n",
    "        conv = []\n",
    "        channels_in, channels_out = None, self.embed_dim\n",
    "        for nunits, kernel_size in self.nconvs:\n",
    "            channels_in, channels_out = channels_out, nunits\n",
    "            conv.append(\n",
    "                th.nn.Conv1d(\n",
    "                    channels_in,\n",
    "                    nunits,\n",
    "                    kernel_size=kernel_size,\n",
    "                    padding=kernel_size // 2))\n",
    "            conv.append(conv_transfer())\n",
    "        self.conv = th.nn.Sequential(*conv)\n",
    "\n",
    "        # construct the hidden layers\n",
    "        hidden = []\n",
    "        layer_in, layer_out = None, nunits\n",
    "        for nhidden in self.nhiddens:\n",
    "            layer_in, layer_out = layer_out, nhidden\n",
    "            hidden.append(th.nn.Linear(layer_in, layer_out))\n",
    "            hidden.append(hidden_transfer())\n",
    "        self.hidden = th.nn.Sequential(*hidden)\n",
    "        \n",
    "        # construct the visible readout layer and softmax\n",
    "        # Note: we perform a max global pooling in the\n",
    "        #   forward pass, but no module is necessary\n",
    "        self.visible = th.nn.Linear(layer_out, self.ncls)\n",
    "        self.softmax = th.nn.Softmax(1)\n",
    "    \n",
    "    def forward(self, idxs):\n",
    "        '''Forward pass of CNN classifier.'''\n",
    "        batch_size, ntokens = idxs.shape\n",
    "        \n",
    "        # word vectors are (batch_size, ntokens, embed_dim)\n",
    "        word_vectors = self.word_embed(idxs)\n",
    "        assert len(word_vectors.shape) == 3\n",
    "        assert word_vectors.shape[0] == batch_size\n",
    "        assert word_vectors.shape[1] == ntokens\n",
    "        assert word_vectors.shape[2] == self.embed_dim\n",
    "        \n",
    "        # Conv1D expects (batch_size, embed_dim, ntokens)\n",
    "        # use `.permute` to swap last two dims\n",
    "        # outputs (batch_size, nconv_units, ntokens)\n",
    "        conv_out = self.conv(word_vectors.permute(0, 2, 1))\n",
    "        assert len(conv_out.shape) == 3\n",
    "        assert conv_out.shape[0] == batch_size\n",
    "        assert conv_out.shape[1] == self.nconvs[-1][0]\n",
    "        assert conv_out.shape[2] == ntokens\n",
    "        \n",
    "        # find max response along ntokens dim\n",
    "        # outputs (batch_size, nconv_units)\n",
    "        # Note: use the ordinary PyTorch `.max` function,\n",
    "        #   doesn't have to be a `th.nn.Module`\n",
    "        conv_max, _ = conv_out.max(2)\n",
    "        assert len(conv_max.shape) == 2\n",
    "        assert conv_max.shape[0] == batch_size\n",
    "        assert conv_max.shape[1] == self.nconvs[-1][0]\n",
    "    \n",
    "        # hidden layer outputs (batch_size, nhidden_units)\n",
    "        hidden_out = self.hidden(conv_max)\n",
    "        assert len(hidden_out.shape) == 2\n",
    "        assert hidden_out.shape[0] == batch_size\n",
    "        assert hidden_out.shape[1] == self.nhiddens[-1]\n",
    "        \n",
    "        # visible layer outputs (batch_size, ncls)\n",
    "        visible_out = self.visible(hidden_out)\n",
    "        assert len(visible_out.shape) == 2\n",
    "        assert visible_out.shape[0] == batch_size\n",
    "        assert visible_out.shape[1] == self.ncls\n",
    "        \n",
    "        return visible_out\n",
    "    \n",
    "    def probs(self, idxs):\n",
    "        '''Predicted class membership probabilities for each phrase and class.'''\n",
    "        return self.softmax(self(idxs))\n",
    "    \n",
    "    def labels(self, idxs):\n",
    "        '''Predicted class labels for each phrase and class.'''\n",
    "        return self(idxs).argmax(1)\n",
    "    \n",
    "    def text_labels(self, idxs):\n",
    "        '''Predicted class labels, as a list of text strings, for each phrase.'''\n",
    "        return [sentiment_labels[label.item()] for label in self(idxs).argmax(1)]"
   ]
  },
  {
   "cell_type": "markdown",
   "metadata": {},
   "source": [
    "Another issue that we encounter when working with phrases or sentences is that they all have different lengths.  Unlike when working with images that all have the same size, batches of NLP data often need to be padded in order to fit into a tensor.\n",
    "\n",
    "Fortunately, PyTorch provides several convenient helper functions and hooks in order for us to achieve this.  First of all, the constructor of the `DataLoader` class that we used in our `.train` function to generate batches has an argument called `collate_fn` that takes function as an argument that is used to combine (collate) multiple elements returned by a `th.utils.data.Dataset` class.  We provide a custom `collate_fn` below that can be used to pad the batches into a tensor.  The actual act of padding can be performed by the `th.nn.utils.rnn.pad_sequence` function.  \n",
    "\n",
    "Note that `th.nn.utils.rnn.pad_sequence` function is in the utilities module for Recurrent Neural Networks (RNNs), but is not specific to this network architecture."
   ]
  },
  {
   "cell_type": "code",
   "execution_count": 20,
   "metadata": {},
   "outputs": [],
   "source": [
    "def collate(data):\n",
    "    phrases, labels = zip(*data)\n",
    "    return th.nn.utils.rnn.pad_sequence(phrases).t(), th.tensor(labels, dtype=th.int64)"
   ]
  },
  {
   "cell_type": "markdown",
   "metadata": {},
   "source": [
    "Now that we have our collation function, we can construct a new CNN and train it over our data by simply passing it into the variadic keyword arguments for our `.train` function."
   ]
  },
  {
   "cell_type": "code",
   "execution_count": 21,
   "metadata": {},
   "outputs": [],
   "source": [
    "def train(model, train_data, valid_data, max_epochs=50, batch_size=64,\n",
    "          learning_rate=0.00175, learning_rate_decay=0.99, use_gpu=False, **kwargs):\n",
    "    '''Train a neural network using the `Adam` optimizer.'''\n",
    "    # move to gpu memory if specified\n",
    "    if use_gpu:\n",
    "        model.cuda()\n",
    "    \n",
    "    # use cross-entropy loss for classification\n",
    "    loss_func = th.nn.CrossEntropyLoss(\n",
    "        reduction='mean', ignore_index=IndexVocab.pad_idx)\n",
    "    \n",
    "    # only optimize parameters with `requires_grad=True`, this is only\n",
    "    # necessary because we add an `th.nn.Embedding` module below and later\n",
    "    # set `requires_grad=False`, there is likely a more elegant way to handle this\n",
    "    parameters = list(filter(lambda param: param.requires_grad, model.parameters()))\n",
    "    \n",
    "    # the adam optimizer is a variant of stochastic gradient descent\n",
    "    optimizer = th.optim.Adam(parameters, lr=learning_rate)\n",
    "    \n",
    "    # initialize a data loader over our data set\n",
    "    # iterating over our data loader will yield batches\n",
    "    train_data_loader = th.utils.data.DataLoader(\n",
    "        train_data,\n",
    "        batch_size=batch_size,\n",
    "        shuffle=True,\n",
    "        **kwargs)\n",
    "    \n",
    "    valid_data_loader = th.utils.data.DataLoader(\n",
    "        valid_data,\n",
    "        batch_size=batch_size,\n",
    "        shuffle=False,\n",
    "        **kwargs)\n",
    "    \n",
    "    best_epoch = 0\n",
    "    best_train_loss = np.inf\n",
    "    best_valid_loss = np.inf\n",
    "    best_model_state = None\n",
    "    \n",
    "    # for each epoch\n",
    "    train_losses, valid_losses = [], []\n",
    "    for epoch in range(max_epochs):\n",
    "        # put the network in training mode\n",
    "        model.train()\n",
    "        \n",
    "        # for each batch in the training data\n",
    "        losses = []\n",
    "        for x, labels in train_data_loader:\n",
    "            # zero previous gradient calculations\n",
    "            optimizer.zero_grad()\n",
    "\n",
    "            # forward pass, evaluates our loss function\n",
    "            y = model(x)\n",
    "            loss = loss_func(y, labels)\n",
    "            losses.append(loss.item())\n",
    "            \n",
    "            # backward pass evaluates our gradients\n",
    "            loss.backward()\n",
    "            \n",
    "            # update the network weights using our optimizer\n",
    "            optimizer.step()\n",
    "            \n",
    "        # put the model in evaluation mode\n",
    "        model.eval()\n",
    "        \n",
    "        # training loss averaged across batches\n",
    "        train_losses.append(np.mean(losses))\n",
    "        \n",
    "        # for each batch in the validation data\n",
    "        losses = []\n",
    "        for x, labels in valid_data_loader:\n",
    "            with th.no_grad():\n",
    "                y = model(x)\n",
    "                loss = loss_func(y, labels)\n",
    "                losses.append(loss.item())\n",
    "        \n",
    "        # validation loss averaged across batches\n",
    "        valid_losses.append(np.mean(losses))\n",
    "\n",
    "        # print some metrics\n",
    "        if epoch % 10 == 0:\n",
    "            print(epoch, learning_rate, train_losses[-1], valid_losses[-1])\n",
    "            \n",
    "        if valid_losses[-1] < best_valid_loss:\n",
    "            best_epoch = epoch\n",
    "            best_train_loss = train_losses[-1]\n",
    "            best_valid_loss = valid_losses[-1]\n",
    "            best_model_state = model.state_dict()\n",
    "            \n",
    "         # shrink the learning rate\n",
    "        learning_rate *= learning_rate_decay\n",
    "\n",
    "    # load best state dict\n",
    "    model.load_state_dict(best_model_state)\n",
    "\n",
    "    # copy back to host memory from GPU\n",
    "    if use_gpu:\n",
    "        model.cpu()\n",
    "\n",
    "    return munch.munchify({\n",
    "        'train_losses': train_losses,\n",
    "        'valid_losses': valid_losses,\n",
    "        'best_epoch': best_epoch,\n",
    "        'best_valid_loss': best_valid_loss,\n",
    "        'best_train_loss': best_train_loss,\n",
    "    })"
   ]
  },
  {
   "cell_type": "code",
   "execution_count": 22,
   "metadata": {},
   "outputs": [
    {
     "data": {
      "text/plain": [
       "23269"
      ]
     },
     "execution_count": 22,
     "metadata": {},
     "output_type": "execute_result"
    }
   ],
   "source": [
    "# construct a new `CNNSentiment` classifier\n",
    "cnn_sentiment = CNNSentiment(\n",
    "    embed_weights=word_embed_weights,\n",
    "    ncls=5,\n",
    "    nconvs=((32, 5), (16, 5),),\n",
    "    nhiddens=(8,))\n",
    "\n",
    "# the number of free parameters\n",
    "sum(params.nelement() for params in cnn_sentiment.parameters() if params.requires_grad)"
   ]
  },
  {
   "cell_type": "code",
   "execution_count": 23,
   "metadata": {},
   "outputs": [
    {
     "name": "stdout",
     "output_type": "stream",
     "text": [
      "0 0.00175 1.0424542036923494 0.9281001417867599\n",
      "10 0.001582668631265408 0.70642780195583 0.7902788615995838\n",
      "20 0.0014313371407951535 0.6540405056693337 0.7912822077351231\n",
      "30 0.0012944756534294904 0.6271513811024753 0.8188708174613214\n",
      "40 0.0011707005774969402 0.6097472154010426 0.8140838376937374\n"
     ]
    }
   ],
   "source": [
    "result = train(cnn_sentiment, train_data, valid_data, max_epochs=50,\n",
    "               batch_size=512, collate_fn=collate)"
   ]
  },
  {
   "cell_type": "code",
   "execution_count": 24,
   "metadata": {},
   "outputs": [
    {
     "data": {
      "image/png": "[encoded data removed]",
      "text/plain": [
       "<Figure size 648x576 with 1 Axes>"
      ]
     },
     "metadata": {
      "needs_background": "light"
     },
     "output_type": "display_data"
    }
   ],
   "source": [
    "plt.plot(result.train_losses, linewidth=3, label='Training');\n",
    "plt.plot(result.valid_losses, linewidth=3, label='Validation');\n",
    "plt.scatter(\n",
    "    (result.best_epoch,), (result.best_valid_loss,),\n",
    "    s=200, linewidth=4, marker='x', color='red', label='Best');\n",
    "plt.legend();\n",
    "plt.grid();\n",
    "plt.xlabel('Epoch');\n",
    "plt.ylabel('Loss (Mean Log Likelihood)');"
   ]
  },
  {
   "cell_type": "code",
   "execution_count": 25,
   "metadata": {},
   "outputs": [
    {
     "data": {
      "text/plain": [
       "(['i',\n",
       "  \"'ve\",\n",
       "  'heard',\n",
       "  'that',\n",
       "  'the',\n",
       "  'fans',\n",
       "  'of',\n",
       "  'the',\n",
       "  'first',\n",
       "  'men',\n",
       "  'in',\n",
       "  'black',\n",
       "  'have',\n",
       "  'come',\n",
       "  'away',\n",
       "  'hating',\n",
       "  'the',\n",
       "  'second',\n",
       "  'one',\n",
       "  '.'],\n",
       " ['somewhat negative'])"
      ]
     },
     "execution_count": 25,
     "metadata": {},
     "output_type": "execute_result"
    }
   ],
   "source": [
    "review_idx = np.random.randint(0, len(test_data))\n",
    "[vocab.reverse.get(idx.item()) for idx in test_data[review_idx]], cnn_sentiment.text_labels(test_data[review_idx][None, :])"
   ]
  },
  {
   "cell_type": "code",
   "execution_count": null,
   "metadata": {},
   "outputs": [],
   "source": []
  },
  {
   "cell_type": "code",
   "execution_count": 26,
   "metadata": {},
   "outputs": [
    {
     "data": {
      "text/plain": [
       "['positive', 'somewhat negative', 'neutral']"
      ]
     },
     "execution_count": 26,
     "metadata": {},
     "output_type": "execute_result"
    }
   ],
   "source": [
    "phrases = [\n",
    "    ['i', 'thought', 'the', 'new', 'star', 'wars', 'movie', 'was', 'great', 'and', 'excellent', '!'],\n",
    "    ['movie', 'xyz', 'was', 'terrible', 'and', 'aweful', '!'],\n",
    "    ['that', 'movie', 'was', 'just', 'ok', '.']\n",
    "]\n",
    "phrase_idxs = th.nn.utils.rnn.pad_sequence(\n",
    "    [th.tensor([vocab[word] for word in phrase], dtype=th.int64) for phrase in phrases]).t()\n",
    "\n",
    "cnn_sentiment.text_labels(phrase_idxs)"
   ]
  },
  {
   "cell_type": "code",
   "execution_count": null,
   "metadata": {},
   "outputs": [],
   "source": []
  },
  {
   "cell_type": "markdown",
   "metadata": {},
   "source": [
    "## RNN Model"
   ]
  },
  {
   "cell_type": "code",
   "execution_count": 65,
   "metadata": {},
   "outputs": [],
   "source": [
    "class RNNSentiment(th.nn.Module):\n",
    "    '''A single-axis Convolutional Neural Network (CNN) with a max\n",
    "    global pooling layer for sentiment analysis.\n",
    "    \n",
    "    Input:\n",
    "        idxs:  th.Tensor(batch_size, ntokens, dtype=th.int64)\n",
    "            A batch of phrases where each element is the integer\n",
    "            index into the word embedding.\n",
    "    \n",
    "    Output:\n",
    "        logits:  th.Tensor(batch_size, ncls)\n",
    "            Visible layer outputs before application of the softmax\n",
    "            function.  Larger values indicate a higher predicted\n",
    "            confidence for a given class, i.e., sentiment level.\n",
    "    '''\n",
    "    def __init__(self, embed_weights, ncls, nrecurrent, ndense):\n",
    "        '''Construct a new single-axis Convolutional Neural Network (CNN) with\n",
    "        a max global pooling layer for sentiment analysis.\n",
    "        \n",
    "        Args:\n",
    "            embed_weights:  th.Tensor(vocab_len, embed_dim, dtype=th.float32)\n",
    "                Matrix of word vectors.  Note that the vocab length and\n",
    "                embedding dimension are inferred from the shape of this matrix.\n",
    "            ncls:\n",
    "                Number of classes, i.e., sentiment levels.\n",
    "            nconvs:  ((int, int), ...)\n",
    "                An n-tuple of 2-tuples of integers representing the shapes\n",
    "                of the convolutional layers.  The network will consist of\n",
    "                n layers each specified as (nunits, kernel_size) where\n",
    "                `nunits` is the number of convolutional filters or units\n",
    "                and where `kernel_size` is the width of the convolution.\n",
    "                Note that all convolutions are across a single axis.\n",
    "            conv_transfer:  th.nn.Module\n",
    "                The transfer function (aka activation function) applied\n",
    "                to each convolutional layer.  Defaults to the Leaky\n",
    "                Rectified Linear Unit, `th.nn.ReLU`.\n",
    "            hidden_transfer:  th.nn.Module\n",
    "                The transfer function (aka activation function) applied\n",
    "                to the densely connected readout layer.  Defaults to\n",
    "                the hyperbolic tangent, `th.nn.Tanh`.\n",
    "        '''\n",
    "        super().__init__()\n",
    "        \n",
    "        self.embed_dim = embed_weights.shape[1]\n",
    "        self.ncls = ncls\n",
    "        self.nrecurrent = nrecurrent\n",
    "        self.ndense = ndense\n",
    " \n",
    "        # initialize word embeddings and set `requires_grad = False` so\n",
    "        # that the weights remain fixed during training\n",
    "        self.word_embed = th.nn.Embedding.from_pretrained(embed_weights)\n",
    "        self.word_embed.weight.requires_grad = False\n",
    "                \n",
    "        self.initial_state = th.nn.Parameter(\n",
    "            th.empty(1, self.nrecurrent),\n",
    "            requires_grad=True)\n",
    "        th.nn.init.xavier_uniform_(self.initial_state)\n",
    "        \n",
    "        # construct the convolutional layers\n",
    "        #self.rnn = th.nn.LSTM(self.embed_dim, self.nrecurrent)\n",
    "        self.rnn = th.nn.RNN(self.embed_dim, self.nrecurrent)\n",
    "\n",
    "        self.dense = th.nn.Sequential(\n",
    "            th.nn.Linear(self.nrecurrent, self.ndense),\n",
    "            th.nn.Tanh())\n",
    "        \n",
    "        self.visible = th.nn.Linear(self.ndense, self.ncls)\n",
    "        \n",
    "        self.softmax = th.nn.Softmax(1)\n",
    "    \n",
    "    def forward(self, idxs):\n",
    "        '''Forward pass of RNN classifier.'''\n",
    "        assert isinstance(idxs, th.nn.utils.rnn.PackedSequence)\n",
    "        batch_size = idxs.batch_sizes.max().item()\n",
    "        ntokens = len(idxs.batch_sizes)\n",
    "\n",
    "        assert len(idxs.data.shape) == 1\n",
    "                \n",
    "        # word vectors are packed as (ntokens, batch_size, embed_dim)\n",
    "        word_vectors = th.nn.utils.rnn.PackedSequence(\n",
    "            self.word_embed(idxs.data), idxs.batch_sizes)\n",
    "        assert word_vectors.batch_sizes.max().item() == batch_size\n",
    "        assert len(word_vectors.batch_sizes) == ntokens\n",
    "        assert len(word_vectors.data.shape) == 2\n",
    "        assert word_vectors.data.shape[-1] == self.embed_dim\n",
    "        \n",
    "        initial_state = self.initial_state[None, ...].repeat(1, batch_size, 1)\n",
    "        \n",
    "        #_rnn_out, (state, _cell_state) = self.rnn(norm_vectors)\n",
    "        _rnn_out, state = self.rnn(word_vectors, initial_state)\n",
    "        state = state.squeeze(0)\n",
    "        \n",
    "        # FIXME: this is aweful slow, should handle sorting beforehand\n",
    "        if idxs.unsorted_indices is not None:\n",
    "            state = state[idxs.unsorted_indices]\n",
    "        \n",
    "        assert len(state.shape) == 2\n",
    "        assert state.shape[0] == batch_size\n",
    "        assert state.shape[1] == self.nrecurrent\n",
    "        \n",
    "        dense_out = self.dense(state)\n",
    "        assert len(dense_out.shape) == 2\n",
    "        assert dense_out.shape[0] == batch_size\n",
    "        assert dense_out.shape[1] == self.ndense\n",
    "        \n",
    "        visible_out = self.visible(dense_out)\n",
    "        assert len(visible_out.shape) == 2\n",
    "        assert visible_out.shape[0] == batch_size\n",
    "        assert visible_out.shape[1] == self.ncls\n",
    "        \n",
    "        return visible_out\n",
    "    \n",
    "    def probs(self, idxs):\n",
    "        '''Predicted class membership probabilities for each phrase and class.'''\n",
    "        return self.softmax(self(idxs))\n",
    "    \n",
    "    def labels(self, idxs):\n",
    "        '''Predicted class labels for each phrase and class.'''\n",
    "        return self(idxs).argmax(1)\n",
    "    \n",
    "    def text_labels(self, idxs):\n",
    "        '''Predicted class labels, as a list of text strings, for each phrase.'''\n",
    "        return [sentiment_labels[label.item()] for label in self(idxs).argmax(1)]"
   ]
  },
  {
   "cell_type": "code",
   "execution_count": null,
   "metadata": {},
   "outputs": [],
   "source": []
  },
  {
   "cell_type": "code",
   "execution_count": null,
   "metadata": {},
   "outputs": [],
   "source": []
  },
  {
   "cell_type": "code",
   "execution_count": 66,
   "metadata": {},
   "outputs": [],
   "source": [
    "def collate_packed(data):\n",
    "    phrases, labels = zip(*data)\n",
    "    return th.nn.utils.rnn.pack_sequence(phrases, enforce_sorted=False), th.tensor(labels, dtype=th.int64)"
   ]
  },
  {
   "cell_type": "code",
   "execution_count": null,
   "metadata": {},
   "outputs": [],
   "source": []
  },
  {
   "cell_type": "code",
   "execution_count": 67,
   "metadata": {},
   "outputs": [
    {
     "data": {
      "text/plain": [
       "13045"
      ]
     },
     "execution_count": 67,
     "metadata": {},
     "output_type": "execute_result"
    }
   ],
   "source": [
    "rnn_sentiment = RNNSentiment(\n",
    "    embed_weights=word_embed_weights,\n",
    "    ncls=5,\n",
    "    nrecurrent=64,\n",
    "    ndense=8)\n",
    "\n",
    "# the number of free parameters\n",
    "sum(params.nelement() for params in rnn_sentiment.parameters() if params.requires_grad)"
   ]
  },
  {
   "cell_type": "code",
   "execution_count": null,
   "metadata": {},
   "outputs": [],
   "source": []
  },
  {
   "cell_type": "code",
   "execution_count": 68,
   "metadata": {},
   "outputs": [
    {
     "name": "stdout",
     "output_type": "stream",
     "text": [
      "0 0.00175 1.0979932637648149 0.9370263391925443\n"
     ]
    }
   ],
   "source": [
    "result = train(rnn_sentiment, train_data, valid_data, max_epochs=5,\n",
    "               learning_rate=0.00175, batch_size=512, collate_fn=collate_packed)"
   ]
  },
  {
   "cell_type": "code",
   "execution_count": 69,
   "metadata": {},
   "outputs": [
    {
     "data": {
      "image/png": "[encoded data removed]",
      "text/plain": [
       "<Figure size 648x576 with 1 Axes>"
      ]
     },
     "metadata": {
      "needs_background": "light"
     },
     "output_type": "display_data"
    }
   ],
   "source": [
    "plt.plot(result.train_losses, linewidth=3, label='Training');\n",
    "plt.plot(result.valid_losses, linewidth=3, label='Validation');\n",
    "plt.scatter(\n",
    "    (result.best_epoch,), (result.best_valid_loss,),\n",
    "    s=200, linewidth=4, marker='x', color='red', label='Best');\n",
    "plt.legend();\n",
    "plt.grid();\n",
    "plt.xlabel('Epoch');\n",
    "plt.ylabel('Loss (Mean Log Likelihood)');"
   ]
  },
  {
   "cell_type": "code",
   "execution_count": 93,
   "metadata": {},
   "outputs": [
    {
     "data": {
      "text/plain": [
       "(['the',\n",
       "  'movie',\n",
       "  'is',\n",
       "  'as',\n",
       "  'far',\n",
       "  'as',\n",
       "  'you',\n",
       "  'can',\n",
       "  'get',\n",
       "  'from',\n",
       "  'racy',\n",
       "  ',',\n",
       "  'to',\n",
       "  'the',\n",
       "  'point',\n",
       "  'where',\n",
       "  'it',\n",
       "  'almost',\n",
       "  'stops',\n",
       "  'the',\n",
       "  'blood',\n",
       "  'flow',\n",
       "  'to',\n",
       "  'your',\n",
       "  'brain'],\n",
       " ['somewhat negative'])"
      ]
     },
     "execution_count": 93,
     "metadata": {},
     "output_type": "execute_result"
    }
   ],
   "source": [
    "review_idx = np.random.randint(0, len(test_data))\n",
    "[vocab.reverse.get(idx.item()) for idx in test_data[review_idx]], rnn_sentiment.text_labels(th.nn.utils.rnn.pack_sequence(test_data[review_idx][None, :]))"
   ]
  },
  {
   "cell_type": "code",
   "execution_count": null,
   "metadata": {},
   "outputs": [],
   "source": []
  }
 ],
 "metadata": {
  "kernelspec": {
   "display_name": "Python 3",
   "language": "python",
   "name": "python3"
  },
  "language_info": {
   "codemirror_mode": {
    "name": "ipython",
    "version": 3
   },
   "file_extension": ".py",
   "mimetype": "text/x-python",
   "name": "python",
   "nbconvert_exporter": "python",
   "pygments_lexer": "ipython3",
   "version": "3.7.9"
  }
 },
 "nbformat": 4,
 "nbformat_minor": 2
}
