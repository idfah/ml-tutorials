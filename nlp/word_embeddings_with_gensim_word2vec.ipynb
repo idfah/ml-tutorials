{
 "cells": [
  {
   "cell_type": "markdown",
   "metadata": {},
   "source": [
    "# Training Word Embeddings with gensim Word2Vec"
   ]
  },
  {
   "cell_type": "code",
   "execution_count": 1,
   "metadata": {},
   "outputs": [],
   "source": [
    "import re, pickle\n",
    "\n",
    "import gensim, nltk, regenerator\n",
    "import numpy as np\n",
    "\n",
    "import matplotlib.pyplot as plt\n",
    "import matplotlib\n",
    "%matplotlib inline"
   ]
  },
  {
   "cell_type": "markdown",
   "metadata": {},
   "source": []
  },
  {
   "cell_type": "code",
   "execution_count": 2,
   "metadata": {},
   "outputs": [
    {
     "name": "stderr",
     "output_type": "stream",
     "text": [
      "[nltk_data] Downloading package punkt to /home/idfah/nltk_data...\n",
      "[nltk_data]   Package punkt is already up-to-date!\n"
     ]
    },
    {
     "data": {
      "text/plain": [
       "True"
      ]
     },
     "execution_count": 2,
     "metadata": {},
     "output_type": "execute_result"
    }
   ],
   "source": [
    "nltk.download('punkt')"
   ]
  },
  {
   "cell_type": "markdown",
   "metadata": {},
   "source": []
  },
  {
   "cell_type": "code",
   "execution_count": 3,
   "metadata": {},
   "outputs": [
    {
     "data": {
      "text/plain": [
       "['Anarchism',\n",
       " \"Anarchism is an anti-authoritarian political and social philosophy that rejects hierarchy as unjust and advocates its replacement with self-managed, self-governed societies based on voluntary, cooperative institutions. These institutions are often described as stateless societies, although several authors have defined them more specifically as distinct institutions based on non-hierarchical or free associations. Anarchism's central disagreement with other ideologies is that it holds the state to be undesirable, unnecessary, and harmful.\",\n",
       " 'Anarchism is usually placed on the far-left of the political spectrum, and much of its economics and legal philosophy reflect anti-authoritarian interpretations of communism, collectivism, syndicalism, mutualism, or participatory economics. As anarchism does not offer a fixed body of doctrine from a single particular worldview, many anarchist types and traditions exist and varieties of anarchy diverge widely. Anarchist schools of thought can differ fundamentally, supporting anything from extreme individualism to complete collectivism. Strains of anarchism have often been divided into the categories of social and individualist anarchism, or similar dual classifications.']"
      ]
     },
     "execution_count": 3,
     "metadata": {},
     "output_type": "execute_result"
    }
   ],
   "source": [
    "data_stream = regenerator.Stream.from_txt('wikipedia.txt') #.islice(10_1000)\n",
    "data_stream = data_stream.map(lambda line: line.strip('\\r\\n')).filter(lambda item: item)\n",
    "list(data_stream.islice(3))"
   ]
  },
  {
   "cell_type": "markdown",
   "metadata": {},
   "source": []
  },
  {
   "cell_type": "code",
   "execution_count": 4,
   "metadata": {},
   "outputs": [],
   "source": [
    "class Tokenizer:                                                                                    \n",
    "    def __init__(self, language='english'):\n",
    "        self.language = language\n",
    "        \n",
    "        #self.nltk_word_tokenizer = nltk.tokenize.WordPunctTokenizer()\n",
    "        self.nltk_word_tokenizer = nltk.tokenize.TreebankWordTokenizer()\n",
    "        self.nltk_sent_tokenizer = nltk.data.load(\n",
    "            'tokenizers/punkt/{}.pickle'.format(language))\n",
    "                                                                                                    \n",
    "    def __call__(self, text):\n",
    "        return [self.nltk_word_tokenizer.tokenize(sent)\n",
    "                for sent in self.nltk_sent_tokenizer.tokenize(text)]"
   ]
  },
  {
   "cell_type": "markdown",
   "metadata": {},
   "source": []
  },
  {
   "cell_type": "code",
   "execution_count": 5,
   "metadata": {},
   "outputs": [],
   "source": [
    "tokenizer = Tokenizer()"
   ]
  },
  {
   "cell_type": "markdown",
   "metadata": {},
   "source": []
  },
  {
   "cell_type": "code",
   "execution_count": 6,
   "metadata": {},
   "outputs": [
    {
     "data": {
      "text/plain": [
       "[['Anarchism'],\n",
       " ['Anarchism',\n",
       "  'is',\n",
       "  'an',\n",
       "  'anti-authoritarian',\n",
       "  'political',\n",
       "  'and',\n",
       "  'social',\n",
       "  'philosophy',\n",
       "  'that',\n",
       "  'rejects',\n",
       "  'hierarchy',\n",
       "  'as',\n",
       "  'unjust',\n",
       "  'and',\n",
       "  'advocates',\n",
       "  'its',\n",
       "  'replacement',\n",
       "  'with',\n",
       "  'self-managed',\n",
       "  ',',\n",
       "  'self-governed',\n",
       "  'societies',\n",
       "  'based',\n",
       "  'on',\n",
       "  'voluntary',\n",
       "  ',',\n",
       "  'cooperative',\n",
       "  'institutions',\n",
       "  '.'],\n",
       " ['These',\n",
       "  'institutions',\n",
       "  'are',\n",
       "  'often',\n",
       "  'described',\n",
       "  'as',\n",
       "  'stateless',\n",
       "  'societies',\n",
       "  ',',\n",
       "  'although',\n",
       "  'several',\n",
       "  'authors',\n",
       "  'have',\n",
       "  'defined',\n",
       "  'them',\n",
       "  'more',\n",
       "  'specifically',\n",
       "  'as',\n",
       "  'distinct',\n",
       "  'institutions',\n",
       "  'based',\n",
       "  'on',\n",
       "  'non-hierarchical',\n",
       "  'or',\n",
       "  'free',\n",
       "  'associations',\n",
       "  '.']]"
      ]
     },
     "execution_count": 6,
     "metadata": {},
     "output_type": "execute_result"
    }
   ],
   "source": [
    "token_stream = data_stream.map(tokenizer).unnest()\n",
    "list(token_stream.islice(3))"
   ]
  },
  {
   "cell_type": "markdown",
   "metadata": {},
   "source": []
  },
  {
   "cell_type": "code",
   "execution_count": 7,
   "metadata": {},
   "outputs": [
    {
     "data": {
      "text/plain": [
       "[['anarchism'],\n",
       " ['anarchism',\n",
       "  'is',\n",
       "  'an',\n",
       "  'anti-authoritarian',\n",
       "  'political',\n",
       "  'and',\n",
       "  'social',\n",
       "  'philosophy',\n",
       "  'that',\n",
       "  'rejects',\n",
       "  'hierarchy',\n",
       "  'as',\n",
       "  'unjust',\n",
       "  'and',\n",
       "  'advocates',\n",
       "  'its',\n",
       "  'replacement',\n",
       "  'with',\n",
       "  'self-managed',\n",
       "  ',',\n",
       "  'self-governed',\n",
       "  'societies',\n",
       "  'based',\n",
       "  'on',\n",
       "  'voluntary',\n",
       "  ',',\n",
       "  'cooperative',\n",
       "  'institutions',\n",
       "  '.'],\n",
       " ['these',\n",
       "  'institutions',\n",
       "  'are',\n",
       "  'often',\n",
       "  'described',\n",
       "  'as',\n",
       "  'stateless',\n",
       "  'societies',\n",
       "  ',',\n",
       "  'although',\n",
       "  'several',\n",
       "  'authors',\n",
       "  'have',\n",
       "  'defined',\n",
       "  'them',\n",
       "  'more',\n",
       "  'specifically',\n",
       "  'as',\n",
       "  'distinct',\n",
       "  'institutions',\n",
       "  'based',\n",
       "  'on',\n",
       "  'non-hierarchical',\n",
       "  'or',\n",
       "  'free',\n",
       "  'associations',\n",
       "  '.']]"
      ]
     },
     "execution_count": 7,
     "metadata": {},
     "output_type": "execute_result"
    }
   ],
   "source": [
    "lower_token_stream = token_stream.map(lambda line: list(map(str.lower, line)))\n",
    "list(lower_token_stream.islice(3))"
   ]
  },
  {
   "cell_type": "markdown",
   "metadata": {},
   "source": []
  },
  {
   "cell_type": "code",
   "execution_count": 8,
   "metadata": {},
   "outputs": [],
   "source": [
    "vocab_size = 150_000\n",
    "embed_dim = 128"
   ]
  },
  {
   "cell_type": "markdown",
   "metadata": {},
   "source": []
  },
  {
   "cell_type": "code",
   "execution_count": 9,
   "metadata": {},
   "outputs": [
    {
     "data": {
      "text/plain": [
       "10373727"
      ]
     },
     "execution_count": 9,
     "metadata": {},
     "output_type": "execute_result"
    }
   ],
   "source": [
    "counts = collections.Counter(lower_token_stream.unnest())\n",
    "len(counts)"
   ]
  },
  {
   "cell_type": "markdown",
   "metadata": {},
   "source": []
  },
  {
   "cell_type": "code",
   "execution_count": 10,
   "metadata": {},
   "outputs": [
    {
     "data": {
      "text/plain": [
       "[('the', 158744676),\n",
       " (',', 127369086),\n",
       " ('.', 101325279),\n",
       " ('of', 74563192),\n",
       " ('in', 64654731),\n",
       " ('and', 64030532),\n",
       " ('a', 46463660),\n",
       " ('to', 45261934),\n",
       " ('was', 27922337),\n",
       " (\"''\", 25539396)]"
      ]
     },
     "execution_count": 10,
     "metadata": {},
     "output_type": "execute_result"
    }
   ],
   "source": [
    "most_common_words = counts.most_common(vocab_size)\n",
    "most_common_words[:10]"
   ]
  },
  {
   "cell_type": "code",
   "execution_count": 11,
   "metadata": {},
   "outputs": [],
   "source": [
    "del counts"
   ]
  },
  {
   "cell_type": "markdown",
   "metadata": {},
   "source": []
  },
  {
   "cell_type": "code",
   "execution_count": 12,
   "metadata": {},
   "outputs": [
    {
     "data": {
      "text/plain": [
       "235"
      ]
     },
     "execution_count": 12,
     "metadata": {},
     "output_type": "execute_result"
    }
   ],
   "source": [
    "min_count = most_common_words[-1][1]\n",
    "min_count"
   ]
  },
  {
   "cell_type": "markdown",
   "metadata": {},
   "source": []
  },
  {
   "cell_type": "code",
   "execution_count": 13,
   "metadata": {},
   "outputs": [
    {
     "data": {
      "image/png": "[encoded data removed]",
      "text/plain": [
       "<Figure size 432x288 with 1 Axes>"
      ]
     },
     "metadata": {
      "needs_background": "light"
     },
     "output_type": "display_data"
    }
   ],
   "source": [
    "words, counts = zip(*most_common_words[:100])\n",
    "\n",
    "plt.bar(range(len(counts)), counts, width=1.0);\n",
    "plt.autoscale(tight=True);\n",
    "plt.xlabel('Word Index');\n",
    "plt.ylabel('Frequency');"
   ]
  },
  {
   "cell_type": "markdown",
   "metadata": {},
   "source": []
  },
  {
   "cell_type": "code",
   "execution_count": 14,
   "metadata": {},
   "outputs": [
    {
     "data": {
      "text/plain": [
       "['sela',\n",
       " 'burnt',\n",
       " 'clepsis',\n",
       " 'petersham',\n",
       " 'daioh',\n",
       " 'zsasz',\n",
       " 'schoeman',\n",
       " 'african-caribbean',\n",
       " 'constructing',\n",
       " 'one-volume']"
      ]
     },
     "execution_count": 14,
     "metadata": {},
     "output_type": "execute_result"
    }
   ],
   "source": [
    "vocab = set(word for word, count in most_common_words)\n",
    "list(vocab)[:10]"
   ]
  },
  {
   "cell_type": "markdown",
   "metadata": {},
   "source": []
  },
  {
   "cell_type": "code",
   "execution_count": 15,
   "metadata": {},
   "outputs": [],
   "source": [
    "def replace_word(word):\n",
    "    if word.isdigit():\n",
    "        return '<num>'\n",
    "    \n",
    "    if not word in vocab:\n",
    "        return '<unk>'\n",
    "    \n",
    "    return word\n",
    "\n",
    "sub_lower_token_stream = lower_token_stream.map(lambda sent: list(map(replace_word, sent)))"
   ]
  },
  {
   "cell_type": "markdown",
   "metadata": {},
   "source": []
  },
  {
   "cell_type": "code",
   "execution_count": 16,
   "metadata": {},
   "outputs": [
    {
     "data": {
      "text/plain": [
       "[['anarchism',\n",
       "  'is',\n",
       "  'an',\n",
       "  'anti-authoritarian',\n",
       "  'political',\n",
       "  'and',\n",
       "  'social',\n",
       "  'philosophy',\n",
       "  'that',\n",
       "  'rejects',\n",
       "  'hierarchy',\n",
       "  'as',\n",
       "  'unjust',\n",
       "  'and',\n",
       "  'advocates',\n",
       "  'its',\n",
       "  'replacement',\n",
       "  'with',\n",
       "  'self-managed',\n",
       "  ',',\n",
       "  'self-governed',\n",
       "  'societies',\n",
       "  'based',\n",
       "  'on',\n",
       "  'voluntary',\n",
       "  ',',\n",
       "  'cooperative',\n",
       "  'institutions',\n",
       "  '.'],\n",
       " ['these',\n",
       "  'institutions',\n",
       "  'are',\n",
       "  'often',\n",
       "  'described',\n",
       "  'as',\n",
       "  'stateless',\n",
       "  'societies',\n",
       "  ',',\n",
       "  'although',\n",
       "  'several',\n",
       "  'authors',\n",
       "  'have',\n",
       "  'defined',\n",
       "  'them',\n",
       "  'more',\n",
       "  'specifically',\n",
       "  'as',\n",
       "  'distinct',\n",
       "  'institutions',\n",
       "  'based',\n",
       "  'on',\n",
       "  'non-hierarchical',\n",
       "  'or',\n",
       "  'free',\n",
       "  'associations',\n",
       "  '.']]"
      ]
     },
     "execution_count": 16,
     "metadata": {},
     "output_type": "execute_result"
    }
   ],
   "source": [
    "list(sub_lower_token_stream.islice(1, 3))"
   ]
  },
  {
   "cell_type": "markdown",
   "metadata": {},
   "source": []
  },
  {
   "cell_type": "code",
   "execution_count": 17,
   "metadata": {},
   "outputs": [],
   "source": [
    "with open('tokenized.txt', mode='w', encoding='utf8') as fh:\n",
    "    for i, sent in enumerate(sub_lower_token_stream):\n",
    "        fh.write(' '.join(sent) + '\\n')"
   ]
  },
  {
   "cell_type": "markdown",
   "metadata": {},
   "source": []
  },
  {
   "cell_type": "code",
   "execution_count": 18,
   "metadata": {},
   "outputs": [
    {
     "data": {
      "text/plain": [
       "[['anarchism'],\n",
       " ['anarchism',\n",
       "  'is',\n",
       "  'an',\n",
       "  'anti-authoritarian',\n",
       "  'political',\n",
       "  'and',\n",
       "  'social',\n",
       "  'philosophy',\n",
       "  'that',\n",
       "  'rejects',\n",
       "  'hierarchy',\n",
       "  'as',\n",
       "  'unjust',\n",
       "  'and',\n",
       "  'advocates',\n",
       "  'its',\n",
       "  'replacement',\n",
       "  'with',\n",
       "  'self-managed',\n",
       "  ',',\n",
       "  'self-governed',\n",
       "  'societies',\n",
       "  'based',\n",
       "  'on',\n",
       "  'voluntary',\n",
       "  ',',\n",
       "  'cooperative',\n",
       "  'institutions',\n",
       "  '.'],\n",
       " ['these',\n",
       "  'institutions',\n",
       "  'are',\n",
       "  'often',\n",
       "  'described',\n",
       "  'as',\n",
       "  'stateless',\n",
       "  'societies',\n",
       "  ',',\n",
       "  'although',\n",
       "  'several',\n",
       "  'authors',\n",
       "  'have',\n",
       "  'defined',\n",
       "  'them',\n",
       "  'more',\n",
       "  'specifically',\n",
       "  'as',\n",
       "  'distinct',\n",
       "  'institutions',\n",
       "  'based',\n",
       "  'on',\n",
       "  'non-hierarchical',\n",
       "  'or',\n",
       "  'free',\n",
       "  'associations',\n",
       "  '.']]"
      ]
     },
     "execution_count": 18,
     "metadata": {},
     "output_type": "execute_result"
    }
   ],
   "source": [
    "sent_stream = regenerator.Stream.from_txt('tokenized.txt').map(str.split)\n",
    "list(sent_stream.islice(3))"
   ]
  },
  {
   "cell_type": "markdown",
   "metadata": {},
   "source": []
  },
  {
   "cell_type": "code",
   "execution_count": 19,
   "metadata": {},
   "outputs": [],
   "source": [
    "model = gensim.models.Word2Vec(                                                                 \n",
    "    sent_stream,\n",
    "    size=embed_dim,\n",
    "    window=5,\n",
    "    min_count=min_count,\n",
    "    workers=20,\n",
    "    iter=20)"
   ]
  },
  {
   "cell_type": "markdown",
   "metadata": {},
   "source": []
  },
  {
   "cell_type": "code",
   "execution_count": 20,
   "metadata": {},
   "outputs": [
    {
     "data": {
      "text/plain": [
       "[('matthew', 0.8386996388435364),\n",
       " ('dominic', 0.8025237321853638),\n",
       " ('aidan', 0.788169801235199),\n",
       " ('damian', 0.7745775580406189),\n",
       " ('patrick', 0.7572060823440552),\n",
       " ('brendan', 0.7453355193138123),\n",
       " ('michael', 0.7450605630874634),\n",
       " ('caleb', 0.7383602857589722),\n",
       " ('peter', 0.7357949018478394),\n",
       " ('anthony', 0.7302602529525757)]"
      ]
     },
     "execution_count": 20,
     "metadata": {},
     "output_type": "execute_result"
    }
   ],
   "source": [
    "model.wv.most_similar('luke')"
   ]
  },
  {
   "cell_type": "markdown",
   "metadata": {},
   "source": []
  },
  {
   "cell_type": "code",
   "execution_count": 27,
   "metadata": {},
   "outputs": [
    {
     "name": "stdout",
     "output_type": "stream",
     "text": [
      "space: ('spaces', 'module', 'workspace', 'projection', 'iss', 'microgravity', 'shuttle', 'torus', '3-dimensional', 'sphere')\n",
      "\n",
      "trump: ('obama', 'reagan', 'nixon', 'putin', 'clinton', 'biden', 'ahmadinejad', 'duterte', 'rumsfeld', 'gingrich')\n",
      "\n",
      "obama: ('trump', 'reagan', 'clinton', 'nixon', 'barack', 'bush', 'ahmadinejad', 'eisenhower', 'mccain', 'duterte')\n",
      "\n",
      "apollo: ('gemini', 'orion', 'artemis', 'neptune', 'helios', 'athena', 'jupiter', 'astronauts', 'hermes', 'skylab')\n",
      "\n",
      "mars: ('martian', 'venus', 'phobos', 'pluto', 'jupiter', 'earth', 'moon', 'uranus', 'lander', 'lunar')\n",
      "\n",
      "the: ('its', 'this', \"'s\", 'their', 'a', 'another', 'an', '.the', '—the', 'whose')\n",
      "\n",
      "is: ('was', 'exists', 'are', 'becomes', 'remains', 'represents', 'occurs', 'became', 'stands', 'contains')\n",
      "\n",
      "and: ('while', 'which', 'who', '.', 'whilst', 'whose', 'where', 'but', 'and/or', 'whereas')\n",
      "\n",
      "cat: ('dog', 'rabbit', 'monkey', 'rat', 'pig', 'kitten', 'mouse', 'duck', 'pug', 'puppy')\n",
      "\n",
      "dog: ('cat', 'rabbit', 'puppy', 'dogs', 'pig', 'goat', 'cow', 'pet', 'poodle', 'rottweiler')\n",
      "\n",
      "elliott: ('dixon', 'bennett', 'willis', 'dunn', 'russell', 'stewart', 'thompson', 'taylor', 'baker', 'payne')\n",
      "\n",
      ",: (';', 'respectively', '(', '-', 'in', 'co-founded', '–', '—', 'between', '•')\n",
      "\n",
      "maggie: ('chloe', 'molly', 'abby', 'rachel', 'liz', 'amy', 'katie', 'meg', 'carrie', 'sadie')\n",
      "\n",
      ".: ('and', '(', '/', '-', 'allowing', 'resulting', ';', 'enabling', 'including', 'causing')\n",
      "\n",
      "<num>: ('2012.', '2010.', '2008.', '2015.', '2001.', '2007.', '2018.', '2013.', '2016.', '2009.')\n",
      "\n",
      "<unk>: ('baro', 'pani', 'buta', 'karo', 'kasa', 'kani', 'sira', 'e', 'kis', 'sa')\n",
      "\n",
      "america: ('africa', 'korea', 'asia', 'europe', 'american', 'dakota', 'african', 'korean', 'carolina', 'australia')\n",
      "\n",
      "canada: ('alberta', 'ontario', 'manitoba', 'australia', 'quebec', 'saskatchewan', 'nunavut', 'newfoundland', 'finland', 'vancouver')\n",
      "\n",
      "colorado: ('arizona', 'utah', 'wyoming', 'nevada', 'oregon', 'denver', 'missouri', 'idaho', 'california', 'montana')\n",
      "\n",
      "omega: ('alpha', 'sigma', 'epsilon', 'gamma', 'neo', 'sunfire', 'trion', 'robo', 'libra', 'droid')\n",
      "\n",
      "<unk>: ('baro', 'pani', 'buta', 'karo', 'kasa', 'kani', 'sira', 'e', 'kis', 'sa')\n",
      "\n",
      "ubiquitous: ('commonplace', 'prevalent', 'predominant', 'pervasive', 'popular', 'common', 'dominant', 'recognizable', 'abundant', 'commercialised')\n",
      "\n",
      "deleterious: ('detrimental', 'harmful', 'pathogenic', 'neurotoxic', 'adverse', 'cytotoxic', 'undesirable', 'beneficial', 'undesired', 'mutagenic')\n",
      "\n",
      "isomorphism: ('isometry', 'equivalence', 'homeomorphism', 'homomorphism', 'irreducible', 'morphism', 'endomorphism', 'diffeomorphism', 'homotopy', 'congruence')\n",
      "\n",
      "aberrant: ('abnormal', 'atypical', 'oncogenic', 'oncogene', 'ectopic', 'endogenous', 'aneuploidy', 'x-linked', 'ortholog', 'inducible')\n",
      "\n",
      "<unk>: ('baro', 'pani', 'buta', 'karo', 'kasa', 'kani', 'sira', 'e', 'kis', 'sa')\n",
      "\n",
      "lol: ('tolhurst', 'tosh', 'geezer', 'xtc', 'supergrass', 'blockheads', 'twink', 'badfinger', 'goldy', 'morrissey')\n",
      "\n",
      "yeah: ('hey', \"'oh\", 'alright', 'fuck', 'ooh', 'yes', 'oh', 'whoa', \"'hey\", \"'cause\")\n",
      "\n",
      "nah: ('yay', 'yah', 'zo', 'noch', 'doch', 'wie', 'jou', 'nicht', 'alles', 'huh')\n",
      "\n"
     ]
    }
   ],
   "source": [
    "test_words = ['space', 'trump', 'obama', 'apollo', 'mars', 'the', 'is', 'and', 'cat', 'dog', 'elliott', ',',   \n",
    "              'maggie', '.', '99', 'bksdhjfbhyjk', 'america', 'canada', 'colorado', 'omega', 'pytorch',\n",
    "              'ubiquitous', 'deleterious', 'isomorphism', 'aberrant', 'awesomesauce', 'lol', 'yeah', 'nah']\n",
    "\n",
    "for word in test_words:\n",
    "    word = replace_word(word)\n",
    "        \n",
    "    similar, _scores = zip(*model.wv.most_similar(word))\n",
    "    print(word, end=': ')\n",
    "    print(similar)\n",
    "    print()"
   ]
  },
  {
   "cell_type": "markdown",
   "metadata": {},
   "source": []
  },
  {
   "cell_type": "code",
   "execution_count": 22,
   "metadata": {},
   "outputs": [
    {
     "data": {
      "text/plain": [
       "(['the', ',', '.', 'of', '<unk>', 'in', 'and', '<num>', 'a', 'to'], 147821)"
      ]
     },
     "execution_count": 22,
     "metadata": {},
     "output_type": "execute_result"
    }
   ],
   "source": [
    "model.wv.index2word[:10], len(model.wv.index2word)"
   ]
  },
  {
   "cell_type": "markdown",
   "metadata": {},
   "source": []
  },
  {
   "cell_type": "code",
   "execution_count": 23,
   "metadata": {},
   "outputs": [
    {
     "data": {
      "text/plain": [
       "(array([[ 3.7691, -1.2606,  0.2578, -3.4726, ...,  1.1887,  0.8546,\n",
       "         -7.4062, -0.9216],\n",
       "        [-0.1039,  0.5348, -1.3165,  1.1579, ..., -1.4058, -1.4554,\n",
       "          1.1903, -0.0297],\n",
       "        [-1.1261,  0.7308, -2.7491, -3.3077, ..., -2.9297,  1.4925,\n",
       "          0.9309, -4.2944],\n",
       "        [ 4.1354,  1.0388,  0.7864, -2.6224, ..., -0.4612,  4.3914,\n",
       "         -3.9995, -0.4554],\n",
       "        ...,\n",
       "        [-1.5174,  1.1534,  0.6267, -0.6739, ...,  0.9571,  0.6228,\n",
       "         -0.6503, -0.6041],\n",
       "        [-1.0901, -3.2518, -1.6252,  1.748 , ..., -1.4135, -0.9131,\n",
       "         -0.0974,  1.1923],\n",
       "        [ 0.3889,  0.3065,  1.1851, -0.3175, ...,  0.2799, -1.533 ,\n",
       "         -1.6776, -0.1554],\n",
       "        [ 4.1167,  0.4389,  2.8358,  0.8375, ..., -0.645 , -0.8893,\n",
       "          0.0748, -3.0171]], dtype=float32), (147821, 128))"
      ]
     },
     "execution_count": 23,
     "metadata": {},
     "output_type": "execute_result"
    }
   ],
   "source": [
    "model.wv.vectors, model.wv.vectors.shape"
   ]
  },
  {
   "cell_type": "markdown",
   "metadata": {},
   "source": []
  },
  {
   "cell_type": "code",
   "execution_count": 24,
   "metadata": {},
   "outputs": [],
   "source": [
    "filename = f'wikipedia-cbow-{embed_dim}d-{vocab_size // 1000}k.txt'\n",
    "\n",
    "with open(filename, mode='w', encoding='utf8') as fh:\n",
    "    for word, vector in zip(model.wv.index2word, model.wv.vectors):\n",
    "        str_vector = ' '.join(str(round(val, 12)) for val in vector)\n",
    "        fh.write(f'{word} {str_vector}\\n')"
   ]
  },
  {
   "cell_type": "markdown",
   "metadata": {},
   "source": []
  },
  {
   "cell_type": "code",
   "execution_count": 25,
   "metadata": {},
   "outputs": [
    {
     "data": {
      "image/png": "[encoded data removed]",
      "text/plain": [
       "<Figure size 432x288 with 1 Axes>"
      ]
     },
     "metadata": {
      "needs_background": "light"
     },
     "output_type": "display_data"
    }
   ],
   "source": [
    "plt.bar(range(embed_dim), model.wv.vectors.mean(axis=0));"
   ]
  },
  {
   "cell_type": "code",
   "execution_count": 26,
   "metadata": {},
   "outputs": [
    {
     "data": {
      "image/png": "[encoded data removed]",
      "text/plain": [
       "<Figure size 432x288 with 1 Axes>"
      ]
     },
     "metadata": {
      "needs_background": "light"
     },
     "output_type": "display_data"
    }
   ],
   "source": [
    "plt.bar(range(embed_dim), model.wv.vectors.std(axis=0));"
   ]
  },
  {
   "cell_type": "code",
   "execution_count": null,
   "metadata": {},
   "outputs": [],
   "source": []
  },
  {
   "cell_type": "code",
   "execution_count": null,
   "metadata": {},
   "outputs": [],
   "source": []
  }
 ],
 "metadata": {
  "kernelspec": {
   "display_name": "Python 3",
   "language": "python",
   "name": "python3"
  },
  "language_info": {
   "codemirror_mode": {
    "name": "ipython",
    "version": 3
   },
   "file_extension": ".py",
   "mimetype": "text/x-python",
   "name": "python",
   "nbconvert_exporter": "python",
   "pygments_lexer": "ipython3",
   "version": "3.7.9"
  }
 },
 "nbformat": 4,
 "nbformat_minor": 2
}
