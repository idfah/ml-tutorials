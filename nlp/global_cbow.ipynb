{
 "cells": [
  {
   "cell_type": "markdown",
   "metadata": {},
   "source": [
    "# Exploring Global Continuous Bag of Words (CBOW) Optimization\n",
    "\n",
    "---\n",
    "\n",
    "Elliott Forney - 2020"
   ]
  },
  {
   "cell_type": "code",
   "execution_count": 1,
   "metadata": {},
   "outputs": [],
   "source": [
    "%%bash\n",
    "#pip3 install 'git+ssh://git@github.com/IBM/regenerator@0.2.0' --user"
   ]
  },
  {
   "cell_type": "code",
   "execution_count": 2,
   "metadata": {},
   "outputs": [],
   "source": [
    "import copy\n",
    "import collections, itertools\n",
    "import math\n",
    "import random, re\n",
    "\n",
    "import regenerator\n",
    "import munch\n",
    "import nltk\n",
    "\n",
    "import scipy as sp\n",
    "import scipy.spatial.distance as spdist\n",
    "\n",
    "import torch as th\n",
    "import torch.nn.functional as thfunc\n",
    "\n",
    "import matplotlib.pyplot as plt\n",
    "import matplotlib\n",
    "%matplotlib inline\n",
    "matplotlib.rcParams['figure.figsize'] = (9, 8)"
   ]
  },
  {
   "cell_type": "code",
   "execution_count": null,
   "metadata": {},
   "outputs": [],
   "source": []
  },
  {
   "cell_type": "code",
   "execution_count": 3,
   "metadata": {},
   "outputs": [],
   "source": [
    "class Tokenizer:                                                                                    \n",
    "    def __init__(self):\n",
    "        #self.nltk_word_tokenizer = nltk.tokenize.WordPunctTokenizer()                              \n",
    "        self.nltk_word_tokenizer = nltk.tokenize.TreebankWordTokenizer()                            \n",
    "        self.nltk_sent_tokenizer = nltk.data.load('tokenizers/punkt/english.pickle')\n",
    "                                                                                                    \n",
    "    def __call__(self, text):                                                                       \n",
    "        return [self.nltk_word_tokenizer.tokenize(sent)                                             \n",
    "                for sent in self.nltk_sent_tokenizer.tokenize(text)]"
   ]
  },
  {
   "cell_type": "code",
   "execution_count": 4,
   "metadata": {},
   "outputs": [],
   "source": [
    "tokenizer = Tokenizer()"
   ]
  },
  {
   "cell_type": "code",
   "execution_count": null,
   "metadata": {},
   "outputs": [],
   "source": []
  },
  {
   "cell_type": "code",
   "execution_count": null,
   "metadata": {},
   "outputs": [],
   "source": []
  },
  {
   "cell_type": "code",
   "execution_count": 5,
   "metadata": {},
   "outputs": [],
   "source": [
    "raw_stream = regenerator.Stream.from_txt('wikipedia.txt')"
   ]
  },
  {
   "cell_type": "code",
   "execution_count": 6,
   "metadata": {},
   "outputs": [
    {
     "data": {
      "text/plain": [
       "<Stream>:\n",
       "'Anarchism\\n',\n",
       "\"Anarchism is an anti-authoritarian political and social philosophy that rejects hierarchy as unjust and advocates its replacement with self-managed, self-governed societies based on voluntary, cooperative institutions. These institutions are often described as stateless societies, although several authors have defined them more specifically as distinct institutions based on non-hierarchical or free associations. Anarchism's central disagreement with other ideologies is that it holds the state to be undesirable, unnecessary, and harmful.\\n\",\n",
       "'Anarchism is usually placed on the far-left of the political spectrum, and much of its economics and legal philosophy reflect anti-authoritarian interpretations of communism, collectivism, syndicalism, mutualism, or participatory economics. As anarchism does not offer a fixed body of doctrine from a single particular worldview, many anarchist types and traditions exist and varieties of anarchy diverge widely. Anarchist schools of thought can differ fundamentally, supporting anything from extreme individualism to complete collectivism. Strains of anarchism have often been divided into the categories of social and individualist anarchism, or similar dual classifications.\\n',\n",
       "'The etymological origin of the word anarchism is from the ancient Greek word \"anarkhia\", meaning \"without a ruler\", composed of the prefix \"a-\" (i.e. \"without\") and the word \"arkhos\" (i.e. \"leader\" or \"ruler\"). The suffix -ism denotes the ideological current that favours anarchy. The word anarchism appears in English from 1642 as \"anarchisme\" and the word \"anarchy\" from 1539. Various factions within the French Revolution labelled their opponents as anarchists, although few such accused shared many views with later anarchists. Many revolutionaries of the 19th century such as William Godwin (1756–1836) and Wilhelm Weitling (1808–1871) would contribute to the anarchist doctrines of the next generation, but they did not use the word anarchist or anarchism in describing themselves or their beliefs.\\n',\n",
       "'The first political philosopher to call himself an anarchist () was Pierre-Joseph Proudhon (1809–1865), marking the formal birth of anarchism in the mid-19th century. Since the 1890s and beginning in France, the term libertarianism has often been used as a synonym for anarchism and its use as a synonym is still common outside the United States. On the other hand, some use libertarianism to refer to individualistic free-market philosophy only, referring to free-market anarchism as libertarian anarchism.\\n',\n",
       "..."
      ]
     },
     "execution_count": 6,
     "metadata": {},
     "output_type": "execute_result"
    }
   ],
   "source": [
    "raw_stream"
   ]
  },
  {
   "cell_type": "code",
   "execution_count": 7,
   "metadata": {},
   "outputs": [],
   "source": [
    "token_stream = (\n",
    "    raw_stream\n",
    "    .map(str.lower)\n",
    "    .map(str.strip)\n",
    "    .map(tokenizer)\n",
    "    .unchunk()\n",
    ")"
   ]
  },
  {
   "cell_type": "code",
   "execution_count": 8,
   "metadata": {},
   "outputs": [
    {
     "data": {
      "text/plain": [
       "<Stream>:\n",
       "['anarchism'],\n",
       "['anarchism', 'is', 'an', 'anti-authoritarian', 'political', 'and', 'social', 'philosophy', 'that', 'rejects', 'hierarchy', 'as', 'unjust', 'and', 'advocates', 'its', 'replacement', 'with', 'self-managed', ',', 'self-governed', 'societies', 'based', 'on', 'voluntary', ',', 'cooperative', 'institutions', '.'],\n",
       "['these', 'institutions', 'are', 'often', 'described', 'as', 'stateless', 'societies', ',', 'although', 'several', 'authors', 'have', 'defined', 'them', 'more', 'specifically', 'as', 'distinct', 'institutions', 'based', 'on', 'non-hierarchical', 'or', 'free', 'associations', '.'],\n",
       "['anarchism', \"'s\", 'central', 'disagreement', 'with', 'other', 'ideologies', 'is', 'that', 'it', 'holds', 'the', 'state', 'to', 'be', 'undesirable', ',', 'unnecessary', ',', 'and', 'harmful', '.'],\n",
       "['anarchism', 'is', 'usually', 'placed', 'on', 'the', 'far-left', 'of', 'the', 'political', 'spectrum', ',', 'and', 'much', 'of', 'its', 'economics', 'and', 'legal', 'philosophy', 'reflect', 'anti-authoritarian', 'interpretations', 'of', 'communism', ',', 'collectivism', ',', 'syndicalism', ',', 'mutualism', ',', 'or', 'participatory', 'economics', '.'],\n",
       "..."
      ]
     },
     "execution_count": 8,
     "metadata": {},
     "output_type": "execute_result"
    }
   ],
   "source": [
    "token_stream"
   ]
  },
  {
   "cell_type": "code",
   "execution_count": 9,
   "metadata": {},
   "outputs": [
    {
     "data": {
      "text/plain": [
       "<Stream>:\n",
       "['strains', 'of', 'anarchism', 'have', 'often', 'been', 'divided', 'into', 'the', 'categories', 'of', 'social', 'and', 'individualist', 'anarchism', ',', 'or', 'similar', 'dual', 'classifications', '.'],\n",
       "['anarchists', 'enthusiastically', 'participated', 'in', 'the', 'russian', 'revolution—despite', 'concerns—in', 'opposition', 'to', 'the', 'whites', '.'],\n",
       "['beyond', 'the', 'specific', 'factions', 'of', 'anarchist', 'thought', 'is', 'philosophical', 'anarchism', 'which', 'holds', 'that', 'the', 'state', 'lacks', 'moral', 'legitimacy', ',', 'without', 'accepting', 'the', 'imperative', 'of', 'revolution', 'to', 'eliminate', 'it', '.'],\n",
       "['they', 'saw', 'it', 'as', 'a', 'part', 'of', 'overthrowing', 'state', 'and', 'capitalism', '.'],\n",
       "['he', 'also', 'argued', 'that', '``', 'ill', 'intentions', 'will', 'cease', 'if', 'repressive', 'force', 'disappears', \"''\", 'is', 'an', '``', 'absurdity', \"''\", '.'],\n",
       "..."
      ]
     },
     "execution_count": 9,
     "metadata": {},
     "output_type": "execute_result"
    }
   ],
   "source": [
    "min_sent_len = 5\n",
    "max_sent_len = 96\n",
    "sample_frac = 0.02\n",
    "\n",
    "trimmed_token_stream, _ = (\n",
    "    token_stream\n",
    "    .filter(lambda sent: min_sent_len <= len(sent) <= max_sent_len)\n",
    "    .random_split(sample_frac)\n",
    ")\n",
    "    \n",
    "trimmed_token_stream"
   ]
  },
  {
   "cell_type": "code",
   "execution_count": 10,
   "metadata": {},
   "outputs": [
    {
     "data": {
      "text/plain": [
       "5"
      ]
     },
     "execution_count": 10,
     "metadata": {},
     "output_type": "execute_result"
    }
   ],
   "source": [
    "min(len(sent) for sent in trimmed_token_stream[:1000])"
   ]
  },
  {
   "cell_type": "code",
   "execution_count": 11,
   "metadata": {},
   "outputs": [
    {
     "data": {
      "text/plain": [
       "83"
      ]
     },
     "execution_count": 11,
     "metadata": {},
     "output_type": "execute_result"
    }
   ],
   "source": [
    "max(len(sent) for sent in trimmed_token_stream[:1000])"
   ]
  },
  {
   "cell_type": "code",
   "execution_count": 12,
   "metadata": {},
   "outputs": [],
   "source": [
    "# nsent\n",
    "#len(trimmed_token_stream)"
   ]
  },
  {
   "cell_type": "code",
   "execution_count": 13,
   "metadata": {},
   "outputs": [],
   "source": [
    "# nword\n",
    "#len(trimmed_token_stream.unchunk())"
   ]
  },
  {
   "cell_type": "code",
   "execution_count": null,
   "metadata": {},
   "outputs": [],
   "source": []
  },
  {
   "cell_type": "code",
   "execution_count": 14,
   "metadata": {},
   "outputs": [],
   "source": [
    "class Vocab:\n",
    "    pad, unk, num = '<pad>', '<unk>', '<num>'\n",
    "    special = pad, unk, num\n",
    "\n",
    "    special_idx = range(3)\n",
    "    pad_idx, unk_idx, num_idx = special_idx\n",
    "\n",
    "    def __init__(self, words, max_size=None, num_regex=r'^[\\−\\-\\+]?[\\$¢€£¥₹₤]?\\.?\\d+([\\.,:/]\\d+)*$'):\n",
    "        self.num_regex = re.compile(num_regex)\n",
    "\n",
    "        words = filter(lambda word: not self.num_regex.match(word), words)\n",
    "        \n",
    "        if max_size:\n",
    "            counter = collections.Counter(words)\n",
    "            words = (word for word, count in counter.most_common(max_size - len(self.special)))\n",
    "\n",
    "        words = sorted(words)\n",
    "\n",
    "        def idx_factory():\n",
    "            idx, idx_factory.idx = idx_factory.idx, idx_factory.idx + 1\n",
    "            return idx\n",
    "        idx_factory.idx = 0\n",
    "\n",
    "        vocab = collections.defaultdict(idx_factory)\n",
    "        for word in itertools.chain(self.special, words):\n",
    "            vocab[word]\n",
    "\n",
    "        self.vocab = dict(vocab)\n",
    "\n",
    "        self.reverse = {idx: word for word, idx in self.vocab.items()}\n",
    "        \n",
    "    @classmethod\n",
    "    def from_corpus(cls, corpus, *args, **kwargs):\n",
    "        return cls((word for sent in corpus for word in sent), *args, **kwargs)\n",
    "    \n",
    "    @classmethod\n",
    "    def from_file(cls, filename, *args, **kwargs):\n",
    "        with open(filename, mode='r', encoding='utf8') as fh:\n",
    "            words = [line.rstrip('\\n') for line in fh]\n",
    "            \n",
    "        return cls(words, *args, **kwargs)\n",
    "\n",
    "    def save(self, filename):\n",
    "        with open(filename, mode='w', encoding='utf8') as fh:\n",
    "            fh.writelines(word + '\\n' for word in self)\n",
    "\n",
    "    def __getitem__(self, word):\n",
    "        #if word.isdigit():\n",
    "        if self.num_regex.match(word):\n",
    "            return self.num_idx\n",
    "\n",
    "        return self.vocab.get(word, self.unk_idx)\n",
    "\n",
    "    def __iter__(self):\n",
    "        '''Return iterator over words in order of indices.\n",
    "        '''\n",
    "        return (word for idx, word in sorted((idx, word) for word, idx in self.vocab.items()))\n",
    "\n",
    "    def __len__(self):\n",
    "        return len(self.vocab)"
   ]
  },
  {
   "cell_type": "code",
   "execution_count": 15,
   "metadata": {},
   "outputs": [
    {
     "name": "stdout",
     "output_type": "stream",
     "text": [
      "[True, True, True, True, True, True, True, True, True, True, True, True, True, True, True, True, True, True, True]\n",
      "[False, False, False, False, False, False, False, False]\n"
     ]
    }
   ],
   "source": [
    "rgx = re.compile(r'^[\\−\\-\\+]?[\\$¢€£¥₹₤]?\\.?\\d+([\\.,:/]\\d+)*$')\n",
    "a = (\n",
    "    '123', '0.2', '.23', '0.23:0010', '000', '$1000', '$1,000,000.00',\n",
    "    '+100', '-100', '+$1,000', '0.00.00:00', '-€100', '+.3', '.333', '+0.1',\n",
    "    '1/4', '+$100,00/2.00', '−0.3', '€15.4'\n",
    ")\n",
    "print([bool(rgx.match(x)) for x in a])\n",
    "\n",
    "b = '0.', 'abc', 'x23', '0...', '1--2', '-$', '0..2', '1//4'\n",
    "print([bool(rgx.match(x)) for x in b])"
   ]
  },
  {
   "cell_type": "code",
   "execution_count": 16,
   "metadata": {},
   "outputs": [],
   "source": [
    "#max_vocab_size = 65_536\n",
    "max_vocab_size = 32_768\n",
    "\n",
    "vocab = Vocab.from_corpus(trimmed_token_stream, max_size=max_vocab_size)"
   ]
  },
  {
   "cell_type": "code",
   "execution_count": 17,
   "metadata": {},
   "outputs": [
    {
     "data": {
      "text/plain": [
       "2"
      ]
     },
     "execution_count": 17,
     "metadata": {},
     "output_type": "execute_result"
    }
   ],
   "source": [
    "vocab['£2,343']"
   ]
  },
  {
   "cell_type": "code",
   "execution_count": 18,
   "metadata": {},
   "outputs": [
    {
     "data": {
      "text/plain": [
       "32768"
      ]
     },
     "execution_count": 18,
     "metadata": {},
     "output_type": "execute_result"
    }
   ],
   "source": [
    "len(vocab)"
   ]
  },
  {
   "cell_type": "code",
   "execution_count": 19,
   "metadata": {},
   "outputs": [],
   "source": [
    "vocab.save('global_cbow_vocab.txt')"
   ]
  },
  {
   "cell_type": "code",
   "execution_count": 20,
   "metadata": {},
   "outputs": [
    {
     "name": "stdout",
     "output_type": "stream",
     "text": [
      "<pad>\n",
      "<unk>\n",
      "<num>\n",
      "!\n",
      "#\n",
      "$\n",
      "%\n",
      "&\n",
      "'\n",
      "''\n"
     ]
    }
   ],
   "source": [
    "%%bash\n",
    "head global_cbow_vocab.txt"
   ]
  },
  {
   "cell_type": "code",
   "execution_count": 21,
   "metadata": {},
   "outputs": [
    {
     "name": "stdout",
     "output_type": "stream",
     "text": [
      "cantor\n",
      "canucks\n",
      "canvas\n",
      "canvases\n",
      "canyon\n",
      "canyons\n",
      "can’t\n",
      "cao\n",
      "cap\n",
      "capabilities\n"
     ]
    }
   ],
   "source": [
    "%%bash\n",
    "head -5000 global_cbow_vocab.txt | tail"
   ]
  },
  {
   "cell_type": "code",
   "execution_count": 22,
   "metadata": {},
   "outputs": [],
   "source": [
    "token_index_stream = trimmed_token_stream.map(\n",
    "    lambda sent: [vocab[word] for word in sent])"
   ]
  },
  {
   "cell_type": "code",
   "execution_count": 23,
   "metadata": {},
   "outputs": [
    {
     "data": {
      "text/plain": [
       "<Stream>:\n",
       "[28228, 20758, 1822, 13677, 20800, 3438, 9056, 15474, 29437, 5264, 20758, 27367, 1846, 14990, 1822, 38, 21009, 27011, 9415, 5974, 44],\n",
       "[1824, 10256, 21639, 14849, 29437, 25643, 1, 1, 20982, 29760, 29437, 32027, 44],\n",
       "[3676, 29437, 27655, 10962, 20758, 1823, 29563, 15638, 22175, 1822, 32004, 14168, 29431, 29437, 28001, 16680, 19428, 17036, 38, 32227, 845, 29437, 14777, 20758, 25067, 29760, 9883, 15705, 44],\n",
       "[29505, 25964, 15705, 2456, 680, 21628, 20758, 1, 28001, 1846, 5013, 44],\n",
       "[13720, 1643, 2311, 29431, 679, 14683, 15345, 32120, 5348, 14650, 24776, 11774, 8793, 9, 15638, 1796, 679, 1, 9, 44],\n",
       "..."
      ]
     },
     "execution_count": 23,
     "metadata": {},
     "output_type": "execute_result"
    }
   ],
   "source": [
    "token_index_stream"
   ]
  },
  {
   "cell_type": "code",
   "execution_count": 24,
   "metadata": {},
   "outputs": [],
   "source": [
    "token_rev_index_stream = token_index_stream.map(\n",
    "    lambda sent: [vocab.reverse[word] for word in sent])"
   ]
  },
  {
   "cell_type": "code",
   "execution_count": 25,
   "metadata": {},
   "outputs": [
    {
     "data": {
      "text/plain": [
       "<Stream>:\n",
       "['strains', 'of', 'anarchism', 'have', 'often', 'been', 'divided', 'into', 'the', 'categories', 'of', 'social', 'and', 'individualist', 'anarchism', ',', 'or', 'similar', 'dual', 'classifications', '.'],\n",
       "['anarchists', 'enthusiastically', 'participated', 'in', 'the', 'russian', '<unk>', '<unk>', 'opposition', 'to', 'the', 'whites', '.'],\n",
       "['beyond', 'the', 'specific', 'factions', 'of', 'anarchist', 'thought', 'is', 'philosophical', 'anarchism', 'which', 'holds', 'that', 'the', 'state', 'lacks', 'moral', 'legitimacy', ',', 'without', 'accepting', 'the', 'imperative', 'of', 'revolution', 'to', 'eliminate', 'it', '.'],\n",
       "['they', 'saw', 'it', 'as', 'a', 'part', 'of', '<unk>', 'state', 'and', 'capitalism', '.'],\n",
       "['he', 'also', 'argued', 'that', '``', 'ill', 'intentions', 'will', 'cease', 'if', 'repressive', 'force', 'disappears', \"''\", 'is', 'an', '``', '<unk>', \"''\", '.'],\n",
       "..."
      ]
     },
     "execution_count": 25,
     "metadata": {},
     "output_type": "execute_result"
    }
   ],
   "source": [
    "token_rev_index_stream"
   ]
  },
  {
   "cell_type": "code",
   "execution_count": 26,
   "metadata": {},
   "outputs": [],
   "source": [
    "train_index_stream, valid_index_stream = token_index_stream.random_split(frac=0.95)"
   ]
  },
  {
   "cell_type": "code",
   "execution_count": 27,
   "metadata": {},
   "outputs": [],
   "source": [
    "# len(train_index_stream), len(valid_index_stream)"
   ]
  },
  {
   "cell_type": "code",
   "execution_count": 28,
   "metadata": {},
   "outputs": [],
   "source": [
    "with open('global_cbow_train_idxs.txt', mode='w') as fh:\n",
    "    for sent in train_index_stream:\n",
    "        fh.write(' '.join(map(str, sent)) + '\\n')"
   ]
  },
  {
   "cell_type": "code",
   "execution_count": 29,
   "metadata": {},
   "outputs": [
    {
     "name": "stdout",
     "output_type": "stream",
     "text": [
      "28228 20758 1822 13677 20800 3438 9056 15474 29437 5264 20758 27367 1846 14990 1822 38 21009 27011 9415 5974 44\n",
      "1824 10256 21639 14849 29437 25643 1 1 20982 29760 29437 32027 44\n",
      "3676 29437 27655 10962 20758 1823 29563 15638 22175 1822 32004 14168 29431 29437 28001 16680 19428 17036 38 32227 845 29437 14777 20758 25067 29760 9883 15705 44\n",
      "29505 25964 15705 2456 680 21628 20758 1 28001 1846 5013 44\n",
      "13720 1643 2311 29431 679 14683 15345 32120 5348 14650 24776 11774 8793 9 15638 1796 679 1 9 44\n",
      "12227 12128 38 28511 2456 29560 24952 14849 15551 29760 21651 38 18479 1210 29437 23691 20758 17230 19439 8141 44\n",
      "2824 14994 4932 8937 18174 11849 20758 24740 21009 24938 3470 38 32004 29437 24740 3470 1 33 1 34 1 2456 11724 44\n",
      "1666 29499 29476 16676 7119 26087 10612 1846 2296 3776 1 38 21581 6670 775 680 22815 31039 17341 32215 2823 13636 16996 29760 17668 24013 20758 5724 1 38 21191 20758 23087 7067 5724 8876 14849 27452 7352 38 1846 29437 1 8034 20758 26561 5727 44\n",
      "27452 23999 19744 18479 16937 29760 2823 4737 8963 27452 28927 21738 38 28511 2456 29560 15562 32215 5375 1060 44\n",
      "12733 2296 20800 8597 16843 29422 4228 44\n"
     ]
    }
   ],
   "source": [
    "%%bash\n",
    "head global_cbow_train_idxs.txt"
   ]
  },
  {
   "cell_type": "code",
   "execution_count": 30,
   "metadata": {},
   "outputs": [],
   "source": [
    "with open('global_cbow_valid_idxs.txt', mode='w') as fh:\n",
    "    for sent in valid_index_stream:\n",
    "        fh.write(' '.join(map(str, sent)) + '\\n')"
   ]
  },
  {
   "cell_type": "code",
   "execution_count": 31,
   "metadata": {},
   "outputs": [
    {
     "name": "stdout",
     "output_type": "stream",
     "text": [
      "29437 824 2902 11763 3641 23224 8448 24240 927 11763 2413 8756 14849 11389 44\n",
      "14849 2 38 29437 26983 1928 26818 679 1 11716 9 18254 29437 8049 20758 11226 29437 5232 38 3422 29437 11479 1928 5561 14849 29437 26983 11389 10363 29760 12333 26963 22688 44\n",
      "1 24278 12147 29437 15165 1846 16843 29431 32509 8163 14094 16352 1 29744 3392 29457 25232 25360 11204 14849 680 1 11405 44\n",
      "29488 15638 1643 18736 14849 29437 4078 20758 30981 1846 29395 22757 11763 18841 14849 367 14849 24911 29760 29542 25025 38 25360 11204 8093 14053 26794 1846 8794 38 32008 1 1 2311 29431 1 26842 25004 14094 23170 19331 1846 3362 28309 20758 14094 29747 44\n",
      "14849 29437 12590 679 1 9 38 29437 11234 13636 3438 20673 29760 6241 2379 29450 1846 23049 13886 29607 2297 1269 29450 38 9751 1 29450 32215 680 1 26260 44\n",
      "29437 11479 15638 4865 29437 15144 1 1846 19732 29032 22381 32226 2 14353 20758 1796 14988 27 2393 38 2 14353 14650 29437 14988 31737 2394 20873 29437 31867 1846 20432 756 29760 12817 3446 680 16087 30859 19326 44\n",
      "30645 29447 14010 1 38 1 20758 9860 28511 2456 26347 38 1 38 30935 38 1 1846 22532 13677 680 14010 27436 1846 2296 1643 20800 23023 14849 31759 2456 1 1 44\n",
      "2513 15638 30492 28198 1846 30100 2634 29278 2379 44\n",
      "1 31737 21092 11843 14849 2 38 31993 11525 10158 27375 1846 29579 12938 1275 11944 29437 1733 10158 27950 6478 33 1 34 44\n",
      "29437 679 17441 9 1846 679 5473 9 31927 1643 6888 27064 17124 38 4710 14849 2 29437 24116 818 10437 5535 29437 1 21039 27357 29431 679 17441 9 15638 3667 679 1 9 1846 679 1 9 14849 29437 8641 1846 679 5473 9 15638 3667 679 5471 9 1846 679 5849 9 38 1846 14849 2 29437 29329 6804 20758 29437 2579 20758 27600 16788 823 5535 15705 27357 29505 31927 20282 17561 17124 2634 1536 44\n"
     ]
    }
   ],
   "source": [
    "%%bash\n",
    "head global_cbow_valid_idxs.txt"
   ]
  },
  {
   "cell_type": "code",
   "execution_count": 32,
   "metadata": {},
   "outputs": [],
   "source": [
    "#import time\n",
    "\n",
    "#start = time.time()\n",
    "#with open('global_cbow_train_idxs.txt', mode='r') as fh:\n",
    "#    sents = [[int(word) for word in line.strip().split()] for line in fh]\n",
    "#time.time() - start"
   ]
  },
  {
   "cell_type": "code",
   "execution_count": 33,
   "metadata": {},
   "outputs": [],
   "source": [
    "#sents"
   ]
  },
  {
   "cell_type": "code",
   "execution_count": 34,
   "metadata": {},
   "outputs": [],
   "source": [
    "#sentinel = (-1).to_bytes(4, byteorder='big', signed=True)\n",
    "#int.from_bytes(sentinel, byteorder='big', signed=False)"
   ]
  },
  {
   "cell_type": "code",
   "execution_count": 35,
   "metadata": {},
   "outputs": [],
   "source": [
    "#nbytes = 4 # 32 bit max\n",
    "#sentinel = (-1).to_bytes(nbytes, byteorder='big', signed=True)\n",
    "\n",
    "#with open('global_cbow_train_idxs.bin', mode='wb') as fh:\n",
    "#    for sent in train_index_stream:\n",
    "#        for word in sent:\n",
    "#            fh.write(word.to_bytes(nbytes, byteorder='big', signed=False))\n",
    "#    fh.write(sentinel)"
   ]
  },
  {
   "cell_type": "code",
   "execution_count": 36,
   "metadata": {},
   "outputs": [],
   "source": [
    "#start = time.time()\n",
    "\n",
    "#with open('global_cbow_train_idxs.bin', mode='rb') as fh:\n",
    "#    sents = []\n",
    "#    cur_sent = []\n",
    "\n",
    "#    while data := fh.read(nbytes):\n",
    "#        if data == sentinel:\n",
    "#            sents.append(cur_sent)\n",
    "#            cur_sent = []\n",
    "#        else:\n",
    "#            int_data = int.from_bytes(data, byteorder='big', signed=False)\n",
    "#            cur_sent.append(int_data)\n",
    "#time.time() - start"
   ]
  },
  {
   "cell_type": "code",
   "execution_count": null,
   "metadata": {},
   "outputs": [],
   "source": []
  },
  {
   "cell_type": "code",
   "execution_count": null,
   "metadata": {},
   "outputs": [],
   "source": []
  },
  {
   "cell_type": "code",
   "execution_count": 37,
   "metadata": {},
   "outputs": [
    {
     "data": {
      "text/plain": [
       "32768"
      ]
     },
     "execution_count": 37,
     "metadata": {},
     "output_type": "execute_result"
    }
   ],
   "source": [
    "vocab = Vocab.from_file('global_cbow_vocab.txt')\n",
    "len(vocab)"
   ]
  },
  {
   "cell_type": "code",
   "execution_count": null,
   "metadata": {},
   "outputs": [],
   "source": []
  },
  {
   "cell_type": "code",
   "execution_count": 38,
   "metadata": {},
   "outputs": [],
   "source": [
    "class TokenIndexStream(regenerator.Stream):\n",
    "    def __init__(self, filename):\n",
    "        def load_token_indices():\n",
    "            with open(filename, mode='r') as fh:\n",
    "                for sent in fh:\n",
    "                    yield th.tensor([int(word) for word in sent.strip().split()], dtype=th.int64)\n",
    "            \n",
    "        super().__init__(load_token_indices)\n",
    "        \n",
    "    def buffer_shuffle(self, size=8192, refill_frac=0.5):\n",
    "        def generator_func():\n",
    "            it = iter(self)\n",
    "            split = int(size * refill_frac)\n",
    "\n",
    "            def refill():\n",
    "                return list(itertools.islice(it, split))\n",
    "            \n",
    "            buff = refill()\n",
    "            while True:\n",
    "                buff_new = refill()\n",
    "                if not buff_new:\n",
    "                    break\n",
    "\n",
    "                buff.extend(buff_new)\n",
    "                random.shuffle(buff)\n",
    "\n",
    "                for item in buff[split:]:\n",
    "                    yield item\n",
    "\n",
    "                buff = buff[:split]\n",
    "                    \n",
    "            for item in buff:\n",
    "                yield item\n",
    "                    \n",
    "        return self.from_func(generator_func)\n",
    "    \n",
    "    def buffer_sort(self, size=12_000, shuffle=True):\n",
    "        def generator_func():\n",
    "            it = iter(self)\n",
    "            reverse = False\n",
    "\n",
    "            while True:\n",
    "                buff = list(itertools.islice(it, size))\n",
    "                if not buff: break\n",
    "\n",
    "                if shuffle:\n",
    "                    random.shuffle(buff)\n",
    "\n",
    "                buff.sort(key=len, reverse=reverse)\n",
    "                reverse = not reverse\n",
    "\n",
    "                for item in buff:\n",
    "                    yield item\n",
    "\n",
    "        return self.from_func(generator_func)\n",
    "    \n",
    "    def batch(self, size):                                                                     \n",
    "        def generator_func():                                                                       \n",
    "            it = iter(self)                                                                         \n",
    "                                                                                                    \n",
    "            while True:                                                                             \n",
    "                batch = list(itertools.islice(it, size))                                            \n",
    "                if not batch: break                                                                 \n",
    "                                                                                                    \n",
    "                yield th.nn.utils.rnn.pad_sequence(                                                 \n",
    "                    batch,               \n",
    "                    padding_value=Vocab.pad_idx,                                                    \n",
    "                    batch_first=True)                                                               \n",
    "                                                                                                    \n",
    "        return self.from_func(generator_func)"
   ]
  },
  {
   "cell_type": "code",
   "execution_count": 39,
   "metadata": {},
   "outputs": [
    {
     "data": {
      "text/plain": [
       "<TokenIndexStream>:\n",
       "tensor([29488, 29437,  2809, 32395,   669]),\n",
       "tensor([ 8232, 15638, 30443, 32215,   669]),\n",
       "tensor([14094,     1, 26874, 14899,   669]),\n",
       "tensor([ 7318, 20758, 29437, 10557, 30762]),\n",
       "tensor([   33,     1,     1, 31362,    34]),\n",
       "..."
      ]
     },
     "execution_count": 39,
     "metadata": {},
     "output_type": "execute_result"
    }
   ],
   "source": [
    "train_stream = TokenIndexStream('global_cbow_train_idxs.txt').buffer_sort()\n",
    "train_stream"
   ]
  },
  {
   "cell_type": "code",
   "execution_count": 40,
   "metadata": {},
   "outputs": [
    {
     "data": {
      "text/plain": [
       "<TokenIndexStream>:\n",
       "tensor([    1, 15638, 30443, 32215,   669]),\n",
       "tensor([29437, 22692,  8333, 31737,    44]),\n",
       "tensor([29457,   680, 18368,  3451,    44]),\n",
       "tensor([29542, 10755,  2456, 11724,   669]),\n",
       "tensor([26293, 29447, 31840, 27112,    44]),\n",
       "..."
      ]
     },
     "execution_count": 40,
     "metadata": {},
     "output_type": "execute_result"
    }
   ],
   "source": [
    "valid_stream = TokenIndexStream('global_cbow_valid_idxs.txt').buffer_sort()\n",
    "valid_stream"
   ]
  },
  {
   "cell_type": "code",
   "execution_count": 41,
   "metadata": {},
   "outputs": [
    {
     "data": {
      "text/plain": [
       "1896212"
      ]
     },
     "execution_count": 41,
     "metadata": {},
     "output_type": "execute_result"
    }
   ],
   "source": [
    "len(train_stream)"
   ]
  },
  {
   "cell_type": "code",
   "execution_count": 42,
   "metadata": {},
   "outputs": [
    {
     "data": {
      "text/plain": [
       "99848"
      ]
     },
     "execution_count": 42,
     "metadata": {},
     "output_type": "execute_result"
    }
   ],
   "source": [
    "len(valid_stream)"
   ]
  },
  {
   "cell_type": "code",
   "execution_count": 43,
   "metadata": {},
   "outputs": [],
   "source": [
    "class TorchDataset(th.utils.data.IterableDataset):\n",
    "    def __init__(self, stream):\n",
    "        super().__init__()\n",
    "        self.stream = stream\n",
    "        \n",
    "    def __iter__(self):\n",
    "        return iter(self.stream)"
   ]
  },
  {
   "cell_type": "code",
   "execution_count": 44,
   "metadata": {},
   "outputs": [
    {
     "data": {
      "text/plain": [
       "<__main__.TorchDataset at 0x7ffac771de80>"
      ]
     },
     "execution_count": 44,
     "metadata": {},
     "output_type": "execute_result"
    }
   ],
   "source": [
    "train_data = TorchDataset(train_stream)\n",
    "train_data"
   ]
  },
  {
   "cell_type": "code",
   "execution_count": 45,
   "metadata": {},
   "outputs": [
    {
     "data": {
      "text/plain": [
       "<__main__.TorchDataset at 0x7ffabf1bee20>"
      ]
     },
     "execution_count": 45,
     "metadata": {},
     "output_type": "execute_result"
    }
   ],
   "source": [
    "valid_data = TorchDataset(valid_stream)\n",
    "valid_data"
   ]
  },
  {
   "cell_type": "code",
   "execution_count": 46,
   "metadata": {},
   "outputs": [],
   "source": [
    "class ContinuousBagOfWords(th.nn.Module):\n",
    "    def __init__(self, vocab_size, embed_dim=128, width=5, max_norm=None):\n",
    "        super().__init__()\n",
    "\n",
    "        self.vocab_size = vocab_size\n",
    "        self.embed_dim = embed_dim\n",
    "        self.width = width\n",
    "        self.pad_width = self.width // 2\n",
    "\n",
    "        self.embedding = th.nn.Embedding(\n",
    "            num_embeddings=self.vocab_size,\n",
    "            embedding_dim=self.embed_dim,\n",
    "            padding_idx=Vocab.pad_idx,\n",
    "            max_norm=max_norm)\n",
    "\n",
    "        self.center_mask = th.nn.Parameter(\n",
    "            th.ones(self.width, dtype=th.float32),\n",
    "            requires_grad=False)\n",
    "        self.center_mask[self.pad_width] = 0.0\n",
    "\n",
    "        self.back_proj = th.nn.Linear(\n",
    "            in_features=self.embed_dim,\n",
    "            out_features=self.vocab_size)\n",
    "\n",
    "    def forward(self, idxs):\n",
    "        assert idxs.ndim == 2\n",
    "        batch_size = idxs.shape[0]\n",
    "        max_len = idxs.shape[1]\n",
    "\n",
    "        word_vectors = self.embedding(idxs)\n",
    "        assert word_vectors.shape == (batch_size, max_len, self.embed_dim)\n",
    "\n",
    "        ## if self.pad_method == 'zero':\n",
    "        padded_word_vectors = thfunc.pad(\n",
    "            input=word_vectors,\n",
    "            pad=(0, 0, self.pad_width, self.pad_width),\n",
    "            value=0.0)\n",
    "\n",
    "        folded_word_vectors = padded_word_vectors.unfold(1, self.width, 1)\n",
    "        assert folded_word_vectors.shape == (batch_size, max_len, self.embed_dim, self.width)\n",
    "        \n",
    "        #summed_word_vectors = (folded_word_vectors * self.center_mask).sum(-1)\n",
    "        summed_word_vectors = folded_word_vectors @ self.center_mask\n",
    "        assert summed_word_vectors.shape == (batch_size, max_len, self.embed_dim)\n",
    "\n",
    "        preds = self.back_proj(summed_word_vectors)\n",
    "        assert preds.shape == (batch_size, max_len, self.vocab_size)\n",
    "\n",
    "        return preds\n",
    "    \n",
    "    def save(self, filename):\n",
    "        with open(filename, mode='wb') as fh:                                                  \n",
    "            th.save(self.state_dict(), fh)\n",
    "    \n",
    "    @th.no_grad()\n",
    "    def nearest(self, idxs, n=10):\n",
    "        word_vectors = self.embedding(idxs)\n",
    "\n",
    "        # FIXME: just pull the weights out of the embedding layer?\n",
    "        full_embedding = self.embedding(th.arange(1, self.vocab_size))\n",
    "\n",
    "        dist = th.cdist(word_vectors, full_embedding)\n",
    "\n",
    "        # plus one because we start after `<pad>`\n",
    "        nearest_idxs = th.argsort(dist, dim=1) + 1\n",
    "\n",
    "        return nearest_idxs[:, :n]\n",
    "\n",
    "    @th.no_grad()\n",
    "    def nearest_cosine(self, idxs, n=10):\n",
    "        word_vectors = self.embedding(idxs)\n",
    "\n",
    "        # FIXME: just pull the weights out of the embedding layer?\n",
    "        full_embedding = self.embedding(th.arange(1, self.vocab_size))\n",
    "\n",
    "        dist = th.as_tensor(\n",
    "            spdist.cdist(\n",
    "                word_vectors.numpy(),\n",
    "                full_embedding.numpy(),\n",
    "                metric='cosine')\n",
    "            ).abs()\n",
    "\n",
    "        # plus one because we start after `<pad>`\n",
    "        nearest_idxs = th.argsort(dist, dim=1) + 1\n",
    "\n",
    "        return nearest_idxs[:, :n]\n",
    "    \n",
    "CBOW = ContinuousBagOfWords"
   ]
  },
  {
   "cell_type": "code",
   "execution_count": null,
   "metadata": {},
   "outputs": [],
   "source": []
  },
  {
   "cell_type": "code",
   "execution_count": null,
   "metadata": {},
   "outputs": [],
   "source": []
  },
  {
   "cell_type": "code",
   "execution_count": 47,
   "metadata": {},
   "outputs": [],
   "source": [
    "def train(model, train_data, valid_data, max_epochs, learning_rate=0.01, learning_rate_decay=0.95,\n",
    "          batch_size=64, stop_epochs=10, load_workers=20, use_gpu=True):\n",
    "    \n",
    "    def collate(data):\n",
    "        return th.nn.utils.rnn.pad_sequence(                                                 \n",
    "            data,               \n",
    "            padding_value=Vocab.pad_idx,                                                    \n",
    "            batch_first=True)\n",
    "    \n",
    "    train_loader = th.utils.data.DataLoader(\n",
    "        train_data,\n",
    "        batch_size=batch_size,\n",
    "        pin_memory=use_gpu,\n",
    "        num_workers=load_workers,\n",
    "        drop_last=False,\n",
    "        collate_fn=collate,\n",
    "        shuffle=False)\n",
    "\n",
    "    valid_loader = th.utils.data.DataLoader(\n",
    "        valid_data,\n",
    "        batch_size=batch_size,\n",
    "        pin_memory=use_gpu,\n",
    "        num_workers=load_workers,\n",
    "        drop_last=False,\n",
    "        collate_fn=collate,\n",
    "        shuffle=False)\n",
    "\n",
    "    if use_gpu:\n",
    "        model.cuda()\n",
    "\n",
    "    # all parameters with `requires_grad` set\n",
    "    parameters = list(filter(lambda param: param.requires_grad, model.parameters()))\n",
    "    \n",
    "    # cross entropy loss, ignore padding tokens\n",
    "    loss_func = th.nn.CrossEntropyLoss(\n",
    "        ignore_index=Vocab.pad_idx,\n",
    "        reduction='sum')\n",
    "\n",
    "    # RProp optimizer\n",
    "    optimizer = th.optim.Rprop(lr=learning_rate, params=parameters)\n",
    "    #optimizer = th.optim.Adam(lr=learning_rate, params=parameters)\n",
    "    \n",
    "    # exponential learning rate decay\n",
    "    #lr_scheduler = th.optim.lr_scheduler.ExponentialLR(optimizer, learning_rate_decay)\n",
    "\n",
    "    # performance metrics\n",
    "    train_losses = []\n",
    "    valid_losses = []\n",
    "\n",
    "    # best model state for early stopping\n",
    "    best_train_loss = float('inf')\n",
    "    best_valid_loss = float('inf')\n",
    "    best_epoch = 0\n",
    "    best_state = None\n",
    "\n",
    "    # for each training epoch\n",
    "    for epoch in range(max_epochs):                                                                                                                                                                     \n",
    "        # enter training mode\n",
    "        model.train()\n",
    "\n",
    "        # zero the gradients\n",
    "        # we accumulate over all batches, so this is per-epoch\n",
    "        optimizer.zero_grad()\n",
    "\n",
    "        # training pass\n",
    "        epoch_train_losses = []\n",
    "        for i, batch in enumerate(train_loader):\n",
    "            # zero the gradients\n",
    "            #optimizer.zero_grad()\n",
    "\n",
    "            # move batch to requested device\n",
    "            if use_gpu:\n",
    "                batch = batch.cuda()\n",
    "\n",
    "            preds = model(batch)\n",
    "            loss = loss_func(                                                                       \n",
    "                preds.reshape(-1, model.vocab_size),                                                \n",
    "                batch.reshape(-1))\n",
    "\n",
    "            loss_f = loss.item()\n",
    "            epoch_train_losses.append(loss_f)\n",
    "\n",
    "            loss.backward()\n",
    "\n",
    "        optimizer.step()\n",
    "\n",
    "        train_losses.append(sum(epoch_train_losses))\n",
    "\n",
    "        # back to evaluation mode\n",
    "        model.eval()\n",
    "\n",
    "        # validation loss\n",
    "        with th.no_grad():\n",
    "            epoch_valid_losses = []\n",
    "            for i, batch in enumerate(valid_loader):\n",
    "                if use_gpu:\n",
    "                    batch = batch.cuda()\n",
    "\n",
    "                preds = model(batch)\n",
    "                loss = loss_func(\n",
    "                    preds.reshape(-1, model.vocab_size),\n",
    "                    batch.reshape(-1))\n",
    "\n",
    "                loss_f = loss.item()\n",
    "                epoch_valid_losses.append(loss_f)\n",
    "\n",
    "        valid_losses.append(sum(epoch_valid_losses))\n",
    "\n",
    "        if valid_losses[-1] < best_valid_loss:\n",
    "            best_train_loss = train_losses[-1]\n",
    "            best_valid_loss = valid_losses[-1]\n",
    "            best_epoch = epoch\n",
    "            best_state = copy.deepcopy(model.state_dict())\n",
    "\n",
    "        print('epoch:', epoch)\n",
    "        print('best epoch:', best_epoch)\n",
    "        print('learning rate:', next(iter(optimizer.param_groups))['lr'])\n",
    "        print('train loss:', train_losses[-1])\n",
    "        print('valid loss:', valid_losses[-1])\n",
    "        print('=======')\n",
    "                \n",
    "        if (best_epoch + stop_epochs) <= epoch:\n",
    "            print(f'terminating after {stop_epochs} of no improvement')\n",
    "            break\n",
    "            \n",
    "        #lr_scheduler.step()\n",
    "\n",
    "    if best_state is None:\n",
    "        raise RuntimeError('best state not set!')\n",
    "\n",
    "    model.load_state_dict(best_state)\n",
    "\n",
    "    if use_gpu:\n",
    "        model.cpu()\n",
    "\n",
    "    return munch.munchify({\n",
    "        'train_losses': train_losses,\n",
    "        'valid_losses': valid_losses,\n",
    "        'best_train_loss': best_train_loss,\n",
    "        'best_valid_loss': best_valid_loss,\n",
    "        'best_epoch': best_epoch,\n",
    "    })"
   ]
  },
  {
   "cell_type": "code",
   "execution_count": null,
   "metadata": {},
   "outputs": [],
   "source": []
  },
  {
   "cell_type": "code",
   "execution_count": 48,
   "metadata": {},
   "outputs": [],
   "source": [
    "cbow = CBOW(vocab_size=len(vocab), embed_dim=32)#, max_norm=math.sqrt(32))"
   ]
  },
  {
   "cell_type": "code",
   "execution_count": 49,
   "metadata": {},
   "outputs": [
    {
     "name": "stdout",
     "output_type": "stream",
     "text": [
      "epoch: 0\n",
      "best epoch: 0\n",
      "learning rate: 0.01\n",
      "train loss: 10178248619.263428\n",
      "valid loss: 522515790.4626465\n",
      "=======\n",
      "epoch: 1\n",
      "best epoch: 1\n",
      "learning rate: 0.01\n",
      "train loss: 9918670694.95752\n",
      "valid loss: 507141938.6359863\n",
      "=======\n",
      "epoch: 2\n",
      "best epoch: 2\n",
      "learning rate: 0.01\n",
      "train loss: 9626374658.73999\n",
      "valid loss: 489507894.90356445\n",
      "=======\n",
      "epoch: 3\n",
      "best epoch: 3\n",
      "learning rate: 0.01\n",
      "train loss: 9291170774.88379\n",
      "valid loss: 469126501.06225586\n",
      "=======\n",
      "epoch: 4\n",
      "best epoch: 4\n",
      "learning rate: 0.01\n",
      "train loss: 8903784501.391602\n",
      "valid loss: 445865610.16845703\n",
      "=======\n",
      "epoch: 5\n",
      "best epoch: 5\n",
      "learning rate: 0.01\n",
      "train loss: 8461869488.496582\n",
      "valid loss: 420255390.5041504\n",
      "=======\n",
      "epoch: 6\n",
      "best epoch: 6\n",
      "learning rate: 0.01\n",
      "train loss: 7975461329.395264\n",
      "valid loss: 394146121.8166504\n",
      "=======\n",
      "epoch: 7\n",
      "best epoch: 7\n",
      "learning rate: 0.01\n",
      "train loss: 7479521723.265869\n",
      "valid loss: 372648052.22021484\n",
      "=======\n",
      "epoch: 8\n",
      "best epoch: 8\n",
      "learning rate: 0.01\n",
      "train loss: 7070873536.835205\n",
      "valid loss: 360378813.0341797\n",
      "=======\n",
      "epoch: 9\n",
      "best epoch: 9\n",
      "learning rate: 0.01\n",
      "train loss: 6836720030.668213\n",
      "valid loss: 349786619.15527344\n",
      "=======\n",
      "epoch: 10\n",
      "best epoch: 10\n",
      "learning rate: 0.01\n",
      "train loss: 6633855668.796387\n",
      "valid loss: 338952673.03222656\n",
      "=======\n",
      "epoch: 11\n",
      "best epoch: 11\n",
      "learning rate: 0.01\n",
      "train loss: 6426298141.292603\n",
      "valid loss: 329838306.90649414\n",
      "=======\n",
      "epoch: 12\n",
      "best epoch: 12\n",
      "learning rate: 0.01\n",
      "train loss: 6252141569.286011\n",
      "valid loss: 321520737.6455078\n",
      "=======\n",
      "epoch: 13\n",
      "best epoch: 13\n",
      "learning rate: 0.01\n",
      "train loss: 6093511193.135376\n",
      "valid loss: 314846720.8713379\n",
      "=======\n",
      "epoch: 14\n",
      "best epoch: 14\n",
      "learning rate: 0.01\n",
      "train loss: 5966205980.695068\n",
      "valid loss: 309798039.1236572\n",
      "=======\n",
      "epoch: 15\n",
      "best epoch: 15\n",
      "learning rate: 0.01\n",
      "train loss: 5869756995.7717285\n",
      "valid loss: 305606500.0686035\n",
      "=======\n",
      "epoch: 16\n",
      "best epoch: 16\n",
      "learning rate: 0.01\n",
      "train loss: 5789575920.330688\n",
      "valid loss: 301917420.7269287\n",
      "=======\n",
      "epoch: 17\n",
      "best epoch: 17\n",
      "learning rate: 0.01\n",
      "train loss: 5718411178.980713\n",
      "valid loss: 298459693.6907959\n",
      "=======\n",
      "epoch: 18\n",
      "best epoch: 18\n",
      "learning rate: 0.01\n",
      "train loss: 5651183198.059204\n",
      "valid loss: 295117800.8208008\n",
      "=======\n",
      "epoch: 19\n",
      "best epoch: 19\n",
      "learning rate: 0.01\n",
      "train loss: 5586530108.439819\n",
      "valid loss: 291876730.692749\n",
      "=======\n",
      "epoch: 20\n",
      "best epoch: 20\n",
      "learning rate: 0.01\n",
      "train loss: 5523920273.508423\n",
      "valid loss: 288925406.12731934\n",
      "=======\n",
      "epoch: 21\n",
      "best epoch: 21\n",
      "learning rate: 0.01\n",
      "train loss: 5466987930.717407\n",
      "valid loss: 286194946.61279297\n",
      "=======\n",
      "epoch: 22\n",
      "best epoch: 22\n",
      "learning rate: 0.01\n",
      "train loss: 5414375881.496338\n",
      "valid loss: 283621936.8691406\n",
      "=======\n",
      "epoch: 23\n",
      "best epoch: 23\n",
      "learning rate: 0.01\n",
      "train loss: 5364773803.50293\n",
      "valid loss: 281114693.7988281\n",
      "=======\n",
      "epoch: 24\n",
      "best epoch: 24\n",
      "learning rate: 0.01\n",
      "train loss: 5316419113.846436\n",
      "valid loss: 278807645.5338135\n",
      "=======\n",
      "epoch: 25\n",
      "best epoch: 25\n",
      "learning rate: 0.01\n",
      "train loss: 5272091403.539307\n",
      "valid loss: 276577082.7001953\n",
      "=======\n",
      "epoch: 26\n",
      "best epoch: 26\n",
      "learning rate: 0.01\n",
      "train loss: 5229241680.962402\n",
      "valid loss: 274501364.10717773\n",
      "=======\n",
      "epoch: 27\n",
      "best epoch: 27\n",
      "learning rate: 0.01\n",
      "train loss: 5189109464.50708\n",
      "valid loss: 273269081.75097656\n",
      "=======\n",
      "epoch: 28\n",
      "best epoch: 28\n",
      "learning rate: 0.01\n",
      "train loss: 5165149861.021484\n",
      "valid loss: 271591103.4798584\n",
      "=======\n",
      "epoch: 29\n",
      "best epoch: 29\n",
      "learning rate: 0.01\n",
      "train loss: 5132487779.691528\n",
      "valid loss: 270378848.2155762\n",
      "=======\n",
      "epoch: 30\n",
      "best epoch: 30\n",
      "learning rate: 0.01\n",
      "train loss: 5108943165.40979\n",
      "valid loss: 269135138.102417\n",
      "=======\n",
      "epoch: 31\n",
      "best epoch: 31\n",
      "learning rate: 0.01\n",
      "train loss: 5084622919.11377\n",
      "valid loss: 267978862.52539062\n",
      "=======\n",
      "epoch: 32\n",
      "best epoch: 32\n",
      "learning rate: 0.01\n",
      "train loss: 5062215590.296265\n",
      "valid loss: 266930866.0784912\n",
      "=======\n",
      "epoch: 33\n",
      "best epoch: 33\n",
      "learning rate: 0.01\n",
      "train loss: 5041841171.974731\n",
      "valid loss: 265947010.31933594\n",
      "=======\n",
      "epoch: 34\n",
      "best epoch: 34\n",
      "learning rate: 0.01\n",
      "train loss: 5022611464.351685\n",
      "valid loss: 265129079.63964844\n",
      "=======\n"
     ]
    }
   ],
   "source": [
    "result = train(cbow, train_data, valid_data, batch_size=64, max_epochs=35)"
   ]
  },
  {
   "cell_type": "code",
   "execution_count": 50,
   "metadata": {},
   "outputs": [],
   "source": [
    "cbow.save('global_cbow.pkl')"
   ]
  },
  {
   "cell_type": "code",
   "execution_count": 51,
   "metadata": {},
   "outputs": [
    {
     "data": {
      "image/png": "[encoded data removed]",
      "text/plain": [
       "<Figure size 648x576 with 1 Axes>"
      ]
     },
     "metadata": {
      "needs_background": "light"
     },
     "output_type": "display_data"
    }
   ],
   "source": [
    "fig_loss = plt.figure()\n",
    "ax_loss = fig_loss.add_subplot(1, 1, 1)\n",
    "ax_loss.plot(result.train_losses, linewidth=2, label='Training')\n",
    "ax_loss.set_xlabel('Epoch')\n",
    "ax_loss.set_ylabel('Training Loss')\n",
    "ax_loss.autoscale(tight=True)\n",
    "ax_loss.grid();"
   ]
  },
  {
   "cell_type": "code",
   "execution_count": 52,
   "metadata": {},
   "outputs": [
    {
     "data": {
      "image/png": "[encoded data removed]",
      "text/plain": [
       "<Figure size 648x576 with 1 Axes>"
      ]
     },
     "metadata": {
      "needs_background": "light"
     },
     "output_type": "display_data"
    }
   ],
   "source": [
    "fig_loss = plt.figure()\n",
    "ax_loss = fig_loss.add_subplot(1, 1, 1)\n",
    "ax_loss.plot(result.valid_losses, linewidth=2, label='Validation')\n",
    "ax_loss.scatter(\n",
    "    (result.best_epoch,), (result.best_valid_loss,),\n",
    "    linewidth=3, s=200, marker='x', color='red', label='Best')\n",
    "ax_loss.set_xlabel('Epoch')\n",
    "ax_loss.set_ylabel('Validation Loss')\n",
    "ax_loss.autoscale(tight=True)\n",
    "ax_loss.grid();"
   ]
  },
  {
   "cell_type": "code",
   "execution_count": 53,
   "metadata": {},
   "outputs": [
    {
     "data": {
      "text/plain": [
       "tensor([27583, 30281, 20630,  2113, 29437, 15638,  1846,  5232,  9908,    38,\n",
       "        17920,    44,     2,     1,  1732,  4934, 20863,     1])"
      ]
     },
     "execution_count": 53,
     "metadata": {},
     "output_type": "execute_result"
    }
   ],
   "source": [
    "test_words = ['space', 'trump', 'obama', 'apollo', 'the', 'is', 'and', 'cat', 'elliott', ',',   \n",
    "              'maggie', '.', '99', 'bksdhjfbhyjk', 'america', 'canada', 'omega', 'pytorch']     \n",
    "\n",
    "test_idxs = th.as_tensor([vocab[word] for word in test_words], dtype=th.int64)                  \n",
    "test_idxs"
   ]
  },
  {
   "cell_type": "code",
   "execution_count": 54,
   "metadata": {},
   "outputs": [
    {
     "name": "stdout",
     "output_type": "stream",
     "text": [
      "======= euclidean =======\n",
      "space\n",
      "['space', 'topology', 'utility', 'oscillator', 'discipline', 'controls', 'centers', 'phonology', 'lobby', 'setup']\n",
      "trump\n",
      "['trump', 'rockwell', 'clough', 'bloch', 'nixon', 'finley', 'dolan', 'poe', 'parry', 'obama']\n",
      "obama\n",
      "['obama', 'trump', 'wordsworth', 'lieutenant', 'poe', 'stanhope', 'gaye', 'cabinet', 'latimer', 'jing']\n",
      "apollo\n",
      "['apollo', 'mercury', 'frontline', 'atlas', 'mint', 'babylon', 'hermes', 'liberty', 'invincible', 'nomad']\n",
      "the\n",
      "['the', 'america’s', 'its', 'charters', '“the', 'another', 'today’s', 'caicos', 'their', 'manly']\n",
      "is\n",
      "['is', 'boasts', 'constitutes', 'contains', 'achieves', 'occupies', 'utilizes', 'makes', 'resembles', 'retains']\n",
      "and\n",
      "['and', 'utilizing', 'enabling', 'capturing', 'showing', 'and/or', 'towards', 'while', 'sending', 'sandwiched']\n",
      "cat\n",
      "['cat', 'snake', 'nymph', 'sinister', 'dog', 'sweet', 'lark', 'elephant', 'haunting', 'sage']\n",
      "elliott\n",
      "['elliott', 'roberts', 'vance', 'jarvis', 'cullen', 'olson', 'emery', 'engel', 'henderson', 'pollock']\n",
      ",\n",
      "[',', '—', '-', 'forbids', ';', 'faced', 'unites', 'lost', 'uses', 'lacks']\n",
      "maggie\n",
      "['maggie', 'jake', 'kate', 'lisa', 'bonnie', 'katie', 'betty', 'polly', 'peggy', 'annie']\n",
      ".\n",
      "['.', '(', ';', '—', 'classifies', '-', 'involving', '—the', 'vs', 'adopting']\n",
      "99\n",
      "['<num>', 'mid-june', '4–5', '1–5', '1977–78', 'thirty-six', '8–10', '1989–90', 'innsbruck', '1855.']\n",
      "bksdhjfbhyjk\n",
      "['<unk>', 'schmidt', 'ata', 'bose', 'beer', 'ness', 'dupont', 'conte', 'hoffmann', 'bhaskar']\n",
      "america\n",
      "['america', 'korea', 'rhine-westphalia', 'hebron', 'aisles', 'palmerston', 'kwazulu-natal', 'smithfield', 'raleigh', 'lanarkshire']\n",
      "canada\n",
      "['canada', 'australia', 'taiwan', 'libya', 'namibia', 'nicaragua', 'burma', 'europe', 'brazil', 'thailand']\n",
      "omega\n",
      "['omega', 'alpha', 'beta', 'mu', 'gamma', 'sigma', 'acs', 'psi', 'fraternity', 'rsa']\n",
      "pytorch\n",
      "['<unk>', 'schmidt', 'ata', 'bose', 'beer', 'ness', 'dupont', 'conte', 'hoffmann', 'bhaskar']\n",
      "(18, 10)\n"
     ]
    }
   ],
   "source": [
    "print('======= euclidean =======')\n",
    "nearest_idxs = cbow.nearest(test_idxs).numpy()\n",
    "for word, idxs in zip(test_words, nearest_idxs):\n",
    "    print(word)\n",
    "    print([vocab.reverse[idx] for idx in idxs])\n",
    "print(nearest_idxs.shape)"
   ]
  },
  {
   "cell_type": "code",
   "execution_count": 55,
   "metadata": {},
   "outputs": [
    {
     "name": "stdout",
     "output_type": "stream",
     "text": [
      "======= cosine =======\n",
      "space\n",
      "['space', 'topology', 'oscillator', 'phonology', 'diversity', 'spaces', 'centers', 'notation', 'geometry', 'propulsion']\n",
      "trump\n",
      "['trump', 'clough', 'rockwell', 'nixon', 'finley', 'bloch', 'dolan', 'poe', 'obama', 'lichtenstein']\n",
      "obama\n",
      "['obama', 'trump', 'wordsworth', 'lieutenant', 'poe', 'stanhope', 'gaye', 'latimer', 'cabinet', 'jing']\n",
      "apollo\n",
      "['apollo', 'babylon', 'invincible', 'hermes', 'mercury', 'voyager', 'argus', 'terminator', 'mirage', 'bleach']\n",
      "the\n",
      "['the', 'america’s', 'its', 'today’s', '“the', 'caicos', 'their', 'graders', 'arnhem', 'another']\n",
      "is\n",
      "['is', 'boasts', 'constitutes', 'contains', 'achieves', 'occupies', 'utilizes', 'makes', 'resembles', 'retains']\n",
      "and\n",
      "['and', 'enabling', 'utilizing', 'sandwiched', 'showing', 'prompting', 'towards', 'sikorsky', '/', 'utilising']\n",
      "cat\n",
      "['cat', 'nymph', 'snake', 'haunting', 'comb', 'sinister', 'sauce', 'stalker', 'pet', 'lobster']\n",
      "elliott\n",
      "['elliott', 'roberts', 'vance', 'olson', 'cullen', 'emery', 'engel', 'mayer', 'jarvis', 'olsen']\n",
      ",\n",
      "[',', '—', 'forbids', 'faced', 'unites', 'uses', 'lacks', 'lost', '-', 'classifies']\n",
      "maggie\n",
      "['maggie', 'jake', 'kate', 'lisa', 'katie', 'bonnie', 'betty', 'polly', 'annie', 'peggy']\n",
      ".\n",
      "['.', '(', ';', '—', 'classifies', '—the', 'preserves', 'brings', 'fiba', '-']\n",
      "99\n",
      "['<num>', 'mid-june', '4–5', '1–5', '1977–78', 'thirty-six', '8–10', '1989–90', 'innsbruck', '1855.']\n",
      "bksdhjfbhyjk\n",
      "['<unk>', 'schmidt', 'ata', 'bose', 'ness', 'conte', 'hoffmann', 'bhaskar', 'bala', 'rossi']\n",
      "america\n",
      "['america', 'korea', 'rhine-westphalia', 'aisles', 'hebron', 'palmerston', 'kwazulu-natal', 'smithfield', 'lanarkshire', 'whittier']\n",
      "canada\n",
      "['canada', 'australia', 'libya', 'namibia', 'taiwan', 'nicaragua', 'burma', 'europe', 'brazil', 'thailand']\n",
      "omega\n",
      "['omega', 'alpha', 'beta', 'mu', 'gamma', 'sigma', 'acs', 'psi', 'fraternity', 'pd']\n",
      "pytorch\n",
      "['<unk>', 'schmidt', 'ata', 'bose', 'ness', 'conte', 'hoffmann', 'bhaskar', 'bala', 'rossi']\n",
      "(18, 10)\n"
     ]
    }
   ],
   "source": [
    "print('======= cosine =======')\n",
    "nearest_idxs = cbow.nearest_cosine(test_idxs).numpy()\n",
    "for word, idxs in zip(test_words, nearest_idxs):\n",
    "    print(word)\n",
    "    print([vocab.reverse[idx] for idx in idxs])\n",
    "print(nearest_idxs.shape)"
   ]
  },
  {
   "cell_type": "code",
   "execution_count": null,
   "metadata": {},
   "outputs": [],
   "source": []
  },
  {
   "cell_type": "code",
   "execution_count": 82,
   "metadata": {},
   "outputs": [
    {
     "data": {
      "text/plain": [
       "tensor(31.5490, grad_fn=<SumBackward0>)"
      ]
     },
     "execution_count": 82,
     "metadata": {},
     "output_type": "execute_result"
    }
   ],
   "source": []
  },
  {
   "cell_type": "code",
   "execution_count": 80,
   "metadata": {},
   "outputs": [
    {
     "data": {
      "text/plain": [
       "tensor(27.5680, grad_fn=<SumBackward0>)"
      ]
     },
     "execution_count": 80,
     "metadata": {},
     "output_type": "execute_result"
    }
   ],
   "source": []
  },
  {
   "cell_type": "code",
   "execution_count": 79,
   "metadata": {},
   "outputs": [
    {
     "data": {
      "text/plain": [
       "tensor(30.4884, grad_fn=<SumBackward0>)"
      ]
     },
     "execution_count": 79,
     "metadata": {},
     "output_type": "execute_result"
    }
   ],
   "source": []
  },
  {
   "cell_type": "code",
   "execution_count": 85,
   "metadata": {},
   "outputs": [
    {
     "data": {
      "text/plain": [
       "tensor(32.0000, grad_fn=<SumBackward0>)"
      ]
     },
     "execution_count": 85,
     "metadata": {},
     "output_type": "execute_result"
    }
   ],
   "source": [
    "(cbow.embedding(th.tensor(vocab['23']))**2).sum()"
   ]
  },
  {
   "cell_type": "code",
   "execution_count": 96,
   "metadata": {},
   "outputs": [],
   "source": [
    "emb_mat = cbow.embedding.weight.detach()"
   ]
  },
  {
   "cell_type": "code",
   "execution_count": 97,
   "metadata": {},
   "outputs": [
    {
     "data": {
      "text/plain": [
       "torch.Size([32768, 32])"
      ]
     },
     "execution_count": 97,
     "metadata": {},
     "output_type": "execute_result"
    }
   ],
   "source": [
    "emb_mat.shape"
   ]
  },
  {
   "cell_type": "code",
   "execution_count": 98,
   "metadata": {},
   "outputs": [
    {
     "data": {
      "text/plain": [
       "tensor([0., 0., 0., 0., 0., 0., 0., 0., 0., 0., 0., 0., 0., 0., 0., 0., 0., 0., 0., 0., 0., 0., 0., 0.,\n",
       "        0., 0., 0., 0., 0., 0., 0., 0.])"
      ]
     },
     "execution_count": 98,
     "metadata": {},
     "output_type": "execute_result"
    }
   ],
   "source": [
    "emb_mat[0]"
   ]
  },
  {
   "cell_type": "code",
   "execution_count": 99,
   "metadata": {},
   "outputs": [
    {
     "data": {
      "text/plain": [
       "tensor([-0.4857, -0.1680, -0.2881,  1.7850,  0.1005,  0.0575, -0.6526, -0.5757,\n",
       "         0.5585,  0.9130,  0.9822, -0.2928, -0.4914,  1.4985,  2.0124, -0.5009,\n",
       "        -0.0243,  0.2896,  0.1180, -1.0195, -0.7109,  1.1856,  0.9750,  0.5419,\n",
       "        -0.2264, -0.7722, -1.5106,  1.0604,  0.6314, -0.0260,  0.9343, -1.1601])"
      ]
     },
     "execution_count": 99,
     "metadata": {},
     "output_type": "execute_result"
    }
   ],
   "source": [
    "emb_mat[1]"
   ]
  },
  {
   "cell_type": "code",
   "execution_count": 113,
   "metadata": {},
   "outputs": [
    {
     "data": {
      "text/plain": [
       "(tensor([0.0000, 4.9247, 5.6569,  ..., 5.6569, 5.6569, 5.6569]),\n",
       " 5.656854249492381)"
      ]
     },
     "execution_count": 113,
     "metadata": {},
     "output_type": "execute_result"
    }
   ],
   "source": [
    "emb_l2 = th.sqrt((emb_mat**2).sum(1))\n",
    "emb_l2, math.sqrt(emb_mat.shape[1])"
   ]
  },
  {
   "cell_type": "code",
   "execution_count": 114,
   "metadata": {},
   "outputs": [
    {
     "data": {
      "text/plain": [
       "(tensor(0.), tensor(5.6569), tensor(5.5210))"
      ]
     },
     "execution_count": 114,
     "metadata": {},
     "output_type": "execute_result"
    }
   ],
   "source": [
    "emb_l2.min(), emb_l2.max(), emb_l2.mean()"
   ]
  },
  {
   "cell_type": "code",
   "execution_count": 120,
   "metadata": {},
   "outputs": [
    {
     "data": {
      "image/png": "[encoded data removed]",
      "text/plain": [
       "<Figure size 648x576 with 1 Axes>"
      ]
     },
     "metadata": {
      "needs_background": "light"
     },
     "output_type": "display_data"
    }
   ],
   "source": [
    "plt.hist(emb_l2.numpy(), bins=30);"
   ]
  },
  {
   "cell_type": "code",
   "execution_count": null,
   "metadata": {},
   "outputs": [],
   "source": []
  },
  {
   "cell_type": "code",
   "execution_count": 153,
   "metadata": {},
   "outputs": [
    {
     "data": {
      "image/png": "[encoded data removed]",
      "text/plain": [
       "<Figure size 648x576 with 1 Axes>"
      ]
     },
     "metadata": {
      "needs_background": "light"
     },
     "output_type": "display_data"
    }
   ],
   "source": [
    "plt.scatter(emb_mat[:, 0], emb_mat[:, 1]);"
   ]
  },
  {
   "cell_type": "code",
   "execution_count": 154,
   "metadata": {},
   "outputs": [
    {
     "data": {
      "image/png": "[encoded data removed]",
      "text/plain": [
       "<Figure size 648x576 with 1 Axes>"
      ]
     },
     "metadata": {
      "needs_background": "light"
     },
     "output_type": "display_data"
    }
   ],
   "source": [
    "plt.scatter(emb_mat[:, 1], emb_mat[:, 2]);"
   ]
  },
  {
   "cell_type": "code",
   "execution_count": 155,
   "metadata": {},
   "outputs": [
    {
     "data": {
      "image/png": "[encoded data removed]",
      "text/plain": [
       "<Figure size 648x576 with 1 Axes>"
      ]
     },
     "metadata": {
      "needs_background": "light"
     },
     "output_type": "display_data"
    }
   ],
   "source": [
    "plt.scatter(emb_mat[:, 2], emb_mat[:, 3]);"
   ]
  },
  {
   "cell_type": "code",
   "execution_count": null,
   "metadata": {},
   "outputs": [],
   "source": []
  },
  {
   "cell_type": "code",
   "execution_count": null,
   "metadata": {},
   "outputs": [],
   "source": []
  },
  {
   "cell_type": "code",
   "execution_count": 158,
   "metadata": {},
   "outputs": [],
   "source": [
    "means = emb_mat.mean(0)\n",
    "u, d, v = th.svd(emb_mat - means)\n",
    "\n",
    "mags = d**2 / (emb_mat.shape[0] - 1.0)\n",
    "w = v.T / d\n",
    "\n",
    "pcomps = emb_mat @ w"
   ]
  },
  {
   "cell_type": "code",
   "execution_count": 165,
   "metadata": {},
   "outputs": [
    {
     "data": {
      "image/png": "[encoded data removed]",
      "text/plain": [
       "<Figure size 648x576 with 1 Axes>"
      ]
     },
     "metadata": {
      "needs_background": "light"
     },
     "output_type": "display_data"
    }
   ],
   "source": [
    "plt.bar(range(mags.shape[0]), mags);"
   ]
  },
  {
   "cell_type": "code",
   "execution_count": 161,
   "metadata": {},
   "outputs": [
    {
     "data": {
      "image/png": "[encoded data removed]",
      "text/plain": [
       "<Figure size 648x576 with 1 Axes>"
      ]
     },
     "metadata": {
      "needs_background": "light"
     },
     "output_type": "display_data"
    }
   ],
   "source": [
    "plt.scatter(pcomps[:, 0], pcomps[:, 1]);\n",
    "\n",
    "words = ('elliott', 'fred', 'frank', 'john')\n",
    "idxs = [vocab[word] for word in words]\n",
    "plt.scatter(pcomps[idxs, 0], pcomps[idxs, 1], color='red');\n",
    "\n",
    "\n",
    "words = ('omega', 'mu', 'alpha', 'beta', 'gamma')\n",
    "idxs = [vocab[word] for word in words]\n",
    "plt.scatter(pcomps[idxs, 0], pcomps[idxs, 1], color='orange');"
   ]
  },
  {
   "cell_type": "code",
   "execution_count": 162,
   "metadata": {},
   "outputs": [
    {
     "data": {
      "image/png": "[encoded data removed]",
      "text/plain": [
       "<Figure size 648x576 with 1 Axes>"
      ]
     },
     "metadata": {
      "needs_background": "light"
     },
     "output_type": "display_data"
    }
   ],
   "source": [
    "plt.scatter(pcomps[:, 1], pcomps[:, 2]);\n",
    "\n",
    "words = ('elliott', 'fred', 'frank', 'john')\n",
    "idxs = [vocab[word] for word in words]\n",
    "plt.scatter(pcomps[idxs, 1], pcomps[idxs, 2], color='red');\n",
    "\n",
    "\n",
    "words = ('omega', 'mu', 'alpha', 'beta', 'gamma')\n",
    "idxs = [vocab[word] for word in words]\n",
    "plt.scatter(pcomps[idxs, 1], pcomps[idxs, 2], color='orange');"
   ]
  },
  {
   "cell_type": "code",
   "execution_count": 163,
   "metadata": {},
   "outputs": [
    {
     "data": {
      "image/png": "[encoded data removed]",
      "text/plain": [
       "<Figure size 648x576 with 1 Axes>"
      ]
     },
     "metadata": {
      "needs_background": "light"
     },
     "output_type": "display_data"
    }
   ],
   "source": [
    "plt.scatter(pcomps[:, 30], pcomps[:, 31]);\n",
    "\n",
    "words = ('elliott', 'fred', 'frank', 'john')\n",
    "idxs = [vocab[word] for word in words]\n",
    "plt.scatter(pcomps[idxs, 30], pcomps[idxs, 31], color='red');\n",
    "\n",
    "\n",
    "words = ('omega', 'mu', 'alpha', 'beta', 'gamma')\n",
    "idxs = [vocab[word] for word in words]\n",
    "plt.scatter(pcomps[idxs, 30], pcomps[idxs, 31], color='orange');"
   ]
  },
  {
   "cell_type": "code",
   "execution_count": null,
   "metadata": {},
   "outputs": [],
   "source": []
  }
 ],
 "metadata": {
  "kernelspec": {
   "display_name": "Python 3",
   "language": "python",
   "name": "python3"
  },
  "language_info": {
   "codemirror_mode": {
    "name": "ipython",
    "version": 3
   },
   "file_extension": ".py",
   "mimetype": "text/x-python",
   "name": "python",
   "nbconvert_exporter": "python",
   "pygments_lexer": "ipython3",
   "version": "3.8.6"
  }
 },
 "nbformat": 4,
 "nbformat_minor": 4
}
