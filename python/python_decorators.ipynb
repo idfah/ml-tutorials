{
 "cells": [
  {
   "cell_type": "markdown",
   "metadata": {},
   "source": [
    "# Python Decorators  - what they are and how they work\n",
    "\n",
    "---\n",
    "\n",
    "__Elliott Forney - 2020__\n",
    "\n",
    "Decorators are a useful and flexible construct in python that can be used in may ways.  In this notebook, we will first explore some common ways that python decorators can be used.  We will then examine how decoators work and see that they are really just syntactic sugar around wrapper functions.  Using this insight, we'll see how to write custom function decorators and, finally, we will also see how to build custom decorators for classes."
   ]
  },
  {
   "cell_type": "markdown",
   "metadata": {},
   "source": [
    "## Common decorators\n",
    "\n",
    "A number of common decorators have found there way into the standard Python API.  A good place to start looking at decorators is to examine this standard functionality and see how it is generally used."
   ]
  },
  {
   "cell_type": "markdown",
   "metadata": {},
   "source": [
    "### `@staticmethod`\n",
    "\n",
    "The `staticmethod` decorator allows methods to be defined on classes that are not bound to an instance of the class and do not reference the `self` variable that we typically see with member functions.  This is similar to the `static` keyword that can be placed on methods in Java and C++.\n",
    "\n",
    "In the example below, we create a very simple class that represents and \"artificial agent.\"  This class can be instantiated and interacted with using some (very naive) natural language requests.\n",
    "\n",
    "One of the tasks that the agent can perform is to compute the value of the irrational number $\\phi$, i.e., the \"golden ratio.\"\n",
    "\n",
    "Note, however, that computing $\\phi$ doesn't require any class instance information and can be implemented as an isolated function.  In other words, it doesn't need to reference `self`, which is a good rule of thumb for when to use the `@staticmethod` decorator.\n",
    "\n",
    "We could simply place the `compute_phi` function outside of the class and make it free-standing.  Since it is generally related to our `ArtificialAgent` class, however, it may make more sense to simply keep this free function inside of the class and declare it a static method."
   ]
  },
  {
   "cell_type": "markdown",
   "metadata": {},
   "source": [
    "<font color=\"maroon\">__sidenote:__ Python classes can be \"callable,\" just like functions.  All you have to do is implement the `__call__` method.</font>"
   ]
  },
  {
   "cell_type": "code",
   "execution_count": 2,
   "metadata": {},
   "outputs": [],
   "source": [
    "class ArtificialAgent:\n",
    "    '''Artificial agent that can interact using a super\n",
    "    naive natural language interface.\n",
    "    '''\n",
    "    def __init__(self, name='HAL9000'):\n",
    "        '''Create a new agent with a name.'''\n",
    "        self.name = name\n",
    "        \n",
    "    def __call__(self, message):\n",
    "        '''Calling an instance directly interfaces with\n",
    "        the agent using natural language.\n",
    "        '''\n",
    "        message = message.lower()\n",
    "\n",
    "        if message.startswith('hello'):\n",
    "            return f'Hello!  My name is {self.name}.'\n",
    "        \n",
    "        if message.startswith('how are you'):\n",
    "            return 'I am well.  How are you Dave?'\n",
    "        \n",
    "        if message.endswith('phi.'):\n",
    "            return self.compute_phi()\n",
    "        \n",
    "        return 'Sorry, I do not understand.'\n",
    "    \n",
    "    @staticmethod\n",
    "    def compute_phi():\n",
    "        '''Compute the value of $\\phi$ (the golden ratio).\n",
    "        This does not need to reference `self`, so it can be\n",
    "        a `staticmethod`.\n",
    "        '''\n",
    "        table = [1, 1]\n",
    "        for i in range(2, 1000):\n",
    "            table.append(table[i-1] + table[i-2])\n",
    "            \n",
    "        return table[-1] / table[-2]"
   ]
  },
  {
   "cell_type": "markdown",
   "metadata": {},
   "source": [
    "Next, we can create an instance of our artificial agent and and ask it to compute $\\phi$.  Internally, this calls the static `compute_phi` method."
   ]
  },
  {
   "cell_type": "code",
   "execution_count": 43,
   "metadata": {},
   "outputs": [],
   "source": [
    "agent = ArtificialAgent()"
   ]
  },
  {
   "cell_type": "code",
   "execution_count": 44,
   "metadata": {},
   "outputs": [
    {
     "data": {
      "text/plain": [
       "'Hello!  My name is HAL9000.'"
      ]
     },
     "execution_count": 44,
     "metadata": {},
     "output_type": "execute_result"
    }
   ],
   "source": [
    "agent('hello')"
   ]
  },
  {
   "cell_type": "code",
   "execution_count": 45,
   "metadata": {},
   "outputs": [
    {
     "data": {
      "text/plain": [
       "'I am well.  How are you Dave?'"
      ]
     },
     "execution_count": 45,
     "metadata": {},
     "output_type": "execute_result"
    }
   ],
   "source": [
    "agent('How are you doing?')"
   ]
  },
  {
   "cell_type": "code",
   "execution_count": 46,
   "metadata": {},
   "outputs": [
    {
     "data": {
      "text/plain": [
       "1.618033988749895"
      ]
     },
     "execution_count": 46,
     "metadata": {},
     "output_type": "execute_result"
    }
   ],
   "source": [
    "agent('HAL, please compute the value of Phi.')"
   ]
  },
  {
   "cell_type": "markdown",
   "metadata": {},
   "source": [
    "Notice, however, that __we don't need to instantiate the class in order to call `compute_phi`__!\n",
    "\n",
    "Since static methods do not reference self, they can be called directly on the uninstantiated `class`."
   ]
  },
  {
   "cell_type": "code",
   "execution_count": 47,
   "metadata": {},
   "outputs": [
    {
     "data": {
      "text/plain": [
       "1.618033988749895"
      ]
     },
     "execution_count": 47,
     "metadata": {},
     "output_type": "execute_result"
    }
   ],
   "source": [
    "ArtificialAgent.compute_phi()"
   ]
  },
  {
   "cell_type": "markdown",
   "metadata": {},
   "source": [
    "The `@staticmethod` can be super valueable for organizing your code in a way the methods related to a class remain in the class, even if they do not require information about a specific instance."
   ]
  },
  {
   "cell_type": "markdown",
   "metadata": {},
   "source": [
    "### `@classmethod`\n",
    "\n",
    "The `@classmethod` decorator is another useful decorator found in the standard Python API that allows us to create methods that are passed an argument called `cls` that is the actual class (__not__ instance/`self`) as the first argument.  Class methods then return an instance of `cls`.\n",
    "\n",
    "The most popular use of this decorator is to create methods that return new instances of a class, in addition to the classes primary \"constructor,\" i.e., in addition to the `__init__` method.  In order to see why this is so useful, recall that Python does not allow method overloading, i.e., you can't have multiple function signatures with the same name but different arguments.  This means that we cannot overload the constructor in order to create class instances in different ways!!\n",
    "\n",
    "So, if we need to have multiple methods for creating class instances, how can we do that?  Hooray for class methods!  The general approach for having multiple constructors in Python is to first define an `__init__` method that takes the simplest, most basic arguments required to instantiate the class.\n",
    "\n",
    "Then, we can define additional methods with the `@classmethod` decorator that process different inputs and then call the primary constructor of the class.\n",
    "\n",
    "In order to see how this works, consider the example below where we have a class called `ServerInfo` that tracks an ip address and port for a generic server.  The default `__init__` takes these most basic arguments, a string `ip` and `port`.  But what if we want to construct a server from a hostname?  The answer is to create a class method that takes `hostname` and `port`, performs the hostname resolution to get `ip` and then calls `__init__` with `ip` and `port`."
   ]
  },
  {
   "cell_type": "code",
   "execution_count": 10,
   "metadata": {},
   "outputs": [],
   "source": [
    "import socket, ipaddress"
   ]
  },
  {
   "cell_type": "code",
   "execution_count": 52,
   "metadata": {},
   "outputs": [],
   "source": [
    "class ServerInfo:\n",
    "    '''Basic information about a server on the internet.'''\n",
    "    def __init__(self, ip, port):\n",
    "        '''Construct server information from a string `ip` address\n",
    "        and an integer `port` number.'''\n",
    "        self.ip = str(ipaddress.ip_address(ip))\n",
    "        self.port = int(port)\n",
    "\n",
    "    @classmethod\n",
    "    def from_hostname(cls, host, port):\n",
    "        '''Construct server information from a string `hostname`\n",
    "        and an integer `port` number.  This method resolves\n",
    "        `hostname` into an ip address and then returns an instance.\n",
    "        '''\n",
    "        ip = socket.gethostbyname(host)\n",
    "        return cls(ip, port)\n",
    "        \n",
    "    def __repr__(self):\n",
    "        '''String representation of our server information.'''\n",
    "        return f'{self.ip}:{self.port}'"
   ]
  },
  {
   "cell_type": "markdown",
   "metadata": {},
   "source": [
    "Of course, we can create an instance of `ServerInfo` via the `__init__` method by simply calling the class with the `ip` address and `port` number arguments."
   ]
  },
  {
   "cell_type": "code",
   "execution_count": 49,
   "metadata": {},
   "outputs": [
    {
     "data": {
      "text/plain": [
       "127.0.0.1:8080"
      ]
     },
     "execution_count": 49,
     "metadata": {},
     "output_type": "execute_result"
    }
   ],
   "source": [
    "ServerInfo('127.0.0.1', 8080)"
   ]
  },
  {
   "cell_type": "markdown",
   "metadata": {},
   "source": [
    "If we have a `hostname` instead of an `ip` address, we can instead call the `from_hostname` class method on the `ServerInfo` class.  This method takes the class as an argument, looks up the ip address, and then returns an instance of the class."
   ]
  },
  {
   "cell_type": "code",
   "execution_count": 50,
   "metadata": {},
   "outputs": [
    {
     "data": {
      "text/plain": [
       "127.0.0.1:8080"
      ]
     },
     "execution_count": 50,
     "metadata": {},
     "output_type": "execute_result"
    }
   ],
   "source": [
    "ServerInfo.from_hostname('localhost', 8080)"
   ]
  },
  {
   "cell_type": "code",
   "execution_count": 51,
   "metadata": {},
   "outputs": [
    {
     "data": {
      "text/plain": [
       "172.217.1.196:8080"
      ]
     },
     "execution_count": 51,
     "metadata": {},
     "output_type": "execute_result"
    }
   ],
   "source": [
    "ServerInfo.from_hostname('www.google.com', 8080)"
   ]
  },
  {
   "cell_type": "markdown",
   "metadata": {},
   "source": [
    "But why do we need the `@classmethod` decorator in order to do this?  Couldn't we just create a `@staticmethod` that returns an instance of `ServerInfo`?\n",
    "\n",
    "Well, we could, but that wouldn't play nicely with inheritance.  In other words, if `from_hostname` returned `ServerInfo(ip, port)` then if we create a subclass called, say, `CustomServerInfo`, then the static method would, incorrectly, return an instance of the parent class.  The `@classmethod` decorator hides the details of finding the appropriate class and simply passes it as the `cls` argument for consumption.\n",
    "\n",
    "In order to see this, consider the example where we create a subclass of `ServerInfo` called `CustomServerInfo`.  This class behaves the same as it's parent but adds a method that checks if the ip/port combo is listening for connections"
   ]
  },
  {
   "cell_type": "markdown",
   "metadata": {},
   "source": [
    "<font color=\"maroon\">__sidenote:__ The `socket` class provides a context manager, so you can use the `with` keyword instead of `try`/`except`/`finally`/`close`."
   ]
  },
  {
   "cell_type": "code",
   "execution_count": 53,
   "metadata": {},
   "outputs": [],
   "source": [
    "class CustomServerInfo(ServerInfo):\n",
    "    def check_open(self):\n",
    "        '''Return `True` if the server is currently listening\n",
    "        for new connections and `False` otherwise.\n",
    "        '''\n",
    "        with socket.socket(socket.AF_INET) as sock:\n",
    "            sock.settimeout(1.0)\n",
    "            return not bool(sock.connect_ex((self.ip, self.port)))"
   ]
  },
  {
   "cell_type": "markdown",
   "metadata": {},
   "source": [
    "Notice that if we call the `from_hostname` class method, we get an instance of `CustomServerInfo`!!  Class methods play well with inheritance."
   ]
  },
  {
   "cell_type": "code",
   "execution_count": 54,
   "metadata": {},
   "outputs": [],
   "source": [
    "info = CustomServerInfo.from_hostname('www.google.com', 443)"
   ]
  },
  {
   "cell_type": "code",
   "execution_count": 55,
   "metadata": {},
   "outputs": [
    {
     "data": {
      "text/plain": [
       "__main__.CustomServerInfo"
      ]
     },
     "execution_count": 55,
     "metadata": {},
     "output_type": "execute_result"
    }
   ],
   "source": [
    "type(info)"
   ]
  },
  {
   "cell_type": "markdown",
   "metadata": {},
   "source": [
    "And, of course, we are able to leverage the functionality provided by the child class."
   ]
  },
  {
   "cell_type": "code",
   "execution_count": 56,
   "metadata": {},
   "outputs": [
    {
     "data": {
      "text/plain": [
       "True"
      ]
     },
     "execution_count": 56,
     "metadata": {},
     "output_type": "execute_result"
    }
   ],
   "source": [
    "info.check_open()"
   ]
  },
  {
   "cell_type": "code",
   "execution_count": 57,
   "metadata": {},
   "outputs": [],
   "source": [
    "info = CustomServerInfo.from_hostname('www.google.com', 8080)"
   ]
  },
  {
   "cell_type": "code",
   "execution_count": 58,
   "metadata": {},
   "outputs": [
    {
     "data": {
      "text/plain": [
       "False"
      ]
     },
     "execution_count": 58,
     "metadata": {},
     "output_type": "execute_result"
    }
   ],
   "source": [
    "info.check_open()"
   ]
  },
  {
   "cell_type": "markdown",
   "metadata": {},
   "source": [
    "### `@property`\n",
    "\n",
    "The `@property` decorator is another extremely useful piece of functionality provided by the Python API.  This decorator allows us to create functions that *appear* to be attributes (member variables) to the user.\n",
    "\n",
    "Properties can be used in many ways, but their primary use is to allow developers to avoid writting getters and setters without fear of possibly breaking the API in the future.\n",
    "\n",
    "In many object-oriented languages, e.g., Java and C++, it is recomended as a best practice to write getter and setter methods, a.k.a. accessor and mutator methods, for all attributes of a class unless the developer is *absolutely certain that there will never be a need in the future to compuate it dynamically or lazily*.  Since this is a \"big if,\" you often see APIs in these language with lots of `get_this` and `set_that` methods that do nothing more than set or return a member variable.\n",
    "\n",
    "In Python, properties allow us to not be concerned about possibly breaking the API in the future, by allowing class attributes to be replaced by methods in a way that is transparent to the caller.  In order to see this, consider the example where we have a `Circle` class that is constructed via the `radius` of a circle and where the caller will need to be able to get the area of the corresponding circle.\n",
    "\n",
    "In a simple implementation, it's easy enough to simply compute the area of the circle when it's constructed and save it as an attribute."
   ]
  },
  {
   "cell_type": "code",
   "execution_count": 59,
   "metadata": {},
   "outputs": [],
   "source": [
    "class Circle1:\n",
    "    '''A circle with an attribute called `area` that is\n",
    "    computed when the circle is instantiated.\n",
    "    '''\n",
    "    def __init__(self, radius):\n",
    "        self.radius = radius\n",
    "        self.area = 3.14159 * self.radius**2"
   ]
  },
  {
   "cell_type": "code",
   "execution_count": 60,
   "metadata": {},
   "outputs": [
    {
     "data": {
      "text/plain": [
       "452.38896"
      ]
     },
     "execution_count": 60,
     "metadata": {},
     "output_type": "execute_result"
    }
   ],
   "source": [
    "c1 = Circle1(12.0)\n",
    "c1.area"
   ]
  },
  {
   "cell_type": "markdown",
   "metadata": {},
   "source": [
    "But what if, someday, we are profiling our code and realize that (a) we are creating many millions of circles and (b) we only access the area for about 1% of those instances.  We could improve computation tremendously if we simply compute `area` when it is requested instead of during the construction of *all* circles.\n",
    "\n",
    "Now, that's great, but if we need to change the attribute `circle.area` to a method called `circle.get_area()`, then we will break all of the code that uses the `Circle` class.  In a large project or one that is used by other downstream code bases, this may be a tremendous undertaking that makes many developers and, potentially customers, unhappy.  In order to avoid this situation in the first place, one might simply start with `.get_area()` instead of making it an attribute to start with.\n",
    "\n",
    "In Python, however, this does not need to be a concern.  Instead, we can simply decorate a method called `area()` with `@property` and voila!  We can now compute area dynamically and it still appears to be an attribute to the caller.  The API does not break."
   ]
  },
  {
   "cell_type": "code",
   "execution_count": 32,
   "metadata": {},
   "outputs": [],
   "source": [
    "class Circle2:\n",
    "    '''A circle with a property called `area`.  Now,\n",
    "    the area is only computed when the property is\n",
    "    accessed, which may save computation time if it\n",
    "    is rare to access the area of the circle.\n",
    "    '''\n",
    "    def __init__(self, radius):\n",
    "        self.radius = radius\n",
    "        \n",
    "    @property\n",
    "    def area(self):\n",
    "        return 3.14159 * self.radius**2"
   ]
  },
  {
   "cell_type": "code",
   "execution_count": 33,
   "metadata": {},
   "outputs": [
    {
     "data": {
      "text/plain": [
       "452.38896"
      ]
     },
     "execution_count": 33,
     "metadata": {},
     "output_type": "execute_result"
    }
   ],
   "source": [
    "c2 = Circle2(12.0)\n",
    "c2.area"
   ]
  },
  {
   "cell_type": "markdown",
   "metadata": {},
   "source": [
    "What if it turns out though that the `area` property is often accessed many times for each instance of a circle, even if it is only for 1% of the total circles?  This suggests that we should lazily compute the area, i.e., only do the computation if it is requested and also don't compute it multiple times if it requested repeatedly.\n",
    "\n",
    "As it turns out, that can also be easily done with properties.  We simply need to define a hidden attribute, say `_area` that is `None` until it is computed the first time.  From then on, the property can simply return already computed value.  This approach can be extremely valueable for performance tuning in some circumstances."
   ]
  },
  {
   "cell_type": "code",
   "execution_count": 61,
   "metadata": {},
   "outputs": [],
   "source": [
    "class Circle3:\n",
    "    def __init__(self, radius):\n",
    "        self.radius = radius\n",
    "        self._area = None\n",
    "        \n",
    "    @property\n",
    "    def area(self):\n",
    "        if self._area is None:\n",
    "            self._area = 3.14159 * self.radius**2\n",
    "\n",
    "        return self._area"
   ]
  },
  {
   "cell_type": "code",
   "execution_count": 62,
   "metadata": {},
   "outputs": [],
   "source": [
    "c3 = Circle3(12.0)"
   ]
  },
  {
   "cell_type": "code",
   "execution_count": 63,
   "metadata": {},
   "outputs": [
    {
     "data": {
      "text/plain": [
       "452.38896"
      ]
     },
     "execution_count": 63,
     "metadata": {},
     "output_type": "execute_result"
    }
   ],
   "source": [
    "c3.area"
   ]
  },
  {
   "cell_type": "code",
   "execution_count": 64,
   "metadata": {},
   "outputs": [
    {
     "data": {
      "text/plain": [
       "452.38896"
      ]
     },
     "execution_count": 64,
     "metadata": {},
     "output_type": "execute_result"
    }
   ],
   "source": [
    "c3.area"
   ]
  },
  {
   "cell_type": "code",
   "execution_count": 65,
   "metadata": {},
   "outputs": [
    {
     "name": "stdout",
     "output_type": "stream",
     "text": [
      "48.5 ns ± 3.78 ns per loop (mean ± std. dev. of 7 runs, 10000000 loops each)\n"
     ]
    }
   ],
   "source": [
    "%%timeit\n",
    "c1.area"
   ]
  },
  {
   "cell_type": "code",
   "execution_count": 66,
   "metadata": {},
   "outputs": [
    {
     "name": "stdout",
     "output_type": "stream",
     "text": [
      "204 ns ± 14.4 ns per loop (mean ± std. dev. of 7 runs, 1000000 loops each)\n"
     ]
    }
   ],
   "source": [
    "%%timeit\n",
    "c2.area"
   ]
  },
  {
   "cell_type": "code",
   "execution_count": 67,
   "metadata": {},
   "outputs": [
    {
     "name": "stdout",
     "output_type": "stream",
     "text": [
      "179 ns ± 5.81 ns per loop (mean ± std. dev. of 7 runs, 10000000 loops each)\n"
     ]
    }
   ],
   "source": [
    "%%timeit\n",
    "c3.area"
   ]
  },
  {
   "cell_type": "markdown",
   "metadata": {},
   "source": [
    "## Custom function decorators\n",
    "\n",
    "So, yea, decorators are great for concisely solving some kinds of problems!  But how do they work?  and, more importantly, how do I create my own decorators if I want to?  It turns out that it's really fairly easy and in this section we'll see how."
   ]
  },
  {
   "cell_type": "markdown",
   "metadata": {},
   "source": [
    "### `@logged`\n",
    "\n",
    "Let's start out with a simple yet useful example of logging function calls.  Say that we want to be able to simply add a decorator to a function that causes it to print a log message to the console.  This can be useful for debugging and logging when we don't necessarily have or want to dig into stack traces.\n",
    "\n",
    "Let's start with the legendary hello world function and see if we can add a log message to it."
   ]
  },
  {
   "cell_type": "code",
   "execution_count": 69,
   "metadata": {},
   "outputs": [],
   "source": [
    "def hello_world(value):\n",
    "    print(f'Hello World! {value}')"
   ]
  },
  {
   "cell_type": "code",
   "execution_count": 70,
   "metadata": {},
   "outputs": [
    {
     "name": "stdout",
     "output_type": "stream",
     "text": [
      "Hello World! 42\n"
     ]
    }
   ],
   "source": [
    "hello_world(42)"
   ]
  },
  {
   "cell_type": "markdown",
   "metadata": {},
   "source": []
  },
  {
   "cell_type": "code",
   "execution_count": 71,
   "metadata": {},
   "outputs": [],
   "source": [
    "def logged(func):\n",
    "    def wrapper(*args, **kwargs):\n",
    "        print(f'=== calling function `{func.__name__}` ===')\n",
    "        return func(*args, **kwargs)\n",
    "    return wrapper"
   ]
  },
  {
   "cell_type": "code",
   "execution_count": 72,
   "metadata": {},
   "outputs": [
    {
     "name": "stdout",
     "output_type": "stream",
     "text": [
      "=== calling function `hello_world` ===\n",
      "Hello World! 99\n"
     ]
    }
   ],
   "source": [
    "hello_world = logged(hello_world)\n",
    "hello_world(99)"
   ]
  },
  {
   "cell_type": "code",
   "execution_count": null,
   "metadata": {},
   "outputs": [],
   "source": []
  },
  {
   "cell_type": "code",
   "execution_count": 73,
   "metadata": {},
   "outputs": [],
   "source": [
    "@logged\n",
    "def hello_world(value):\n",
    "    print(f'Hello World! {value}')"
   ]
  },
  {
   "cell_type": "code",
   "execution_count": 74,
   "metadata": {},
   "outputs": [
    {
     "name": "stdout",
     "output_type": "stream",
     "text": [
      "=== calling function `hello_world` ===\n",
      "Hello World! 42\n"
     ]
    }
   ],
   "source": [
    "hello_world(42)"
   ]
  },
  {
   "cell_type": "code",
   "execution_count": null,
   "metadata": {},
   "outputs": [],
   "source": []
  },
  {
   "cell_type": "markdown",
   "metadata": {},
   "source": [
    "### `@timed`"
   ]
  },
  {
   "cell_type": "code",
   "execution_count": 79,
   "metadata": {},
   "outputs": [],
   "source": [
    "import functools"
   ]
  },
  {
   "cell_type": "code",
   "execution_count": 80,
   "metadata": {},
   "outputs": [],
   "source": [
    "import time\n",
    "\n",
    "def timed(func):\n",
    "    @functools.wraps(func)\n",
    "    def wrapper(*args, **kwargs):\n",
    "        start = time.time()\n",
    "        result = func(*args, **kwargs)\n",
    "        total = time.time() - start\n",
    "        print(f'=== calling `{func.__name__}` took {total:.4} seconds ===')\n",
    "        return result\n",
    "    return wrapper"
   ]
  },
  {
   "cell_type": "code",
   "execution_count": null,
   "metadata": {},
   "outputs": [],
   "source": []
  },
  {
   "cell_type": "code",
   "execution_count": 90,
   "metadata": {},
   "outputs": [],
   "source": [
    "@timed\n",
    "def product(values):\n",
    "    accum = 0.0\n",
    "    for value in values:\n",
    "        accum *= value\n",
    "    return accum\n",
    "\n",
    "#product = timed(product)"
   ]
  },
  {
   "cell_type": "code",
   "execution_count": 91,
   "metadata": {},
   "outputs": [
    {
     "name": "stdout",
     "output_type": "stream",
     "text": [
      "=== calling `product` took 7.343e-05 seconds ===\n"
     ]
    },
    {
     "data": {
      "text/plain": [
       "0.0"
      ]
     },
     "execution_count": 91,
     "metadata": {},
     "output_type": "execute_result"
    }
   ],
   "source": [
    "product(range(1, 1024))"
   ]
  },
  {
   "cell_type": "code",
   "execution_count": null,
   "metadata": {},
   "outputs": [],
   "source": []
  },
  {
   "cell_type": "markdown",
   "metadata": {},
   "source": [
    "## Passing arguments to a decorator"
   ]
  },
  {
   "cell_type": "code",
   "execution_count": null,
   "metadata": {},
   "outputs": [],
   "source": []
  },
  {
   "cell_type": "markdown",
   "metadata": {},
   "source": [
    "### `@log_message`"
   ]
  },
  {
   "cell_type": "code",
   "execution_count": 93,
   "metadata": {},
   "outputs": [],
   "source": [
    "def log_message(message):\n",
    "    def decorator(func):\n",
    "        @functools.wraps(func)\n",
    "        def wrapper(*args, **kwargs):\n",
    "            print(message)\n",
    "            return func(*args, **kwargs)\n",
    "        return wrapper\n",
    "    return decorator"
   ]
  },
  {
   "cell_type": "code",
   "execution_count": null,
   "metadata": {},
   "outputs": [],
   "source": []
  },
  {
   "cell_type": "code",
   "execution_count": 98,
   "metadata": {},
   "outputs": [],
   "source": [
    "@log_message('Calling a function that says hello!')\n",
    "def say_hello(rep=1):\n",
    "    '''Print the word \"hello\" to standard out `rep` times.'''\n",
    "    for _ in range(rep):\n",
    "        print('hello')"
   ]
  },
  {
   "cell_type": "code",
   "execution_count": 99,
   "metadata": {},
   "outputs": [
    {
     "name": "stdout",
     "output_type": "stream",
     "text": [
      "Calling a function that says hello!\n",
      "hello\n",
      "hello\n",
      "hello\n"
     ]
    }
   ],
   "source": [
    "say_hello(3)"
   ]
  },
  {
   "cell_type": "code",
   "execution_count": null,
   "metadata": {},
   "outputs": [],
   "source": []
  },
  {
   "cell_type": "code",
   "execution_count": 100,
   "metadata": {},
   "outputs": [],
   "source": [
    "@log_message(\"computing the square root with newton's method...\")\n",
    "def sqrt(v, precision=1.0e-5, eps=1.0e-10):\n",
    "    x0, x1 = float('inf'), 0.0\n",
    "    while abs(x1 - x0) > precision:\n",
    "        x0, x1 = x1, x1 - (x1**2 - v) / max((2.0 * x1), eps)\n",
    "    return x1"
   ]
  },
  {
   "cell_type": "code",
   "execution_count": 101,
   "metadata": {},
   "outputs": [
    {
     "name": "stdout",
     "output_type": "stream",
     "text": [
      "computing the square root with newton's method...\n"
     ]
    },
    {
     "data": {
      "text/plain": [
       "4.47213595499958"
      ]
     },
     "execution_count": 101,
     "metadata": {},
     "output_type": "execute_result"
    }
   ],
   "source": [
    "sqrt(20)"
   ]
  },
  {
   "cell_type": "code",
   "execution_count": null,
   "metadata": {},
   "outputs": [],
   "source": []
  },
  {
   "cell_type": "code",
   "execution_count": null,
   "metadata": {},
   "outputs": [],
   "source": []
  },
  {
   "cell_type": "code",
   "execution_count": null,
   "metadata": {},
   "outputs": [],
   "source": []
  },
  {
   "cell_type": "markdown",
   "metadata": {},
   "source": [
    "### `@suppress_exception`"
   ]
  },
  {
   "cell_type": "code",
   "execution_count": null,
   "metadata": {},
   "outputs": [],
   "source": []
  },
  {
   "cell_type": "code",
   "execution_count": 102,
   "metadata": {},
   "outputs": [],
   "source": [
    "def suppress_exception(exc):\n",
    "    def decorator(func):\n",
    "        @functools.wraps(func)\n",
    "        def wrapper(*args, **kwargs):\n",
    "            try:\n",
    "                return func(*args, **kwargs)\n",
    "            except exc as ex:\n",
    "                print(f'ignoring `{exc.__name__}`')\n",
    "                return None\n",
    "        return wrapper\n",
    "    return decorator"
   ]
  },
  {
   "cell_type": "code",
   "execution_count": 107,
   "metadata": {},
   "outputs": [],
   "source": [
    "@suppress_exception(RuntimeError)\n",
    "def raise_runtime_error():\n",
    "    raise RuntimeError('A runtime error happened!')"
   ]
  },
  {
   "cell_type": "code",
   "execution_count": 108,
   "metadata": {},
   "outputs": [
    {
     "name": "stdout",
     "output_type": "stream",
     "text": [
      "ignoring `RuntimeError`\n"
     ]
    }
   ],
   "source": [
    "raise_runtime_error()"
   ]
  },
  {
   "cell_type": "code",
   "execution_count": null,
   "metadata": {},
   "outputs": [],
   "source": []
  },
  {
   "cell_type": "code",
   "execution_count": null,
   "metadata": {},
   "outputs": [],
   "source": []
  },
  {
   "cell_type": "markdown",
   "metadata": {},
   "source": [
    "## Chaining Decorators"
   ]
  },
  {
   "cell_type": "code",
   "execution_count": 111,
   "metadata": {},
   "outputs": [],
   "source": [
    "@timed\n",
    "@log_message('Custom message')\n",
    "@suppress_exception(ValueError)\n",
    "def add(x1, x2):\n",
    "    '''Add to floats, `x1` and `x2`.'''\n",
    "    if not isinstance(x1, float) or not isinstance(x2, float):\n",
    "        raise ValueError('argument was not a float!')\n",
    "    return x1 + x2"
   ]
  },
  {
   "cell_type": "code",
   "execution_count": 112,
   "metadata": {},
   "outputs": [
    {
     "name": "stdout",
     "output_type": "stream",
     "text": [
      "Custom message\n",
      "=== calling `add` took 3.982e-05 seconds ===\n"
     ]
    },
    {
     "data": {
      "text/plain": [
       "3.3000000000000003"
      ]
     },
     "execution_count": 112,
     "metadata": {},
     "output_type": "execute_result"
    }
   ],
   "source": [
    "add(1.1, 2.2)"
   ]
  },
  {
   "cell_type": "code",
   "execution_count": 113,
   "metadata": {},
   "outputs": [
    {
     "name": "stdout",
     "output_type": "stream",
     "text": [
      "Custom message\n",
      "ignoring `ValueError`\n",
      "=== calling `add` took 0.000114 seconds ===\n"
     ]
    }
   ],
   "source": [
    "add('hello', 3.14159)"
   ]
  },
  {
   "cell_type": "code",
   "execution_count": 114,
   "metadata": {},
   "outputs": [
    {
     "name": "stdout",
     "output_type": "stream",
     "text": [
      "Help on function add in module __main__:\n",
      "\n",
      "add(x1, x2)\n",
      "    Add to floats, `x1` and `x2`.\n",
      "\n"
     ]
    }
   ],
   "source": [
    "help(add)"
   ]
  },
  {
   "cell_type": "markdown",
   "metadata": {},
   "source": [
    "## Custom class decorators"
   ]
  },
  {
   "cell_type": "code",
   "execution_count": null,
   "metadata": {},
   "outputs": [],
   "source": []
  },
  {
   "cell_type": "markdown",
   "metadata": {},
   "source": [
    "### `@registered`"
   ]
  },
  {
   "cell_type": "code",
   "execution_count": 118,
   "metadata": {},
   "outputs": [],
   "source": [
    "import uuid\n",
    "\n",
    "class_registry = {}"
   ]
  },
  {
   "cell_type": "code",
   "execution_count": 119,
   "metadata": {},
   "outputs": [],
   "source": [
    "def registered(cls):\n",
    "    cls.identifier = str(uuid.uuid1())\n",
    "    class_registry[cls.identifier] = cls\n",
    "    return cls"
   ]
  },
  {
   "cell_type": "code",
   "execution_count": 120,
   "metadata": {},
   "outputs": [],
   "source": [
    "@registered\n",
    "class Sphere:\n",
    "    pass\n",
    "    \n",
    "@registered\n",
    "class Dodecahedron:\n",
    "    pass\n",
    "\n",
    "@registered\n",
    "class Scutoid:\n",
    "    pass"
   ]
  },
  {
   "cell_type": "code",
   "execution_count": 121,
   "metadata": {},
   "outputs": [
    {
     "data": {
      "text/plain": [
       "{'0846d8fe-6bea-11eb-adaf-acde48001122': __main__.Sphere,\n",
       " '0846e09c-6bea-11eb-adaf-acde48001122': __main__.Dodecahedron,\n",
       " '0846e394-6bea-11eb-adaf-acde48001122': __main__.Scutoid}"
      ]
     },
     "execution_count": 121,
     "metadata": {},
     "output_type": "execute_result"
    }
   ],
   "source": [
    "class_registry"
   ]
  },
  {
   "cell_type": "code",
   "execution_count": null,
   "metadata": {},
   "outputs": [],
   "source": []
  },
  {
   "cell_type": "markdown",
   "metadata": {},
   "source": [
    "### `@stylize`"
   ]
  },
  {
   "cell_type": "markdown",
   "metadata": {},
   "source": [
    "<font color=\"maroon\">__sidenote__: the wrapper functions below create a \"lexical closure\" around the variables `font_weight` and `style`."
   ]
  },
  {
   "cell_type": "code",
   "execution_count": 122,
   "metadata": {},
   "outputs": [],
   "source": [
    "def stylize(color, bold=False, font='monospace'):\n",
    "    font_weight = 'bold' if bold else 'normal'\n",
    "    style = f'color: {color}; font-weight: {font_weight}; font-family: {font}'\n",
    "    \n",
    "    def decorator(cls):\n",
    "        def new_repr(self):\n",
    "            return f'<pre style=\"{style}\">' + self.__repr__() + '</pre>'\n",
    "        \n",
    "        cls._repr_html_ = new_repr\n",
    "        \n",
    "        return cls\n",
    "    return decorator"
   ]
  },
  {
   "cell_type": "code",
   "execution_count": 137,
   "metadata": {},
   "outputs": [],
   "source": [
    "@stylize(color='red', bold=False, font='serif')\n",
    "class Square:\n",
    "    def __init__(self, width):\n",
    "        self.width = width\n",
    "        \n",
    "    def __repr__(self):\n",
    "        return '\\n'.join(['X'*self.width,]*self.width)"
   ]
  },
  {
   "cell_type": "code",
   "execution_count": 138,
   "metadata": {},
   "outputs": [
    {
     "data": {
      "text/html": [
       "<pre style=\"color: red; font-weight: normal; font-family: serif\">XX\n",
       "XX</pre>"
      ],
      "text/plain": [
       "XX\n",
       "XX"
      ]
     },
     "execution_count": 138,
     "metadata": {},
     "output_type": "execute_result"
    }
   ],
   "source": [
    "square = Square(2)\n",
    "square"
   ]
  },
  {
   "cell_type": "code",
   "execution_count": 139,
   "metadata": {},
   "outputs": [
    {
     "data": {
      "text/html": [
       "<pre style=\"color: red; font-weight: normal; font-family: serif\">XXXX\n",
       "XXXX\n",
       "XXXX\n",
       "XXXX</pre>"
      ],
      "text/plain": [
       "XXXX\n",
       "XXXX\n",
       "XXXX\n",
       "XXXX"
      ]
     },
     "execution_count": 139,
     "metadata": {},
     "output_type": "execute_result"
    }
   ],
   "source": [
    "square = Square(4)\n",
    "square"
   ]
  },
  {
   "cell_type": "code",
   "execution_count": 140,
   "metadata": {},
   "outputs": [],
   "source": [
    "import numpy as np\n",
    "\n",
    "@stylize(color='purple', font='serif')\n",
    "class RandomData:\n",
    "    def __init__(self, n):\n",
    "        self.data = np.random.random(n)\n",
    "        \n",
    "    def __repr__(self):\n",
    "        return repr(self.data)"
   ]
  },
  {
   "cell_type": "code",
   "execution_count": 141,
   "metadata": {},
   "outputs": [
    {
     "data": {
      "text/html": [
       "<pre style=\"color: purple; font-weight: normal; font-family: serif\">array([0.0922, 0.5469, 0.9968, 0.0966, 0.9563, 0.5108, 0.4907, 0.1776,\n",
       "       0.8905, 0.9962, 0.212 , 0.1025, 0.4567, 0.4712, 0.6405, 0.7476,\n",
       "       0.5465, 0.5829, 0.6325, 0.7915, 0.6361, 0.2429, 0.415 , 0.9988,\n",
       "       0.445 , 0.7444, 0.3916, 0.2252, 0.7578, 0.1101, 0.9083, 0.572 ,\n",
       "       0.1022, 0.0092, 0.1414, 0.3133, 0.5655, 0.8741, 0.457 , 0.959 ,\n",
       "       0.4543, 0.6013, 0.0043, 0.2282, 0.6686, 0.1844, 0.1517, 0.0295,\n",
       "       0.2018, 0.2561, 0.4632, 0.2562, 0.2519, 0.6873, 0.9197, 0.6869,\n",
       "       0.1068, 0.7443, 0.6663, 0.4446, 0.3142, 0.2793, 0.3039, 0.8691,\n",
       "       0.4356, 0.2385, 0.8402, 0.4476, 0.819 , 0.6823, 0.6851, 0.8339,\n",
       "       0.1813, 0.2139, 0.085 , 0.8721, 0.2792, 0.3422, 0.3052, 0.7493,\n",
       "       0.2259, 0.3274, 0.5593, 0.4811, 0.6952, 0.5523, 0.8638, 0.7961,\n",
       "       0.7409, 0.7784, 0.9191, 0.9219, 0.755 , 0.5668, 0.0261, 0.0817,\n",
       "       0.6316, 0.4184, 0.9768, 0.6782])</pre>"
      ],
      "text/plain": [
       "array([0.0922, 0.5469, 0.9968, 0.0966, 0.9563, 0.5108, 0.4907, 0.1776,\n",
       "       0.8905, 0.9962, 0.212 , 0.1025, 0.4567, 0.4712, 0.6405, 0.7476,\n",
       "       0.5465, 0.5829, 0.6325, 0.7915, 0.6361, 0.2429, 0.415 , 0.9988,\n",
       "       0.445 , 0.7444, 0.3916, 0.2252, 0.7578, 0.1101, 0.9083, 0.572 ,\n",
       "       0.1022, 0.0092, 0.1414, 0.3133, 0.5655, 0.8741, 0.457 , 0.959 ,\n",
       "       0.4543, 0.6013, 0.0043, 0.2282, 0.6686, 0.1844, 0.1517, 0.0295,\n",
       "       0.2018, 0.2561, 0.4632, 0.2562, 0.2519, 0.6873, 0.9197, 0.6869,\n",
       "       0.1068, 0.7443, 0.6663, 0.4446, 0.3142, 0.2793, 0.3039, 0.8691,\n",
       "       0.4356, 0.2385, 0.8402, 0.4476, 0.819 , 0.6823, 0.6851, 0.8339,\n",
       "       0.1813, 0.2139, 0.085 , 0.8721, 0.2792, 0.3422, 0.3052, 0.7493,\n",
       "       0.2259, 0.3274, 0.5593, 0.4811, 0.6952, 0.5523, 0.8638, 0.7961,\n",
       "       0.7409, 0.7784, 0.9191, 0.9219, 0.755 , 0.5668, 0.0261, 0.0817,\n",
       "       0.6316, 0.4184, 0.9768, 0.6782])"
      ]
     },
     "execution_count": 141,
     "metadata": {},
     "output_type": "execute_result"
    }
   ],
   "source": [
    "data = RandomData(100)\n",
    "data"
   ]
  },
  {
   "cell_type": "code",
   "execution_count": null,
   "metadata": {},
   "outputs": [],
   "source": []
  },
  {
   "cell_type": "markdown",
   "metadata": {},
   "source": [
    "## Summary\n",
    "\n",
    "* Common decorators like `classmethod` and `staticmethod` and `property` are extremely useful for writing clear and extensible python code.  Get to know these decorators.\n",
    "* Decorators are really just syntactic sugar around wrapper functions that are called at import time!  This makes it easy to write custom decorators using functional-style programming, including lexical closures.\n",
    "* Use `functools.wrapps` to preserve docstrings when writing custom decorators.\n",
    "* Decorators can take arguments by using *another* layer of wrapper functions.  The outer function actually builds the decorator function using it's arguments.\n",
    "* Decorators can also be chained together.  Applying multiple decorators in a row simply wraps the function returned by the previous decorator.\n",
    "* Classes can leverage decorators too!  When a decorator is placed on a class, the wrapper function takes the `class` (not the instance) and can modify it at import time."
   ]
  },
  {
   "cell_type": "code",
   "execution_count": null,
   "metadata": {},
   "outputs": [],
   "source": []
  }
 ],
 "metadata": {
  "kernelspec": {
   "display_name": "Python 3",
   "language": "python",
   "name": "python3"
  },
  "language_info": {
   "codemirror_mode": {
    "name": "ipython",
    "version": 3
   },
   "file_extension": ".py",
   "mimetype": "text/x-python",
   "name": "python",
   "nbconvert_exporter": "python",
   "pygments_lexer": "ipython3",
   "version": "3.8.7"
  }
 },
 "nbformat": 4,
 "nbformat_minor": 4
}
