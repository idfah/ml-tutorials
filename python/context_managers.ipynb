{
 "cells": [
  {
   "cell_type": "markdown",
   "metadata": {},
   "source": [
    "# Context Managers in Python\n",
    "\n",
    "---\n",
    "\n",
    "__Elliott Forney - 2020__\n",
    "\n",
    "Context managers are a powerful construct in Python that allow an object to create a temporary \"context\" with initialization and teardown logic that are automatically called when the context is entered and exited, respectively.\n",
    "\n",
    "As we will see, context managers allow for better resource management and for the responsibility to manage resources to be placed inside of a library, rather than having that burdon be placed on the caller.  This is similar to the notion of Resource Allocation is Instantiation (RAII) in C++ and other languages, but is somewhat finer grained and can be decoupled from the actual construction and deletion of a python object.  Note that since python has function-level scoping and automatic memory management, context managers allow us to define narrow and well-defined sections of code over which a resource is available."
   ]
  },
  {
   "cell_type": "markdown",
   "metadata": {},
   "source": [
    "## Motivation\n",
    "\n",
    "Let us begin with some motivating examples.  Below, we create a file handle (over this notebook) and manually open and close the file handle after we are done with it.  Note that it is important to close the file handle or else it will remain open indefinitely, which may constitute a resource leak and cause a program that opens many files to eventually crash."
   ]
  },
  {
   "cell_type": "code",
   "execution_count": 1,
   "metadata": {},
   "outputs": [
    {
     "name": "stdout",
     "output_type": "stream",
     "text": [
      "{\n",
      " \"cells\": [\n",
      "  {\n",
      "   \"cell_type\": \"markdown\",\n",
      "   \"metadata\": {},\n",
      "   \"source\": [\n",
      "    \"# Context Managers in Python\\n\",\n",
      "  \n"
     ]
    }
   ],
   "source": [
    "fh = open('context_managers_in_python.ipynb', mode='r')\n",
    "data = fh.read()\n",
    "fh.close()\n",
    "\n",
    "print(data[:120])"
   ]
  },
  {
   "cell_type": "markdown",
   "metadata": {},
   "source": [
    "Although manually closing the file handle gets the job done, this approach has an important problem:\n",
    "\n",
    "* If an exception is raised before `close` is called, the file handle will never be closed!!"
   ]
  },
  {
   "cell_type": "markdown",
   "metadata": {},
   "source": [
    "### Handling with traditional exception semantics\n",
    "\n",
    "Ordinary exception handling constructs allow us to handle the problem of ensuring that `close` is called by adding a `finally` clause.  In the example below, `close` will be called regardless of whether or not an exception is raised.  Specifically, the code block inside of the `finally` clause is called whenever flow control leaves the `try` block."
   ]
  },
  {
   "cell_type": "code",
   "execution_count": 2,
   "metadata": {},
   "outputs": [
    {
     "name": "stdout",
     "output_type": "stream",
     "text": [
      "{\n",
      " \"cells\": [\n",
      "  {\n",
      "   \"cell_type\": \"markdown\",\n",
      "   \"metadata\": {},\n",
      "   \"source\": [\n",
      "    \"# Context Managers in Python\\n\",\n",
      "  \n"
     ]
    }
   ],
   "source": [
    "try:\n",
    "    fh = open('context_managers_in_python.ipynb', mode='r')\n",
    "    data = fh.read()\n",
    "\n",
    "finally:\n",
    "    fh.close()\n",
    "    \n",
    "print(data[:120])"
   ]
  },
  {
   "cell_type": "markdown",
   "metadata": {},
   "source": [
    "Although this approach does ensure that `close` is called, it also introduces several important problems to consider.\n",
    "\n",
    "* Layers of exception handling.  Not bad in this example, but but gets worse (we'll see below).\n",
    "* Caller is responsible for cleaning up resources, should be job of library!\n",
    "* What if the code in the `try` block only partially completes?  May need to have significant logic in the `finally` block in order to ensure proper state."
   ]
  },
  {
   "cell_type": "markdown",
   "metadata": {},
   "source": [
    "### Context managers for managing resources\n",
    "\n",
    "Context managers offer an alternative approach where a temporary context is created and the responsibility is placed on the called library to ensure that resources are created when the context is entered and then cleaned up when the context exits, including the case where control flow exits the context because an exception was raise or because a function calls `return`.\n",
    "\n",
    "Context managers use the `with object` syntax where the `with` keyword indicates the beginning of the context and where `object` is any python object that implementes the context manager interface, which we will describe in more detail below.  Optionally, the `with object as reference` syntax can also be used to get a reference to an object that is returned by the context manager interface.  This is often simply a reference to the `object`, but not always.  Again, this will be explained in more detail once we see how the context manager interface is implemented.\n",
    "\n",
    "Note that the boundaries of the context are defined by indentation, of course, with initialization occuring when the `with` statement is called and teardown occuring when flow control exits the indented block.\n",
    "\n",
    "In the example below, which is familiar to most python programmers, we use the context manager interface provided by `open` in order to ensure that our file is opened and closed, without requiring `try/finally` clauses."
   ]
  },
  {
   "cell_type": "code",
   "execution_count": 3,
   "metadata": {},
   "outputs": [
    {
     "name": "stdout",
     "output_type": "stream",
     "text": [
      "{\n",
      " \"cells\": [\n",
      "  {\n",
      "   \"cell_type\": \"markdown\",\n",
      "   \"metadata\": {},\n",
      "   \"source\": [\n",
      "    \"# Context Managers in Python\\n\",\n",
      "  \n"
     ]
    }
   ],
   "source": [
    "with open('context_managers_in_python.ipynb', mode='r') as fh:\n",
    "    data = fh.read()\n",
    "    \n",
    "print(data[:120])"
   ]
  },
  {
   "cell_type": "markdown",
   "metadata": {},
   "source": [
    "* No opportunity for mistakes by the caller, can't forget the `finally`\n",
    "* Resource cleanup handled within the library, caller does nothing\n",
    "* Only the library needs to handle ensuring consistent state when the code only executes partially\n",
    "* Resource cleanup can __change__ inside the library without breaking the API\n",
    "* Fewer lines of code, elegant feeling"
   ]
  },
  {
   "cell_type": "markdown",
   "metadata": {},
   "source": [
    "### Multiple context managers on one line\n",
    "\n",
    "By the way, context managers can be nested and we can also place multiple context managers on a single line!"
   ]
  },
  {
   "cell_type": "code",
   "execution_count": 4,
   "metadata": {},
   "outputs": [],
   "source": [
    "infile = 'context_managers_in_python.ipynb'\n",
    "outfile = 'test.txt'\n",
    "\n",
    "with open(infile, mode='r') as in_fh, open(outfile, mode='w') as out_fh:\n",
    "    data = in_fh.read()\n",
    "    out_fh.write(data)"
   ]
  },
  {
   "cell_type": "markdown",
   "metadata": {},
   "source": [
    "## A more sophisticated example: socket exception spaghetti\n",
    "\n",
    "This all sounds great, but it's difficult to grasp exactly how valuable this is until we see it in practice in a more sophisticated example.\n",
    "\n",
    "In order to illustrate this, let's examine a contrived example where we have multiple exception handling clauses around both socket and file IO.\n",
    "\n",
    "In this example, we'll try to read my homepage over HTTP using raw sockets and then write it to a file.  Along the way, we'll add some useful information to the raised exceptions.  Adding this kind of information is often useful for logging and debugging purposes."
   ]
  },
  {
   "cell_type": "code",
   "execution_count": 5,
   "metadata": {},
   "outputs": [],
   "source": [
    "import socket"
   ]
  },
  {
   "cell_type": "code",
   "execution_count": 6,
   "metadata": {},
   "outputs": [],
   "source": [
    "host, port = 'www.elliottforney.com', 80\n",
    "request = b'GET / HTTP/1.1\\r\\nHost: www.elliottforney.com\\r\\nAccept: text/html\\r\\n\\r\\n'\n",
    "outfile = 'response.txt'"
   ]
  },
  {
   "cell_type": "code",
   "execution_count": 7,
   "metadata": {},
   "outputs": [
    {
     "name": "stdout",
     "output_type": "stream",
     "text": [
      "HTTP/1.1 301 Moved Permanently\n",
      "Date: Wed, 14 Oct 2020 19:45:05 GMT\n",
      "Server: Apache\n",
      "Location: https://www.elliottforney.com/\n",
      "Content-Length: 238\n",
      "Content-Type: text/html; charset=iso-8859-1\n",
      "\n",
      "<!DOCTYPE HTML PUBLIC \"-//IETF//DTD HTML 2.0//EN\">\n",
      "<html><head>\n",
      "<title>301 Moved Permanently</title>\n",
      "</head><body>\n",
      "<h1>Moved Permanently</h1>\n",
      "<p>The document has moved <a href=\"https://www.elliottforney.com/\">here</a>.</p>\n",
      "</body></html>\n",
      "\n"
     ]
    }
   ],
   "source": [
    "# open a new socket, ensure it's closed on exception\n",
    "try:\n",
    "    s = socket.socket(socket.AF_INET, socket.SOCK_STREAM)\n",
    "    \n",
    "    # try to connect, add info to the exception on failure\n",
    "    try:\n",
    "        s.connect((host, port))\n",
    "    except OSError as ex:\n",
    "        raise OSError(f'<E001> failed to connect: {str(ex)}') from ex\n",
    "    \n",
    "    # try to sent HTTP request, add info to exception on failure\n",
    "    try:\n",
    "        s.send(request)\n",
    "    except OSError as ex:\n",
    "        raise OSError(f'<E002> failed to send request: {str(ex)}') from ex\n",
    "    \n",
    "    # open a file to write the response, ensure it's closed on exception\n",
    "    try:\n",
    "        fh = open(outfile, mode='wb')\n",
    "    \n",
    "        # while there's data to read\n",
    "        while True:\n",
    "            # get 512 bytes and write to the file\n",
    "            result = s.recv(512)\n",
    "            if not result:\n",
    "                break\n",
    "        \n",
    "            fh.write(result)\n",
    "    \n",
    "    # close the file handle\n",
    "    finally:\n",
    "        fh.close()\n",
    "\n",
    "# close the socket\n",
    "finally:\n",
    "    s.close()\n",
    "    \n",
    "# re-open the file for printing\n",
    "try:\n",
    "    fh = open(outfile, mode='r')\n",
    "    print(fh.read())\n",
    "\n",
    "# close the file handle\n",
    "finally:\n",
    "    fh.close()"
   ]
  },
  {
   "cell_type": "markdown",
   "metadata": {},
   "source": [
    "Although this certainly works fine, and is similar to how exception handling works in languages like Java and C++, it is lengthy, prone to failures and requires the caller to know how to clean things up.\n",
    "\n",
    "Note, however, that the `socket` interface in Python also adheres to the context manager interface, which means that we can create a context, just like we did with `open`.  This example below shows how the code differs when this approach is taken."
   ]
  },
  {
   "cell_type": "code",
   "execution_count": 8,
   "metadata": {},
   "outputs": [
    {
     "name": "stdout",
     "output_type": "stream",
     "text": [
      "HTTP/1.1 301 Moved Permanently\n",
      "Date: Wed, 14 Oct 2020 19:45:10 GMT\n",
      "Server: Apache\n",
      "Location: https://www.elliottforney.com/\n",
      "Content-Length: 238\n",
      "Content-Type: text/html; charset=iso-8859-1\n",
      "\n",
      "<!DOCTYPE HTML PUBLIC \"-//IETF//DTD HTML 2.0//EN\">\n",
      "<html><head>\n",
      "<title>301 Moved Permanently</title>\n",
      "</head><body>\n",
      "<h1>Moved Permanently</h1>\n",
      "<p>The document has moved <a href=\"https://www.elliottforney.com/\">here</a>.</p>\n",
      "</body></html>\n",
      "\n"
     ]
    }
   ],
   "source": [
    "# open a socket to the desired host\n",
    "with socket.socket(socket.AF_INET, socket.SOCK_STREAM) as s:   \n",
    "    \n",
    "    # try to connect, add info to the exception on failure\n",
    "    try:\n",
    "        s.connect((host, port))\n",
    "    except OSError as ex:\n",
    "        raise OSError(f'<E001> failed to connect: {str(ex)}') from ex\n",
    "        \n",
    "    # try to send the request, add info to the exception on failure\n",
    "    try:\n",
    "        s.send(request)\n",
    "    except OSError as ex:\n",
    "        raise OSError(f'<E002> failed to send request: {str(ex)}') from ex\n",
    "    \n",
    "    # open a file for writing the response\n",
    "    with open(outfile, mode='wb') as fh:\n",
    "        # while there's data to read\n",
    "        while True:\n",
    "            # get 512 bytes and write to the file\n",
    "            result = s.recv(512)\n",
    "            if not result:\n",
    "                break\n",
    "        \n",
    "            fh.write(result)\n",
    "\n",
    "# re-open the file for printing\n",
    "with open(outfile, mode='r') as fh:\n",
    "    print(fh.read())"
   ]
  },
  {
   "cell_type": "markdown",
   "metadata": {},
   "source": [
    "Notice how much more concise the code is now!  Also, the user no longer has to worry about closing sockets or file handles because this is done automatically, and within the library, when the context manager exits.\n",
    "\n",
    "We do, however, still have to add `try`/`catch` statements around our `.connect` and `.send` statements in order to augment the exception messages.  Since we are trying to move this sort of logic away from the caller and into a library, not that we could also create a simple object-oriented wrapper around the `socket` class in order to add our extra information.  This allows us to create a short, generic interface where the caller doesn't have to do any exception handling."
   ]
  },
  {
   "cell_type": "code",
   "execution_count": 9,
   "metadata": {},
   "outputs": [],
   "source": [
    "class LoggedSocket(socket.socket):\n",
    "    def connect(self, *args, **kwargs):\n",
    "        try:\n",
    "            return super().connect(*args, **kwargs)\n",
    "        except OSError as ex:\n",
    "            raise OSError(f'<E001> failed to connect: {str(ex)}') from ex\n",
    "            \n",
    "    def send(self, *args, **kwargs):\n",
    "        try:\n",
    "            return super().send(*args, **kwargs)\n",
    "        except OSError as ex:\n",
    "            raise OSError('<E002> failed to send request: {str(ex)}') from ex"
   ]
  },
  {
   "cell_type": "markdown",
   "metadata": {},
   "source": [
    "Now, the caller can focus on the goal that they are trying to achieve, without having a spaghetti mess of boilerplate `try`/`catch` statements."
   ]
  },
  {
   "cell_type": "code",
   "execution_count": 10,
   "metadata": {},
   "outputs": [
    {
     "name": "stdout",
     "output_type": "stream",
     "text": [
      "HTTP/1.1 301 Moved Permanently\n",
      "Date: Wed, 14 Oct 2020 19:45:15 GMT\n",
      "Server: Apache\n",
      "Location: https://www.elliottforney.com/\n",
      "Content-Length: 238\n",
      "Content-Type: text/html; charset=iso-8859-1\n",
      "\n",
      "<!DOCTYPE HTML PUBLIC \"-//IETF//DTD HTML 2.0//EN\">\n",
      "<html><head>\n",
      "<title>301 Moved Permanently</title>\n",
      "</head><body>\n",
      "<h1>Moved Permanently</h1>\n",
      "<p>The document has moved <a href=\"https://www.elliottforney.com/\">here</a>.</p>\n",
      "</body></html>\n",
      "\n"
     ]
    }
   ],
   "source": [
    "# open a socket with extra debugging information\n",
    "with LoggedSocket(socket.AF_INET, socket.SOCK_STREAM) as s:    \n",
    "    # connect and send the request\n",
    "    s.connect((host, port))\n",
    "    s.send(request)\n",
    "    \n",
    "    # open a file for writing\n",
    "    with open(outfile, mode='wb') as fh:\n",
    "        # while there's still data to read\n",
    "        while True:\n",
    "            # get 512 bytes and write to the file\n",
    "            result = s.recv(512)\n",
    "            if not result:\n",
    "                break\n",
    "        \n",
    "            fh.write(result)\n",
    "\n",
    "# re-open the file and print its contents\n",
    "with open(outfile, mode='r') as fh:\n",
    "    print(fh.read())"
   ]
  },
  {
   "cell_type": "markdown",
   "metadata": {},
   "source": [
    "Although this is certainly a contrived example, it demonstrates how a very long piece of code with many `try`/`catch` statements can be simplified dramatically by using context managers.  I hope that it also illustrates how context managers can be used to move resource management logic from boilerplate code, to something that is managed from within the library that is being called."
   ]
  },
  {
   "cell_type": "markdown",
   "metadata": {},
   "source": [
    "## How do context managers work?\n",
    "\n",
    "Now that we've seen how to use context managers effectively, let's see how they work internally and consider how to build our own customer context managers.\n",
    "\n",
    "Context managers start with an arbitrary python class and require only that the class implements the context manager interface by providing two methods named `__enter__` and `__exit__`.  These methods are, not surprisingly, called when the context manger enters and exits, respectively.\n",
    "\n",
    "Note that the constructor for the object is separate from `__enter__`.  Often,  `__enter__` will simply return a reference to `self`, but we will see some examples later where a context manager might want to return a reference to something different.\n",
    "\n",
    "The `__exit__` method takes a number of arguments that are related to exception handling.  These arguments tell the function if an exception was raised from within the context and provides information about the exception so that resources can be cleaned up accordingly.\n",
    "\n",
    "Note that __if an exception is thrown, it is still re-raised immediately after `__exit__` returns__.  This allows the context manager to clean up appropriately while also allowing the caller to catch and handle the error when necessary."
   ]
  },
  {
   "cell_type": "markdown",
   "metadata": {},
   "source": [
    "In the example below, we see a very simple context manager that prints a debug message at each step."
   ]
  },
  {
   "cell_type": "code",
   "execution_count": 11,
   "metadata": {},
   "outputs": [],
   "source": [
    "class ContextDemo:\n",
    "    def __init__(self):\n",
    "        print('initializing object')\n",
    "    \n",
    "    def __enter__(self):\n",
    "        print('setting up context')\n",
    "        return self\n",
    "    \n",
    "    def __exit__(self, exc_type, exc_val, exc_tb):\n",
    "        if exc_type is not None:\n",
    "            print(f'caught exception: {exc_type.__name__}: {exc_val!s}')\n",
    "\n",
    "        print('doing some cleanup')"
   ]
  },
  {
   "cell_type": "markdown",
   "metadata": {},
   "source": [
    "In the case when no exception is raised, our context manager simply prints a message in the constructor, from `__enter__`, from within the context and then, finally, inside `__exit__`.\n",
    "\n",
    "In this case, the arguments to `__exit__` are all `None` since no exception was raised."
   ]
  },
  {
   "cell_type": "code",
   "execution_count": 12,
   "metadata": {},
   "outputs": [
    {
     "name": "stdout",
     "output_type": "stream",
     "text": [
      "initializing object\n",
      "setting up context\n",
      "do some work in the context\n",
      "doing some cleanup\n"
     ]
    }
   ],
   "source": [
    "with ContextDemo():\n",
    "    print('do some work in the context')"
   ]
  },
  {
   "cell_type": "markdown",
   "metadata": {},
   "source": [
    "If an exception is raised from within the context, then a reference to the raised exception is passed to the `.__exit__` method and a corresponding message is printed to the console.\n",
    "\n",
    "Again, note that the exception is then re-raised, so the exception is further propigated to our Jupyter notebook."
   ]
  },
  {
   "cell_type": "code",
   "execution_count": 13,
   "metadata": {},
   "outputs": [
    {
     "name": "stdout",
     "output_type": "stream",
     "text": [
      "initializing object\n",
      "setting up context\n",
      "caught exception: RuntimeError: some exception\n",
      "doing some cleanup\n"
     ]
    },
    {
     "ename": "RuntimeError",
     "evalue": "some exception",
     "output_type": "error",
     "traceback": [
      "\u001b[0;31m---------------------------------------------------------------------------\u001b[0m",
      "\u001b[0;31mRuntimeError\u001b[0m                              Traceback (most recent call last)",
      "\u001b[0;32m<ipython-input-13-24ad935e1fd4>\u001b[0m in \u001b[0;36m<module>\u001b[0;34m\u001b[0m\n\u001b[1;32m      1\u001b[0m \u001b[0;32mwith\u001b[0m \u001b[0mContextDemo\u001b[0m\u001b[0;34m(\u001b[0m\u001b[0;34m)\u001b[0m\u001b[0;34m:\u001b[0m\u001b[0;34m\u001b[0m\u001b[0;34m\u001b[0m\u001b[0m\n\u001b[0;32m----> 2\u001b[0;31m     \u001b[0;32mraise\u001b[0m \u001b[0mRuntimeError\u001b[0m\u001b[0;34m(\u001b[0m\u001b[0;34m'some exception'\u001b[0m\u001b[0;34m)\u001b[0m\u001b[0;34m\u001b[0m\u001b[0;34m\u001b[0m\u001b[0m\n\u001b[0m",
      "\u001b[0;31mRuntimeError\u001b[0m: some exception"
     ]
    }
   ],
   "source": [
    "with ContextDemo():\n",
    "    raise RuntimeError('some exception')"
   ]
  },
  {
   "cell_type": "markdown",
   "metadata": {},
   "source": [
    "As we mentioned previously, the construction of the context manager is also separated from the `.__enter__` step.  This means that the corresponding object can actually be created *before* entering the context manager and multiple contexts can even be created for the same object!"
   ]
  },
  {
   "cell_type": "code",
   "execution_count": null,
   "metadata": {},
   "outputs": [],
   "source": [
    "# create the `ContextDemo` object\n",
    "context_object = ContextDemo()\n",
    "\n",
    "# start the first context\n",
    "print('=======')\n",
    "with context_object:\n",
    "    print('doing some work')\n",
    "    \n",
    "# start a second context with the same object!\n",
    "print('=======')\n",
    "with context_object:\n",
    "    print('doing some work')"
   ]
  },
  {
   "cell_type": "markdown",
   "metadata": {},
   "source": [
    "### A demonstration wrapper around `open`\n",
    "\n",
    "In the next example of a context manager, we'll simply pretend that the `open` function does not already implement the context manager interface and show how it could be done.\n",
    "\n",
    "First, the constructor takes a file name and any additional arguments to pass to `open`.  We don't call `open` yet, however, because we'll want to be able to create multiple contexts using a single `OpenWrapper` object, i.e., open the file multiple times, as was demonstrated in the previous example.\n",
    "\n",
    "We then implement an `__enter__` method that calls the `open` function and returns a reference to the file handle that it returns.  This means that if we write `with OpenWraper(...) as fh` then `fh` is a reference to the handle returned by `open` and *not* to an `OpenWrapper` object.\n",
    "\n",
    "Finally, we implement an `__exit__` method that simply calls `close` on the file descriptor.  This should be done regardless of whether or not an exception was raised, just like with a `finally` clause."
   ]
  },
  {
   "cell_type": "code",
   "execution_count": null,
   "metadata": {},
   "outputs": [],
   "source": [
    "class OpenWrapper:\n",
    "    '''Wrapps calls to `open` with a simple context manager.'''\n",
    "    def __init__(self, filename, *args, **kwargs):\n",
    "        '''Construct a new `OpenWrapper`, but don't open anything yet.'''\n",
    "        self.filename, self.args, self.kwargs = filename, args, kwargs\n",
    "        self.fh = None\n",
    "    \n",
    "    def __enter__(self):\n",
    "        '''Start a context by opening the file and returning a file handle.'''\n",
    "        self.fh = open(self.filename, *self.args, **self.kwargs)\n",
    "        return self.fh\n",
    "    \n",
    "    def __exit__(self, exc_type, exc_val, exc_tb):\n",
    "        '''Exit the context by closing the file handle.'''\n",
    "        self.fh.close()"
   ]
  },
  {
   "cell_type": "markdown",
   "metadata": {},
   "source": [
    "This simple context manager can now be used almost exactly like the context manager interface that is already provided by the `open` function in the standard Python API."
   ]
  },
  {
   "cell_type": "code",
   "execution_count": null,
   "metadata": {},
   "outputs": [],
   "source": [
    "with OpenWrapper('context_managers_in_python.ipynb') as fh:\n",
    "    data = fh.read()\n",
    "    \n",
    "print(data[:120])"
   ]
  },
  {
   "cell_type": "markdown",
   "metadata": {},
   "source": [
    "### Implementing a timer class with a context manager\n",
    "\n",
    "It is important to note that context managers have __many__ uses other than handling exceptions.  Any time that there are resources to be managed over a defined period of time and where we want the called library to handle said resources, a context manager may be an appropriate choice.\n",
    "\n",
    "In this example, we demonstrate how to use context managers to implement a simple timer that can be called over multiple trial runs of a section of code."
   ]
  },
  {
   "cell_type": "code",
   "execution_count": null,
   "metadata": {},
   "outputs": [],
   "source": [
    "from time import time\n",
    "\n",
    "class Timer:\n",
    "    def __init__(self):\n",
    "        self.cumulative_time = 0.0\n",
    "        self.start_time = 0.0\n",
    "        self.ntrial = 0\n",
    "    \n",
    "    def __enter__(self):\n",
    "        self.ntrial += 1\n",
    "        self.start_time = time()\n",
    "        return self\n",
    "    \n",
    "    def __exit__(self, exc_type, exc_val, exc_tb):\n",
    "        if exc_type is not None:\n",
    "            print('not timing errored trial')\n",
    "            return\n",
    "        \n",
    "        self.cumulative_time += time() - self.start_time\n",
    "        \n",
    "    def __repr__(self):\n",
    "        return str(round(self.cumulative_time / self.ntrial, 4))"
   ]
  },
  {
   "cell_type": "code",
   "execution_count": null,
   "metadata": {},
   "outputs": [],
   "source": [
    "import numpy as np\n",
    "n = 2048"
   ]
  },
  {
   "cell_type": "code",
   "execution_count": null,
   "metadata": {},
   "outputs": [],
   "source": [
    "a = np.random.random((n, n))\n",
    "b = np.random.random((n, n))\n",
    "\n",
    "with Timer() as timer:\n",
    "    c = a @ b\n",
    "    \n",
    "print('time:', timer)"
   ]
  },
  {
   "cell_type": "code",
   "execution_count": null,
   "metadata": {},
   "outputs": [],
   "source": [
    "timer = Timer()\n",
    "\n",
    "for trial in range(10):\n",
    "    print('trial:', trial)\n",
    "    a = np.random.random((n, n))\n",
    "    b = np.random.random((n, n))\n",
    "    \n",
    "    with timer:\n",
    "        c = a @ b\n",
    "\n",
    "        \n",
    "print('average time:', timer)"
   ]
  },
  {
   "cell_type": "code",
   "execution_count": null,
   "metadata": {},
   "outputs": [],
   "source": []
  },
  {
   "cell_type": "code",
   "execution_count": null,
   "metadata": {},
   "outputs": [],
   "source": [
    "timer = Timer()\n",
    "\n",
    "for trial in range(10):\n",
    "    print('trial:', trial)\n",
    "    a = np.random.random((n, n))\n",
    "    b = np.random.random((n, n))\n",
    "    \n",
    "    try:\n",
    "        with timer:\n",
    "            if trial == 3:\n",
    "                raise RuntimeError('something broke')\n",
    "            \n",
    "            c = a @ b\n",
    "    except:\n",
    "        pass\n",
    "        \n",
    "print('average time:', timer)"
   ]
  },
  {
   "cell_type": "code",
   "execution_count": null,
   "metadata": {},
   "outputs": [],
   "source": []
  },
  {
   "cell_type": "code",
   "execution_count": null,
   "metadata": {},
   "outputs": [],
   "source": []
  },
  {
   "cell_type": "markdown",
   "metadata": {},
   "source": [
    "## `contextlib`\n",
    "\n",
    "The `contextlib` module is part of the standard python API and contains many useful functions that either are context managers or are usful for creating or utilizing context managers."
   ]
  },
  {
   "cell_type": "code",
   "execution_count": null,
   "metadata": {},
   "outputs": [],
   "source": [
    "import contextlib"
   ]
  },
  {
   "cell_type": "markdown",
   "metadata": {},
   "source": [
    "### Suppressing exceptions"
   ]
  },
  {
   "cell_type": "code",
   "execution_count": null,
   "metadata": {},
   "outputs": [],
   "source": [
    "import os\n",
    "\n",
    "try:\n",
    "    os.remove('path/does/not/exist')\n",
    "except:\n",
    "    pass"
   ]
  },
  {
   "cell_type": "markdown",
   "metadata": {},
   "source": []
  },
  {
   "cell_type": "code",
   "execution_count": null,
   "metadata": {},
   "outputs": [],
   "source": [
    "with contextlib.suppress(FileNotFoundError):\n",
    "    os.remove('path/does/not/exist')"
   ]
  },
  {
   "cell_type": "markdown",
   "metadata": {},
   "source": [
    "By the way, we just did something like this in our previous example and `contextlib.suppress` would have been useful here."
   ]
  },
  {
   "cell_type": "code",
   "execution_count": null,
   "metadata": {},
   "outputs": [],
   "source": [
    "timer = Timer()\n",
    "\n",
    "for trial in range(10):\n",
    "    print('trial:', trial)\n",
    "    a = np.random.random((n, n))\n",
    "    b = np.random.random((n, n))\n",
    "    \n",
    "    with contextlib.suppress(RuntimeError), timer:\n",
    "        if trial == 3:\n",
    "            raise RuntimeError('something broke')\n",
    "            \n",
    "        c = a @ b\n",
    "\n",
    "print('average time:', timer)"
   ]
  },
  {
   "cell_type": "markdown",
   "metadata": {},
   "source": [
    "### Redirecting `stderr` or `stdout`"
   ]
  },
  {
   "cell_type": "code",
   "execution_count": null,
   "metadata": {},
   "outputs": [],
   "source": [
    "with open('help.txt', mode='w') as fh:\n",
    "    with contextlib.redirect_stdout(fh):\n",
    "        print('hello world!')\n",
    "        print()\n",
    "        help(os.remove)"
   ]
  },
  {
   "cell_type": "markdown",
   "metadata": {},
   "source": []
  },
  {
   "cell_type": "code",
   "execution_count": null,
   "metadata": {},
   "outputs": [],
   "source": [
    "with open('help.txt', mode='r') as fh:\n",
    "    print(fh.read())"
   ]
  },
  {
   "cell_type": "code",
   "execution_count": null,
   "metadata": {},
   "outputs": [],
   "source": []
  },
  {
   "cell_type": "code",
   "execution_count": null,
   "metadata": {},
   "outputs": [],
   "source": [
    "with open('help.txt', mode='w') as fh, contextlib.redirect_stdout(fh):\n",
    "    print('hello world!')\n",
    "    print()\n",
    "    help(os.remove)"
   ]
  },
  {
   "cell_type": "code",
   "execution_count": null,
   "metadata": {},
   "outputs": [],
   "source": []
  },
  {
   "cell_type": "code",
   "execution_count": null,
   "metadata": {},
   "outputs": [],
   "source": [
    "with open('help.txt', mode='r') as fh:\n",
    "    print(fh.read())"
   ]
  },
  {
   "cell_type": "code",
   "execution_count": null,
   "metadata": {},
   "outputs": [],
   "source": []
  }
 ],
 "metadata": {
  "kernelspec": {
   "display_name": "Python 3",
   "language": "python",
   "name": "python3"
  },
  "language_info": {
   "codemirror_mode": {
    "name": "ipython",
    "version": 3
   },
   "file_extension": ".py",
   "mimetype": "text/x-python",
   "name": "python",
   "nbconvert_exporter": "python",
   "pygments_lexer": "ipython3",
   "version": "3.8.6"
  }
 },
 "nbformat": 4,
 "nbformat_minor": 2
}
