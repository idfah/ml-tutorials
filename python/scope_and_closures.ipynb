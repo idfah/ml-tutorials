{
 "cells": [
  {
   "cell_type": "markdown",
   "metadata": {},
   "source": [
    "# Scope and Lexical Closures in Python\n",
    "\n",
    "__By Elliott Forney - 2020__\n",
    "\n",
    "Understanding how scoping works in Python (and any language for that matter) is extremely important for writing good code and understanding exactly how other people's code works.  Yet, scoping seems to be a topic that is often not thoroughly discussed when people are learning python and often leads people to discover interesting and, perhaps, surprising behavior later on.  Having an in-depth understanding of how scoping and lexical closures work in python also provides some valuable software engineering patterns than can and should be used in a variety of common circumstances.\n",
    "\n",
    "In this Python tutorial notebook, we will examine, in detail, how scoping works in python.  We will also describe what a lexical closure is and how it can be used to elegantly solve some common types of problems.\n",
    "\n",
    "This tutorial is intended for audiences that already have a good core understanding of Python and would likely consider themselves to be intermediate or moderately advanced python programmers."
   ]
  },
  {
   "cell_type": "markdown",
   "metadata": {},
   "source": [
    "# Global versus local scope\n",
    "\n",
    "As most developers are aware, the __scope__ of a variable refers to the region(s) of code where the variable is accessible.  This directly affects the lifetime of a variable because its storage may be removed once it is no longer within scope.\n",
    "\n",
    "There are two types of variable scopes in Python: __global__ and __local__.\n",
    "\n",
    "It's likely that the first variables you created in Python were global.  Global variables are scoped at the __module level__ and if you simply create a new variable in a script, module or Jupyter notebook, it will be global.  For example, the following variable is global."
   ]
  },
  {
   "cell_type": "code",
   "execution_count": 1,
   "metadata": {},
   "outputs": [],
   "source": [
    "global_variable = 'Hello global!'"
   ]
  },
  {
   "cell_type": "markdown",
   "metadata": {},
   "source": [
    "Variables at the global scope are accesable within __any__ function, class or coding block within the same module, i.e., typically within the same file.\n",
    "\n",
    "We can get a list of all global variables using the `globals` builtin method, which returns a dictionary of everything bound to the global scope of of the module where `globals` was called."
   ]
  },
  {
   "cell_type": "code",
   "execution_count": 2,
   "metadata": {},
   "outputs": [
    {
     "data": {
      "text/plain": [
       "{'__name__': '__main__',\n",
       " '__doc__': 'Automatically created module for IPython interactive environment',\n",
       " '__package__': None,\n",
       " '__loader__': None,\n",
       " '__spec__': None,\n",
       " '__builtin__': <module 'builtins' (built-in)>,\n",
       " '__builtins__': <module 'builtins' (built-in)>,\n",
       " '_ih': ['', \"global_variable = 'Hello global!'\", 'globals()'],\n",
       " '_oh': {},\n",
       " '_dh': ['/home/idfah/projects/notebooks/python'],\n",
       " 'In': ['', \"global_variable = 'Hello global!'\", 'globals()'],\n",
       " 'Out': {},\n",
       " 'get_ipython': <bound method InteractiveShell.get_ipython of <ipykernel.zmqshell.ZMQInteractiveShell object at 0x7fca018a8450>>,\n",
       " 'exit': <IPython.core.autocall.ZMQExitAutocall at 0x7fc9ff9f46d0>,\n",
       " 'quit': <IPython.core.autocall.ZMQExitAutocall at 0x7fc9ff9f46d0>,\n",
       " '_': '',\n",
       " '__': '',\n",
       " '___': '',\n",
       " 'collections': <module 'collections' from '/usr/lib64/python3.7/collections/__init__.py'>,\n",
       " 'itertools': <module 'itertools' (built-in)>,\n",
       " 'os': <module 'os' from '/usr/lib64/python3.7/os.py'>,\n",
       " 'sys': <module 'sys' (built-in)>,\n",
       " 'np': <module 'numpy' from '/home/idfah/.local/lib/python3.7/site-packages/numpy/__init__.py'>,\n",
       " 'sp': <module 'scipy' from '/home/idfah/.local/lib/python3.7/site-packages/scipy/__init__.py'>,\n",
       " 'th': <module 'torch' from '/home/idfah/.local/lib/python3.7/site-packages/torch/__init__.py'>,\n",
       " 'pickle': <module 'pickle' from '/usr/lib64/python3.7/pickle.py'>,\n",
       " '_i': \"global_variable = 'Hello global!'\",\n",
       " '_ii': '',\n",
       " '_iii': '',\n",
       " '_i1': \"global_variable = 'Hello global!'\",\n",
       " 'global_variable': 'Hello global!',\n",
       " '_i2': 'globals()'}"
      ]
     },
     "execution_count": 2,
     "metadata": {},
     "output_type": "execute_result"
    }
   ],
   "source": [
    "globals()"
   ]
  },
  {
   "cell_type": "markdown",
   "metadata": {},
   "source": [
    "We can confirm that our `global_variable` above is in the current global scope by checking for its presence in the dictionary returned by the `globals` function."
   ]
  },
  {
   "cell_type": "code",
   "execution_count": 3,
   "metadata": {},
   "outputs": [
    {
     "data": {
      "text/plain": [
       "True"
      ]
     },
     "execution_count": 3,
     "metadata": {},
     "output_type": "execute_result"
    }
   ],
   "source": [
    "'global_variable' in globals()"
   ]
  },
  {
   "cell_type": "code",
   "execution_count": 4,
   "metadata": {},
   "outputs": [
    {
     "data": {
      "text/plain": [
       "'Hello global!'"
      ]
     },
     "execution_count": 4,
     "metadata": {},
     "output_type": "execute_result"
    }
   ],
   "source": [
    "globals().get('global_variable')"
   ]
  },
  {
   "cell_type": "markdown",
   "metadata": {},
   "source": [
    "If a variable is initialized within a function, it is considered a local variable (local to within the specific function where it was defined) and is accessable only within that that function, i.e., the *scope* of the variable is local to the function.\n",
    "\n",
    "All variablels that are defined in the current local scope can be retrieved using the `locals()` builtin function, which returns a dictionary mapping variable names to variables, similar to `globals()`.  Note that the values returned by a call to `locals()` will be different depending on where it is called, since each function has its own local scope.\n",
    "\n",
    "Below, we define a short function called that defines a single local variable and then prints all local variables with the `locals()` builtin.  This demonstrates that a locally defined varaible is within the function's local scope."
   ]
  },
  {
   "cell_type": "code",
   "execution_count": 5,
   "metadata": {},
   "outputs": [
    {
     "name": "stdout",
     "output_type": "stream",
     "text": [
      "{'local_variable': 'Hello local!'}\n"
     ]
    }
   ],
   "source": [
    "def test_local():\n",
    "    '''A function that defines a single local variable and\n",
    "    prints all local variables with the `locals` builtin.\n",
    "    '''\n",
    "    local_variable = 'Hello local!'\n",
    "    print(locals())\n",
    "    \n",
    "test_local()"
   ]
  },
  {
   "cell_type": "markdown",
   "metadata": {},
   "source": [
    "Note that global variables are, of course, also accessible from within functions.\n",
    "\n",
    "The following function prints all all global variables using the `globals()` builtin, which demonstrates that global variables are accessible from within a function."
   ]
  },
  {
   "cell_type": "code",
   "execution_count": 6,
   "metadata": {},
   "outputs": [
    {
     "name": "stdout",
     "output_type": "stream",
     "text": [
      "Hello global!\n"
     ]
    }
   ],
   "source": [
    "def test_global():\n",
    "    '''A function that prints all global variables with\n",
    "    the `globals` builting.  This demonstrates that global\n",
    "    variables are also accessable from within a function.\n",
    "    '''\n",
    "    print(global_variable)\n",
    "    \n",
    "test_global()"
   ]
  },
  {
   "cell_type": "markdown",
   "metadata": {},
   "source": [
    "## Beware of overriding global variables with local variables\n",
    "\n",
    "Note, however, if we attempt to redefine a global variable from within a function, where newly defined variables are placed in the local scope, then we will actually override the global variable with a different variable in local scope!\n",
    "\n",
    "This can lead to some surprising behavior that Python developers should be aware of.  Fortunately, the `global` keyword is available to allow us to redefine global variables from within a function.\n",
    "\n",
    "To demonstrate this consider the following function that defines a variable named `global_variable`, which is the same name as the global variable we defined above."
   ]
  },
  {
   "cell_type": "code",
   "execution_count": 7,
   "metadata": {},
   "outputs": [
    {
     "name": "stdout",
     "output_type": "stream",
     "text": [
      "Hello world!\n"
     ]
    }
   ],
   "source": [
    "def test_local_over_global():\n",
    "    '''Define a variable named `global_variable` from within a function.\n",
    "    Although this variable has the same name as the `global_variable` defined\n",
    "    in the global scope above, it will still be placed in the local scope.\n",
    "    '''\n",
    "    global_variable = 'Hello world!'\n",
    "    print(global_variable)\n",
    "    \n",
    "test_local_over_global()"
   ]
  },
  {
   "cell_type": "markdown",
   "metadata": {},
   "source": [
    "Despite the fact that we are able to successfully redefine this variable, we can verify that `global_variable` was not changed in the global scope by printing the variable outside of the function."
   ]
  },
  {
   "cell_type": "code",
   "execution_count": 8,
   "metadata": {},
   "outputs": [
    {
     "data": {
      "text/plain": [
       "'Hello global!'"
      ]
     },
     "execution_count": 8,
     "metadata": {},
     "output_type": "execute_result"
    }
   ],
   "source": [
    "global_variable"
   ]
  },
  {
   "cell_type": "markdown",
   "metadata": {},
   "source": [
    "This behavior is actually desired and prevents developers from accidentally changing global variables by choosing the same variable names at the local scope.\n",
    "\n",
    "Python does, however, provide the `global` keyword that allows us to explicitly choose to modify a global variable from within a function, without creating a local variable with the same name.\n",
    "\n",
    "The usage of the `global` keyword is demonstrated below.  We simple need to specify that the variable we will be referring to is, intentionally, the variable at the global scope. "
   ]
  },
  {
   "cell_type": "code",
   "execution_count": 9,
   "metadata": {},
   "outputs": [],
   "source": [
    "def test_set_global_in_local():\n",
    "    '''Use the `global` keyword to explicitly denote that we want to\n",
    "    modify `global_variable` at the global scope instead of creating\n",
    "    a new variable in the current local scope.\n",
    "    '''\n",
    "    global global_variable\n",
    "    global_variable = 'Hello global with a new value!'"
   ]
  },
  {
   "cell_type": "code",
   "execution_count": 10,
   "metadata": {},
   "outputs": [
    {
     "name": "stdout",
     "output_type": "stream",
     "text": [
      "Hello global with a new value!\n"
     ]
    }
   ],
   "source": [
    "test_set_global_in_local()\n",
    "print(global_variable)"
   ]
  },
  {
   "cell_type": "markdown",
   "metadata": {},
   "source": [
    "Note, however, that this should be relatively rare for a developer to want to modify a global variable from within a function.  Instead, your code will generally be much more maintainable if your functions have few side effects and instead return values that are placed in global variables externally."
   ]
  },
  {
   "cell_type": "markdown",
   "metadata": {},
   "source": [
    "# Lexical scoping\n",
    "\n",
    "As programmers who use modern programming languages, we are all familiar with lexical scoping; however, we may not all be familiar with the terminology, or have forgotten it from a long ago programming course.\n",
    "\n",
    "In simple terms, __lexical scoping is when a programming language allows variable scopes to be nested and where each nested scope is able to access variables from its parent scope__.\n",
    "\n",
    "Many modern C-like language that developers are familiar with, e.g., `C`, `C++` and `Java`, have lexical scoping, and scope is often defined at the block level.  Consider the following example in `C`.  This simple function takes an integer value as an argument and returns `true` if the value is positive and `false` if it is not.  Although this may not be the most concise way to write this function, it serves the purpose of demonstrating lexical scoping at the block level.\n",
    "\n",
    "Here, we have scope (a) at the functional level and then a nested scope (b) within the block under the `if` statement.  Notice that scope (b) inherits and is able to access variables within scope (a).  Specifically, we are able to access the `result` variable from within scope (b)."
   ]
  },
  {
   "cell_type": "markdown",
   "metadata": {},
   "source": [
    "```c\n",
    "bool is_positive(int value)\n",
    "{\n",
    "    // scope (a) starts here\n",
    "    bool result = false;\n",
    "    \n",
    "    if (value >= 0) {\n",
    "        // scope (b) starts here\n",
    "        result = true;\n",
    "        // scope (b) ends here\n",
    "    }\n",
    "\n",
    "    return result;\n",
    "    // scope (a) ends here\n",
    "}\n",
    "```"
   ]
  },
  {
   "cell_type": "markdown",
   "metadata": {},
   "source": [
    "The following example, however, *will not compile* in `C`.  This is because the varible is defined with block-level scope and is no longer available by the end of the function."
   ]
  },
  {
   "cell_type": "markdown",
   "metadata": {},
   "source": [
    "```c\n",
    "// This will *not* compile!!!!\n",
    "bool is_positive(int value)\n",
    "{\n",
    "    // scope (a) starts here\n",
    "    \n",
    "    if (value >= 0) {\n",
    "        // scope (b) starts here\n",
    "        bool result = true;\n",
    "        // scope (b) ends here\n",
    "    }\n",
    "    else {\n",
    "        // scope (c) starts here\n",
    "        bool result = false;\n",
    "        // scope (c) ends here\n",
    "    }\n",
    "\n",
    "    // The variable `result` is not accessible\n",
    "    // because it has left scope!\n",
    "\n",
    "    return result;\n",
    "    // scope (a) ends here\n",
    "}\n",
    "```"
   ]
  },
  {
   "cell_type": "markdown",
   "metadata": {},
   "source": [
    "To summarize, lexical scoping is simply when variable scopes are nested and where each nested level is able to access variables from the parent scope, but the parent scope is not able to access variables from the child scope once it has exited.\n",
    "\n",
    "This is a common is C-like languages but is slighly different in Python..."
   ]
  },
  {
   "cell_type": "markdown",
   "metadata": {},
   "source": [
    "# Python has lexical scoping, but not at the block level!\n",
    "\n",
    "\n",
    "Python does, in fact, have lexical scoping.  Unlike `C`, `C++` and `Java`, however, local scopes in python are defined at the __function level__ instead of the block level.\n",
    "\n",
    "In order to demonstrate this consider the following example.  Unlike our previous example in `C`, this function is perfectly valid python code.  There is only one scope level here and it is defined for the entire function, not the block.  This allows us to define define variables within code blocks."
   ]
  },
  {
   "cell_type": "code",
   "execution_count": 11,
   "metadata": {},
   "outputs": [
    {
     "name": "stdout",
     "output_type": "stream",
     "text": [
      "{'value': 10, 'result': True}\n",
      "{'value': -10, 'result': False}\n"
     ]
    },
    {
     "data": {
      "text/plain": [
       "False"
      ]
     },
     "execution_count": 11,
     "metadata": {},
     "output_type": "execute_result"
    }
   ],
   "source": [
    "def is_positive(value):\n",
    "    '''Return `True` if `value` is positive or zero and `False` otherwise.\n",
    "    Also, demonstrate that code blocks do not have their own scope.\n",
    "    '''\n",
    "    # local scope starts here\n",
    "    \n",
    "    if value >= 0:\n",
    "        result = True\n",
    "    else:\n",
    "        result = False\n",
    "    \n",
    "    print(locals())\n",
    "    return result\n",
    "\n",
    "    # local scope ends here\n",
    "    \n",
    "is_positive(10)\n",
    "is_positive(-10)"
   ]
  },
  {
   "cell_type": "markdown",
   "metadata": {},
   "source": [
    "Here is another example that may feel odd to a developer that is primarily familiar with `C++` or `Java`.\n",
    "\n",
    "Note that we are able to access `i` and `x` after the for loop has completed.  This is because these blocks do not have their own local scopes and these variables are created in the function's local scope."
   ]
  },
  {
   "cell_type": "code",
   "execution_count": 12,
   "metadata": {},
   "outputs": [
    {
     "name": "stdout",
     "output_type": "stream",
     "text": [
      "i: 9\n",
      "x: 80\n"
     ]
    }
   ],
   "source": [
    "def test_scope_after_loop(max=10):\n",
    "    '''Demonstrate that code blocks under for loops do not\n",
    "    have their own scope.\n",
    "    '''\n",
    "    for i in range(max):\n",
    "        if i % 2 == 0:\n",
    "            x = i *10\n",
    "    \n",
    "    # `i` and `x` are still available since they were\n",
    "    # created in the function's local scope\n",
    "    print('i:', i)\n",
    "    print('x:', x)\n",
    "    \n",
    "test_scope_after_loop()"
   ]
  },
  {
   "cell_type": "markdown",
   "metadata": {},
   "source": [
    "# Lexical scoping in nested functions and classes\n",
    "\n",
    "So, if all blocks within a given function have the same scope, when does lexical scoping come into play in Python?\n",
    "\n",
    "Local scope is defined at the function and class level in Python.  Lexical scoping becomes important when we nest functions (or classes).\n",
    "\n",
    "In order to demonstrate this, consider the following example.  Here, we have a top-level function that, internally, defines a nested function.  The internal function has its own local scope and is able to access variables from the outer scope, i.e., lexical scoping at the function level.\n",
    "\n",
    "In order to see this, notice that the inner function, called `evaluate_toggle` is able to access the `toggle` variable from the top-level `test_nested_scope` function, even though it is not passed as an argument; however, the top-level function is not able to see the `nested_local` variable defined from within the inner function.  This is lexical scoping."
   ]
  },
  {
   "cell_type": "code",
   "execution_count": 13,
   "metadata": {},
   "outputs": [
    {
     "name": "stdout",
     "output_type": "stream",
     "text": [
      "locals in nested func: {'nested_local': 'yes', 'toggle': True}\n",
      "locals in outer func: {'evaluate_toggle': <function test_nested_scope.<locals>.evaluate_toggle at 0x7fc97e639f80>, 'result': 'yes', 'toggle': True}\n"
     ]
    },
    {
     "data": {
      "text/plain": [
       "'yes'"
      ]
     },
     "execution_count": 13,
     "metadata": {},
     "output_type": "execute_result"
    }
   ],
   "source": [
    "def test_nested_scope(toggle=True):\n",
    "    '''Return the string `'yes'` if `toggle` is `True`\n",
    "    and `'no'` if `toggle` is `False`.  This function\n",
    "    demonstrates lexical scoping of functions.\n",
    "    '''\n",
    "    def evaluate_toggle():\n",
    "        '''An internal function that does the work.\n",
    "        This function is able to acces `toggle`\n",
    "        from the parent scope.\n",
    "        '''\n",
    "        if toggle:\n",
    "            nested_local = 'yes'\n",
    "        else:\n",
    "            nested_local = 'no'\n",
    "            \n",
    "        # the `locals()` for the inner function includes\n",
    "        # the `toggle` variable from the outer scope\n",
    "        print('locals in nested func:', locals())\n",
    "        return nested_local\n",
    "    \n",
    "    # the `locals()` for the outer function does *not*\n",
    "    # include `nested_local` from the inner function\n",
    "    result = evaluate_toggle()\n",
    "    print('locals in outer func:', locals())\n",
    "    \n",
    "    return result\n",
    "\n",
    "test_nested_scope()"
   ]
  },
  {
   "cell_type": "markdown",
   "metadata": {},
   "source": [
    "# Lexical closures and function builders\n",
    "\n",
    "The fact that we can nest functions in Python and that they have lexical scoping is interesting... but how is something like that actually useful?\n",
    "\n",
    "In addition to having lexical scoping, Python also permits something called __lexical closures__.  A lexical closure is when a nested local scope is able to continue accessing variables from its parent scope, even after the parent scope has exited.  This allows us to create __function builders that are able to continue to hold on to variables from their parent scope__.\n",
    "\n",
    "In order to see how this works, consider the following example that, again, returns `'yes'` for `True` and `'no'` for `False`.  This time, however, we are now returning the function that does the evaluation instead of the evaluation itsself."
   ]
  },
  {
   "cell_type": "code",
   "execution_count": 14,
   "metadata": {},
   "outputs": [],
   "source": [
    "def test_nested_scope(toggle=True):\n",
    "    '''Create and return a function that returns `'yes'` if `toggle`\n",
    "    is `True` and `'no'` if `toggle` is `False`.  This demonstrates\n",
    "    a lexical closure over the variable `toggle`.\n",
    "    '''\n",
    "    def evaluate_toggle():\n",
    "        '''This function does all the work.  Notice that it takes\n",
    "        no arguments and is able to access the `toggle` variable\n",
    "        from the parent scope because of lexical scoping.\n",
    "        '''\n",
    "        print(locals())\n",
    "        return 'yes' if toggle else 'no'\n",
    "    \n",
    "    # return the function that does the work\n",
    "    return evaluate_toggle\n",
    "\n",
    "eval_func = test_nested_scope()"
   ]
  },
  {
   "cell_type": "markdown",
   "metadata": {},
   "source": [
    "Now, the returned inner function called `evaluate_toggle` is able to access the `toggle` variable from its parent scope, just as we saw in the previous example.\n",
    "\n",
    "What may be surprising, however, is that it can *still* access this variable even after the outer `test_nested_scope` function has exited!!\n",
    "\n",
    "This is called a \"*lexical closure* over the `toggle` variable.\""
   ]
  },
  {
   "cell_type": "code",
   "execution_count": 15,
   "metadata": {},
   "outputs": [
    {
     "name": "stdout",
     "output_type": "stream",
     "text": [
      "{'toggle': True}\n",
      "{'toggle': False}\n"
     ]
    },
    {
     "data": {
      "text/plain": [
       "('yes', 'no')"
      ]
     },
     "execution_count": 15,
     "metadata": {},
     "output_type": "execute_result"
    }
   ],
   "source": [
    "# The returned function is *still* able to access the `toggle`\n",
    "# variable even though the `test_nested_function` has exited!\n",
    "eval_func1 = test_nested_scope(True)\n",
    "eval_func2 = test_nested_scope(False)\n",
    "\n",
    "eval_func1(), eval_func2()"
   ]
  },
  {
   "cell_type": "markdown",
   "metadata": {},
   "source": [
    "Let's now examine another example that may feel a bit more useful.\n",
    "\n",
    "This time, we define an outer function called `adder` that takes a base value as input and returns a function that will then add a new value to the provided base value.\n",
    "\n",
    "Here, we have a lexical closure over the variable `base_value`."
   ]
  },
  {
   "cell_type": "code",
   "execution_count": 16,
   "metadata": {},
   "outputs": [],
   "source": [
    "def adder(base_value):\n",
    "    '''Return a function that will add `base_value` to a\n",
    "    provided value.  This demonstrates a lexical closure\n",
    "    over `base_value`.\n",
    "    '''\n",
    "    def adder_func(value):\n",
    "        return base_value + value\n",
    "    \n",
    "    return adder_func"
   ]
  },
  {
   "cell_type": "markdown",
   "metadata": {},
   "source": [
    "This is an example of a *function builder*, i.e., a function that builds and returns another function.  This is a useful design pattern and commonly involves lexical closures over one or more variables defined in the outer scope."
   ]
  },
  {
   "cell_type": "code",
   "execution_count": 17,
   "metadata": {},
   "outputs": [
    {
     "data": {
      "text/plain": [
       "(11, 22, 113)"
      ]
     },
     "execution_count": 17,
     "metadata": {},
     "output_type": "execute_result"
    }
   ],
   "source": [
    "zero_adder = adder(0)\n",
    "ten_adder = adder(10)\n",
    "hundred_adder = adder(100)\n",
    "\n",
    "zero_adder(11), ten_adder(12), hundred_adder(13)"
   ]
  },
  {
   "cell_type": "markdown",
   "metadata": {},
   "source": [
    "# But be careful when modifying local variables!\n",
    "\n",
    "Beware, however, the the lexical closure allows the inner function to continue accessing variables from the outer scope but __lexical closures do not create a new copy of the variable__.\n",
    "\n",
    "This means that if the variable is later modified in the parent scope or any other function that maintains a lexical closure over the variable, its value will change everywhere.\n",
    "\n",
    "Consider the following example that is similar to the previous `adder` example, except that we now later modify the `base_value` variable after the inner `adder_func` function is defined."
   ]
  },
  {
   "cell_type": "code",
   "execution_count": 18,
   "metadata": {},
   "outputs": [],
   "source": [
    "def adder_broken(base_value):\n",
    "    def adder_func(value):\n",
    "        return base_value + value\n",
    "    \n",
    "    base_value += 1000\n",
    "    \n",
    "    return adder_func"
   ]
  },
  {
   "cell_type": "markdown",
   "metadata": {},
   "source": [
    "Notice that change to `base_value` is reflected in the result.  This is a common programming error when using lexical closures and function builders."
   ]
  },
  {
   "cell_type": "code",
   "execution_count": 19,
   "metadata": {},
   "outputs": [
    {
     "data": {
      "text/plain": [
       "(1011, 1022, 1113)"
      ]
     },
     "execution_count": 19,
     "metadata": {},
     "output_type": "execute_result"
    }
   ],
   "source": [
    "zero_adder = adder_broken(0)\n",
    "ten_adder = adder_broken(10)\n",
    "hundred_adder = adder_broken(100)\n",
    "\n",
    "zero_adder(11), ten_adder(12), hundred_adder(13)"
   ]
  },
  {
   "cell_type": "markdown",
   "metadata": {},
   "source": [
    "Instead, if you require a copy of `base_value`, consider performing an explicit copy or providing it as a keyword argument to the inner function."
   ]
  },
  {
   "cell_type": "code",
   "execution_count": 20,
   "metadata": {},
   "outputs": [],
   "source": [
    "def adder_fixed(base_value):\n",
    "    def adder_func(value, base_value=base_value):\n",
    "        return base_value + value\n",
    "    \n",
    "    base_value += 1000\n",
    "    \n",
    "    return adder_func"
   ]
  },
  {
   "cell_type": "markdown",
   "metadata": {},
   "source": [
    "Now, we are able to modify `base_value` later on without changing the behavior of the inner function."
   ]
  },
  {
   "cell_type": "code",
   "execution_count": 21,
   "metadata": {},
   "outputs": [
    {
     "data": {
      "text/plain": [
       "(11, 22, 113)"
      ]
     },
     "execution_count": 21,
     "metadata": {},
     "output_type": "execute_result"
    }
   ],
   "source": [
    "zero_adder = adder_fixed(0)\n",
    "ten_adder = adder_fixed(10)\n",
    "hundred_adder = adder_fixed(100)\n",
    "\n",
    "zero_adder(11), ten_adder(12), hundred_adder(13)"
   ]
  },
  {
   "cell_type": "markdown",
   "metadata": {},
   "source": [
    "# Some more practical examples\n",
    "\n",
    "So, function-level lexical scoping and function builders sounds great... but when might we actually use something like this?\n",
    "\n",
    "Let's examine a few examples where data scientists and machine learning engineers might want to use lexical closures and function builders."
   ]
  },
  {
   "cell_type": "code",
   "execution_count": 22,
   "metadata": {},
   "outputs": [],
   "source": [
    "import numpy as np"
   ]
  },
  {
   "cell_type": "markdown",
   "metadata": {},
   "source": [
    "## Weight initializers\n",
    "\n",
    "A function builder with a lexical closure is a handy way to create a weight matrix initializer.\n",
    "\n",
    "In this example, the outer function takes arguments specifying the parameters of the distribution from which the weights should be drawn.  The returned function then takes the shape of the matrix to create.  This way, we can define once how our weights will be created and then create many weight matrices with varying shapes.  This is a lexical closure over the variables `low` and `high`."
   ]
  },
  {
   "cell_type": "code",
   "execution_count": 23,
   "metadata": {},
   "outputs": [],
   "source": [
    "def weight_initializer(low, high):\n",
    "    '''Return a function that will create initialized weight matrices\n",
    "    with any provided shape and that are drawn from the random uniform\n",
    "    distribution between `low` and `high`.\n",
    "    '''\n",
    "    spread = high - low\n",
    "    def initializer(size):\n",
    "        # lexical closure over `low` and `high`\n",
    "        return low + spread * np.random.random(size)\n",
    "    \n",
    "    return initializer"
   ]
  },
  {
   "cell_type": "markdown",
   "metadata": {},
   "source": [
    "We now create our weight initializer only once,"
   ]
  },
  {
   "cell_type": "code",
   "execution_count": 24,
   "metadata": {},
   "outputs": [],
   "source": [
    "init_func = weight_initializer(-1, 3)"
   ]
  },
  {
   "cell_type": "markdown",
   "metadata": {},
   "source": [
    "and are then able to initialize many weight matrices with different shapes."
   ]
  },
  {
   "cell_type": "code",
   "execution_count": 25,
   "metadata": {},
   "outputs": [
    {
     "data": {
      "text/plain": [
       "array([[ 0.3287, -0.0215,  1.5191],\n",
       "       [ 2.1268, -0.6626, -0.2422],\n",
       "       [ 0.7878,  1.4827,  0.3764]])"
      ]
     },
     "execution_count": 25,
     "metadata": {},
     "output_type": "execute_result"
    }
   ],
   "source": [
    "init_func((3, 3))"
   ]
  },
  {
   "cell_type": "code",
   "execution_count": 26,
   "metadata": {},
   "outputs": [
    {
     "data": {
      "text/plain": [
       "array([[ 1.0978,  0.9552,  0.7876, -0.3654],\n",
       "       [ 2.2224,  0.3066, -0.5194, -0.4609]])"
      ]
     },
     "execution_count": 26,
     "metadata": {},
     "output_type": "execute_result"
    }
   ],
   "source": [
    "init_func((2, 4))"
   ]
  },
  {
   "cell_type": "markdown",
   "metadata": {},
   "source": [
    "## Standardizers\n",
    "\n",
    "A similar approach can be used to create a \"standardizer\" to augment our input data to have zero mean and unit variance.  This is a common thing to do in machine learning, but it is extremely important that we always use the same mean and variance values, at both training and inference time, i.e., for the training, validation and test sets."
   ]
  },
  {
   "cell_type": "code",
   "execution_count": 27,
   "metadata": {},
   "outputs": [],
   "source": [
    "def init_standardizer(x, axis=0):\n",
    "    '''Return a function that will shift a matrix to have\n",
    "    zero mean and unit variance/standard deviation across\n",
    "    rows using the mean and standard deviations extracted\n",
    "    from the provided matrix `x`.\n",
    "    '''\n",
    "    means = x.mean(axis=axis)\n",
    "    stdevs = x.std(axis=axis)\n",
    "\n",
    "    def standardizer(x):\n",
    "        # lexical closure over `means` and `stdevs`\n",
    "        return (x - means) / stdevs\n",
    "    \n",
    "    return standardizer"
   ]
  },
  {
   "cell_type": "markdown",
   "metadata": {},
   "source": [
    "In order to demonstrate this, we can create some random training and test matrices and then create a standardizer over this random training data."
   ]
  },
  {
   "cell_type": "code",
   "execution_count": 28,
   "metadata": {},
   "outputs": [],
   "source": [
    "train_data = np.random.random((300, 4))\n",
    "test_data = np.random.random((300, 4))\n",
    "\n",
    "standardizer = init_standardizer(train_data)"
   ]
  },
  {
   "cell_type": "markdown",
   "metadata": {},
   "source": [
    "Now, we can apply the standardizer to each of our datasets, using the same parameters, without having to pass around `means` and `stdevs`."
   ]
  },
  {
   "cell_type": "code",
   "execution_count": 29,
   "metadata": {},
   "outputs": [
    {
     "name": "stdout",
     "output_type": "stream",
     "text": [
      "train means: [ 1.2694e-16 -1.2360e-16 -1.6579e-16  2.9162e-16]\n",
      "train stdevs: [1. 1. 1. 1.]\n",
      "test means: [-0.0457  0.1971  0.0667 -0.0429]\n",
      "test stdevs: [1.0371 1.0092 0.9824 0.9783]\n"
     ]
    }
   ],
   "source": [
    "train_data_std = standardizer(train_data)\n",
    "test_data_std = standardizer(test_data)\n",
    "\n",
    "print('train means:', train_data_std.mean(0))\n",
    "print('train stdevs:', train_data_std.std(0))\n",
    "print('test means:', test_data_std.mean(0))\n",
    "print('test stdevs:', test_data_std.std(0))"
   ]
  },
  {
   "cell_type": "markdown",
   "metadata": {},
   "source": [
    "## Making loops simpler with nested functions"
   ]
  },
  {
   "cell_type": "code",
   "execution_count": 30,
   "metadata": {},
   "outputs": [],
   "source": [
    "def scale_data1(data, shift, scale):\n",
    "    scaled = []\n",
    "    \n",
    "    for datum in data:\n",
    "        datum -= shift\n",
    "        datum *= scale\n",
    "        scaled.append(datum)\n",
    "        \n",
    "    return scaled"
   ]
  },
  {
   "cell_type": "markdown",
   "metadata": {},
   "source": []
  },
  {
   "cell_type": "code",
   "execution_count": 31,
   "metadata": {},
   "outputs": [
    {
     "data": {
      "text/plain": [
       "[-1.0, 1.0, 3.0, 5.0, 7.0]"
      ]
     },
     "execution_count": 31,
     "metadata": {},
     "output_type": "execute_result"
    }
   ],
   "source": [
    "data = list(range(5))\n",
    "\n",
    "scale_data1(data, 0.5, 2.0)"
   ]
  },
  {
   "cell_type": "markdown",
   "metadata": {},
   "source": []
  },
  {
   "cell_type": "code",
   "execution_count": 32,
   "metadata": {},
   "outputs": [],
   "source": [
    "def scale_data2(data, shift, scale):\n",
    "    scaled = []\n",
    "    \n",
    "    def scale_datum(datum):\n",
    "        return (datum - shift) * scale\n",
    "    \n",
    "    for datum in data:\n",
    "        scaled.append(scale_datum(datum))\n",
    "        \n",
    "    return scaled"
   ]
  },
  {
   "cell_type": "code",
   "execution_count": 33,
   "metadata": {},
   "outputs": [
    {
     "data": {
      "text/plain": [
       "[-1.0, 1.0, 3.0, 5.0, 7.0]"
      ]
     },
     "execution_count": 33,
     "metadata": {},
     "output_type": "execute_result"
    }
   ],
   "source": [
    "scale_data2(data, 0.5, 2.0)"
   ]
  },
  {
   "cell_type": "markdown",
   "metadata": {},
   "source": []
  },
  {
   "cell_type": "code",
   "execution_count": 34,
   "metadata": {},
   "outputs": [],
   "source": [
    "def scale_data3(data, shift, scale):\n",
    "    def scale_datum(datum):\n",
    "        return (datum - shift) * scale\n",
    "    \n",
    "    return [scale_datum(datum) for datum in data]"
   ]
  },
  {
   "cell_type": "code",
   "execution_count": 35,
   "metadata": {},
   "outputs": [
    {
     "data": {
      "text/plain": [
       "[-1.0, 1.0, 3.0, 5.0, 7.0]"
      ]
     },
     "execution_count": 35,
     "metadata": {},
     "output_type": "execute_result"
    }
   ],
   "source": [
    "scale_data3(data, 0.5, 2.0)"
   ]
  },
  {
   "cell_type": "markdown",
   "metadata": {},
   "source": []
  },
  {
   "cell_type": "code",
   "execution_count": 36,
   "metadata": {},
   "outputs": [],
   "source": [
    "def scale_data4(data, shift, scale):\n",
    "    return list(map(lambda datum: (datum - shift) * scale, data))"
   ]
  },
  {
   "cell_type": "code",
   "execution_count": 37,
   "metadata": {},
   "outputs": [
    {
     "data": {
      "text/plain": [
       "[-1.0, 1.0, 3.0, 5.0, 7.0]"
      ]
     },
     "execution_count": 37,
     "metadata": {},
     "output_type": "execute_result"
    }
   ],
   "source": [
    "scale_data4(data, 0.5, 2.0)"
   ]
  },
  {
   "cell_type": "markdown",
   "metadata": {},
   "source": []
  },
  {
   "cell_type": "code",
   "execution_count": null,
   "metadata": {},
   "outputs": [],
   "source": []
  },
  {
   "cell_type": "markdown",
   "metadata": {},
   "source": []
  },
  {
   "cell_type": "code",
   "execution_count": 38,
   "metadata": {},
   "outputs": [],
   "source": [
    "big_data = list(range(10_000))"
   ]
  },
  {
   "cell_type": "code",
   "execution_count": 39,
   "metadata": {},
   "outputs": [
    {
     "name": "stdout",
     "output_type": "stream",
     "text": [
      "954 µs ± 7.48 µs per loop (mean ± std. dev. of 7 runs, 1000 loops each)\n"
     ]
    }
   ],
   "source": [
    "%timeit scale_data1(big_data, 0.75, 42.0)"
   ]
  },
  {
   "cell_type": "code",
   "execution_count": 40,
   "metadata": {},
   "outputs": [
    {
     "name": "stdout",
     "output_type": "stream",
     "text": [
      "1.3 ms ± 3.36 µs per loop (mean ± std. dev. of 7 runs, 1000 loops each)\n"
     ]
    }
   ],
   "source": [
    "%timeit scale_data2(big_data, 0.75, 42.0)"
   ]
  },
  {
   "cell_type": "code",
   "execution_count": 41,
   "metadata": {},
   "outputs": [
    {
     "name": "stdout",
     "output_type": "stream",
     "text": [
      "988 µs ± 2.65 µs per loop (mean ± std. dev. of 7 runs, 1000 loops each)\n"
     ]
    }
   ],
   "source": [
    "%timeit scale_data3(big_data, 0.75, 42.0)"
   ]
  },
  {
   "cell_type": "code",
   "execution_count": 42,
   "metadata": {},
   "outputs": [
    {
     "name": "stdout",
     "output_type": "stream",
     "text": [
      "863 µs ± 2.3 µs per loop (mean ± std. dev. of 7 runs, 1000 loops each)\n"
     ]
    }
   ],
   "source": [
    "%timeit scale_data4(big_data, 0.75, 42.0)"
   ]
  },
  {
   "cell_type": "markdown",
   "metadata": {},
   "source": [
    "# Getting crazy with it:  using lexical closures to mimic classes"
   ]
  },
  {
   "cell_type": "code",
   "execution_count": 43,
   "metadata": {},
   "outputs": [],
   "source": [
    "from munch import Munch\n",
    "import numpy as np\n",
    "import matplotlib.pyplot as plt\n",
    "import matplotlib\n",
    "%matplotlib inline"
   ]
  },
  {
   "cell_type": "markdown",
   "metadata": {},
   "source": []
  },
  {
   "cell_type": "code",
   "execution_count": 44,
   "metadata": {},
   "outputs": [],
   "source": [
    "def LinearModel(x, g):\n",
    "    x1 = np.hstack((x, np.ones((x.shape[0], 1), dtype=x.dtype)))\n",
    "    weights = np.linalg.pinv(x1) @ g\n",
    "    \n",
    "    def eval(x):\n",
    "        return x @ weights[:-1] + weights[-1]\n",
    "    \n",
    "    def error(x, g):\n",
    "        y = eval(x)\n",
    "        return np.sqrt(np.mean((g - y)**2))\n",
    "    \n",
    "    return Munch(eval=eval, error=error)"
   ]
  },
  {
   "cell_type": "markdown",
   "metadata": {},
   "source": []
  },
  {
   "cell_type": "code",
   "execution_count": 45,
   "metadata": {},
   "outputs": [
    {
     "name": "stdout",
     "output_type": "stream",
     "text": [
      "(100, 1) (100, 1)\n"
     ]
    },
    {
     "data": {
      "image/png": "[encoded data removed]",
      "text/plain": [
       "<Figure size 432x288 with 1 Axes>"
      ]
     },
     "metadata": {
      "needs_background": "light"
     },
     "output_type": "display_data"
    }
   ],
   "source": [
    "x = np.linspace(0.0, 10.0, 100)[:, None]\n",
    "g = x + 2.0 * np.random.random(x.shape)\n",
    "\n",
    "print(x.shape, g.shape)\n",
    "plt.scatter(x, g);"
   ]
  },
  {
   "cell_type": "markdown",
   "metadata": {},
   "source": []
  },
  {
   "cell_type": "code",
   "execution_count": 46,
   "metadata": {},
   "outputs": [
    {
     "data": {
      "text/plain": [
       "0.5700726860782216"
      ]
     },
     "execution_count": 46,
     "metadata": {},
     "output_type": "execute_result"
    }
   ],
   "source": [
    "model = LinearModel(x, g)\n",
    "\n",
    "y = model.eval(x)\n",
    "err = model.error(x, g)\n",
    "err"
   ]
  },
  {
   "cell_type": "code",
   "execution_count": 47,
   "metadata": {},
   "outputs": [
    {
     "data": {
      "image/png": "[encoded data removed]",
      "text/plain": [
       "<Figure size 432x288 with 1 Axes>"
      ]
     },
     "metadata": {
      "needs_background": "light"
     },
     "output_type": "display_data"
    }
   ],
   "source": [
    "plt.scatter(x, g)\n",
    "plt.plot(x, y, linewidth=3, color='red');"
   ]
  },
  {
   "cell_type": "markdown",
   "metadata": {},
   "source": []
  },
  {
   "cell_type": "code",
   "execution_count": 48,
   "metadata": {},
   "outputs": [
    {
     "data": {
      "text/plain": [
       "munch.Munch"
      ]
     },
     "execution_count": 48,
     "metadata": {},
     "output_type": "execute_result"
    }
   ],
   "source": [
    "type(model)"
   ]
  },
  {
   "cell_type": "code",
   "execution_count": 49,
   "metadata": {},
   "outputs": [
    {
     "data": {
      "text/plain": [
       "dict_keys(['eval', 'error'])"
      ]
     },
     "execution_count": 49,
     "metadata": {},
     "output_type": "execute_result"
    }
   ],
   "source": [
    "model.keys()"
   ]
  },
  {
   "cell_type": "code",
   "execution_count": null,
   "metadata": {},
   "outputs": [],
   "source": []
  },
  {
   "cell_type": "code",
   "execution_count": null,
   "metadata": {},
   "outputs": [],
   "source": []
  },
  {
   "cell_type": "markdown",
   "metadata": {},
   "source": []
  },
  {
   "cell_type": "code",
   "execution_count": 50,
   "metadata": {},
   "outputs": [],
   "source": [
    "class LinearModel2:\n",
    "    def __init__(self, x, g):\n",
    "        x1 = np.hstack((x, np.ones((x.shape[0], 1), dtype=x.dtype)))\n",
    "        self.weights = np.linalg.pinv(x1) @ g\n",
    "    \n",
    "    def eval(self, x):\n",
    "        return x @ self.weights[:-1] + self.weights[-1]\n",
    "    \n",
    "    def error(self, x, g):\n",
    "        y = self.eval(x)\n",
    "        return np.sqrt(np.mean((g - y)**2))"
   ]
  },
  {
   "cell_type": "code",
   "execution_count": 51,
   "metadata": {},
   "outputs": [
    {
     "data": {
      "text/plain": [
       "0.5700726860782216"
      ]
     },
     "execution_count": 51,
     "metadata": {},
     "output_type": "execute_result"
    }
   ],
   "source": [
    "model2 = LinearModel2(x, g)\n",
    "\n",
    "y = model2.eval(x)\n",
    "err = model2.error(x, g)\n",
    "err"
   ]
  },
  {
   "cell_type": "code",
   "execution_count": 52,
   "metadata": {},
   "outputs": [
    {
     "data": {
      "image/png": "[encoded data removed]",
      "text/plain": [
       "<Figure size 432x288 with 1 Axes>"
      ]
     },
     "metadata": {
      "needs_background": "light"
     },
     "output_type": "display_data"
    }
   ],
   "source": [
    "plt.scatter(x, g)\n",
    "plt.plot(x, y, linewidth=3, color='red');"
   ]
  },
  {
   "cell_type": "code",
   "execution_count": null,
   "metadata": {},
   "outputs": [],
   "source": []
  },
  {
   "cell_type": "markdown",
   "metadata": {},
   "source": [
    "# Recap\n",
    "\n",
    "* In Python, there is a module-level \"global\" scope and local scopes for each function.\n",
    "* Variables in the current global and local scopes can be retrieved with the `globals()` and `locals()` builtin functions, respectively.\n",
    "* In order to modify a global variable from within a function, you must use the `global` keyword.\n",
    "* Local scoping is lexical, i.e, inherits parent scope, but this is done at the __funcion__ level, not the block level like in many other languages.\n",
    "* Note that functions (and classes) can be nested in Python.\n",
    "* Lexical closures are when a returned function retains variables from its parent scope, even after the parent function has returned.\n",
    "* Lexical closures allow the use of function (and class) builders that store variables from the parent scope.\n",
    "* Nested functions and lexical closures are an elegant design pattern for solving some types of problems."
   ]
  },
  {
   "cell_type": "code",
   "execution_count": null,
   "metadata": {},
   "outputs": [],
   "source": []
  },
  {
   "cell_type": "code",
   "execution_count": null,
   "metadata": {},
   "outputs": [],
   "source": []
  }
 ],
 "metadata": {
  "kernelspec": {
   "display_name": "Python 3",
   "language": "python",
   "name": "python3"
  },
  "language_info": {
   "codemirror_mode": {
    "name": "ipython",
    "version": 3
   },
   "file_extension": ".py",
   "mimetype": "text/x-python",
   "name": "python",
   "nbconvert_exporter": "python",
   "pygments_lexer": "ipython3",
   "version": "3.8.6"
  }
 },
 "nbformat": 4,
 "nbformat_minor": 2
}
