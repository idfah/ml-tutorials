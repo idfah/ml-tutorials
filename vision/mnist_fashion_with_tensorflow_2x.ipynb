{
 "cells": [
  {
   "cell_type": "markdown",
   "metadata": {},
   "source": [
    "# MNIST Fashion Dataset Classification with TensorFlow 2.x\n",
    "\n",
    "__Elliott Forney - 2019__\n",
    "\n",
    "In this notebook, we explore how to build a simple CNN image classifier using the subclassing API found in TensorFlow 2.x / Keras.  Before we begin, however, let's start by importing the libraries we will use:  TensorFlow and TensorBoard, matplotlib for plotting and scikit-image for loading, transforming and saving image files.  We'll also need the standard python `datetime` and `csv` utilities for timestamps and reading csv files."
   ]
  },
  {
   "cell_type": "code",
   "execution_count": 1,
   "metadata": {},
   "outputs": [],
   "source": [
    "import csv\n",
    "from datetime import datetime\n",
    "\n",
    "import tensorflow as tf\n",
    "from tensorflow import keras\n",
    "\n",
    "import tensorboard\n",
    "%load_ext tensorboard\n",
    "\n",
    "import matplotlib\n",
    "import matplotlib.pyplot as plt\n",
    "%matplotlib inline\n",
    "matplotlib.rcParams['figure.figsize'] = (9, 8)\n",
    "\n",
    "import skimage as ski"
   ]
  },
  {
   "cell_type": "markdown",
   "metadata": {},
   "source": [
    "## MNIST Fashion Dataset\n",
    "\n",
    "In order demonstrate a simple image classifier in TensorFlow 2.x when using the updated Keras API, we will examine the MNIST Fashion Dataset.  This is a very popular dataset that is similar to the ubiquitous MNIST Handwritten Digit dataset but with more classes and more variability in the data, which makes it slightly more difficult to solve well.\n",
    "\n",
    "The dataset consists of 60,000 training images and 10,000 test images of 10 different kinds of fashion apparel.  The images are greyscale and are 28x28 pixels each.  The images are also registered, so that they are centered, rotation corrected and fit the image bounds closely.\n",
    "\n",
    "This dataset can easily be downloaded in Comma-Separate-Value (CSV) format using the Kaggle API.  The dataset was [originally presented in this paper](https://arxiv.org/abs/1708.07747) and [can also be downloaded directly from github here](https://github.com/zalandoresearch/fashion-mnist).  One of the nice things about using Kaggle, however, is that you can upload your test results to see how they compare to the results obtained by others."
   ]
  },
  {
   "cell_type": "code",
   "execution_count": 2,
   "metadata": {},
   "outputs": [
    {
     "name": "stdout",
     "output_type": "stream",
     "text": [
      "Downloading fashionmnist.zip to /home/idfah/projects/notebooks/vision\n",
      "\n",
      "/home/idfah/projects/notebooks/vision/fashionmnist\n",
      "~/projects/notebooks/vision/fashionmnist ~/projects/notebooks/vision\n",
      "Archive:  fashionmnist.zip\n",
      "  inflating: fashion-mnist_test.csv  \n",
      "  inflating: fashion-mnist_train.csv  \n",
      "  inflating: t10k-images-idx3-ubyte  \n",
      "  inflating: t10k-labels-idx1-ubyte  \n",
      "  inflating: train-images-idx3-ubyte  \n",
      "  inflating: train-labels-idx1-ubyte  \n",
      "~/projects/notebooks/vision\n"
     ]
    },
    {
     "name": "stderr",
     "output_type": "stream",
     "text": [
      "\r",
      "  0%|          | 0.00/68.8M [00:00<?, ?B/s]\r",
      "  1%|▏         | 1.00M/68.8M [00:00<00:07, 9.12MB/s]\r",
      "  4%|▍         | 3.00M/68.8M [00:00<00:07, 9.65MB/s]\r",
      "  7%|▋         | 5.00M/68.8M [00:00<00:06, 10.1MB/s]\r",
      " 10%|█         | 7.00M/68.8M [00:00<00:06, 10.4MB/s]\r",
      " 13%|█▎        | 9.00M/68.8M [00:00<00:05, 10.6MB/s]\r",
      " 15%|█▍        | 10.0M/68.8M [00:00<00:05, 10.5MB/s]\r",
      " 17%|█▋        | 12.0M/68.8M [00:01<00:05, 10.8MB/s]\r",
      " 20%|██        | 14.0M/68.8M [00:01<00:05, 10.9MB/s]\r",
      " 23%|██▎       | 16.0M/68.8M [00:01<00:05, 11.0MB/s]\r",
      " 26%|██▌       | 18.0M/68.8M [00:01<00:04, 11.0MB/s]\r",
      " 29%|██▉       | 20.0M/68.8M [00:01<00:04, 11.0MB/s]\r",
      " 32%|███▏      | 22.0M/68.8M [00:02<00:04, 11.0MB/s]\r",
      " 35%|███▍      | 24.0M/68.8M [00:02<00:04, 11.0MB/s]\r",
      " 38%|███▊      | 26.0M/68.8M [00:02<00:04, 11.1MB/s]\r",
      " 41%|████      | 28.0M/68.8M [00:02<00:03, 11.2MB/s]\r",
      " 44%|████▎     | 30.0M/68.8M [00:02<00:03, 11.2MB/s]\r",
      " 47%|████▋     | 32.0M/68.8M [00:03<00:03, 11.2MB/s]\r",
      " 49%|████▉     | 34.0M/68.8M [00:03<00:03, 11.1MB/s]\r",
      " 52%|█████▏    | 36.0M/68.8M [00:03<00:03, 11.1MB/s]\r",
      " 55%|█████▌    | 38.0M/68.8M [00:03<00:02, 11.2MB/s]\r",
      " 58%|█████▊    | 40.0M/68.8M [00:03<00:02, 11.2MB/s]\r",
      " 61%|██████    | 42.0M/68.8M [00:03<00:02, 11.0MB/s]\r",
      " 64%|██████▍   | 44.0M/68.8M [00:04<00:02, 11.0MB/s]\r",
      " 67%|██████▋   | 46.0M/68.8M [00:04<00:02, 11.0MB/s]\r",
      " 70%|██████▉   | 48.0M/68.8M [00:04<00:02, 10.9MB/s]\r",
      " 73%|███████▎  | 50.0M/68.8M [00:04<00:01, 10.9MB/s]\r",
      " 76%|███████▌  | 52.0M/68.8M [00:04<00:01, 10.8MB/s]\r",
      " 79%|███████▊  | 54.0M/68.8M [00:05<00:01, 11.0MB/s]\r",
      " 81%|████████▏ | 56.0M/68.8M [00:05<00:01, 11.1MB/s]\r",
      " 84%|████████▍ | 58.0M/68.8M [00:05<00:01, 10.9MB/s]\r",
      " 87%|████████▋ | 60.0M/68.8M [00:05<00:00, 11.0MB/s]\r",
      " 90%|█████████ | 62.0M/68.8M [00:05<00:00, 11.0MB/s]\r",
      " 93%|█████████▎| 64.0M/68.8M [00:06<00:00, 10.9MB/s]\r",
      " 96%|█████████▌| 66.0M/68.8M [00:06<00:00, 11.0MB/s]\r",
      " 99%|█████████▉| 68.0M/68.8M [00:06<00:00, 11.0MB/s]\r",
      "100%|██████████| 68.8M/68.8M [00:06<00:00, 11.0MB/s]\n"
     ]
    }
   ],
   "source": [
    "%%bash\n",
    "# download the data using the Kaggle API\n",
    "kaggle datasets download -d zalando-research/fashionmnist\n",
    "\n",
    "# place into a directory called fashionmnist and unzip\n",
    "mkdir -p fashionmnist\n",
    "mv fashionmnist.zip fashionmnist\n",
    "pushd fashionmnist\n",
    "unzip -o fashionmnist.zip\n",
    "popd"
   ]
  },
  {
   "cell_type": "markdown",
   "metadata": {},
   "source": [
    "Next, we define a function to load the CSV file into TensorFlow tensors.  This is done by looping over each line of the file and extracting the values for each pixel, which are initially in the range $[0-255]$.  These values are then converted into floating point tensors and scaled to have zero mean and unit variance across all pixels.  For the training set, the mean and variance are computed from the full dataset and for validation and testing, we can provide the mean and variance from the training data.  If the CSV file contains a column called `label`, then the class label is also extracted into a separate tensor and if the labels are not provided then `None` is returned in place of the labels."
   ]
  },
  {
   "cell_type": "code",
   "execution_count": 3,
   "metadata": {},
   "outputs": [],
   "source": [
    "def load_dataset(filename='fashionmnist/fashion-mnist_train.csv', img_mean=None, img_std=None):\n",
    "    '''Load the MNIST Fashion dataset from Kaggle CSV file.\n",
    "    '''\n",
    "    image_list, label_list = [], []\n",
    "\n",
    "    # open training data\n",
    "    with open(filename, mode='r') as fh:\n",
    "        # check if labels are in header\n",
    "        labeled = next(fh).startswith('label,')\n",
    "    \n",
    "        # for each example\n",
    "        for line in csv.reader(fh):\n",
    "            if labeled:\n",
    "                # if the header has a label, extract it\n",
    "                # this is a bit hacky, but let's us distinguish\n",
    "                # train and test data without separate classes\n",
    "                label_list.append(int(line[0]))\n",
    "                line = line[1:]\n",
    "                    \n",
    "            # convert to tensor\n",
    "            image_list.append(\n",
    "                tf.convert_to_tensor([float(pixel) for pixel in line]))\n",
    "            \n",
    "    images = tf.reshape(tf.concat(image_list, axis=0), (-1, 28, 28, 1))\n",
    "    \n",
    "    # extract means and standard deviations if not provided from train data\n",
    "    img_mean = tf.math.reduce_mean(images) if img_mean is None else img_std\n",
    "    img_std = tf.math.reduce_std(images) if img_std is None else img_std\n",
    "        \n",
    "    # standardize to zero mean and unit stdev across all pixels and images\n",
    "    images -= img_mean\n",
    "    images /= img_std\n",
    "        \n",
    "    # convert image labels to a single tensor\n",
    "    labels = tf.convert_to_tensor(label_list) if labeled else None\n",
    "    \n",
    "    return images, labels, img_mean, img_std"
   ]
  },
  {
   "cell_type": "markdown",
   "metadata": {},
   "source": [
    "Notice that the full training set consists of 60,000 example images with 28x28 pixels and a single greyscale channel for each image."
   ]
  },
  {
   "cell_type": "code",
   "execution_count": 4,
   "metadata": {},
   "outputs": [
    {
     "data": {
      "text/plain": [
       "(TensorShape([60000, 28, 28, 1]), TensorShape([60000]))"
      ]
     },
     "execution_count": 4,
     "metadata": {},
     "output_type": "execute_result"
    }
   ],
   "source": [
    "images, labels, img_mean, img_std = load_dataset('fashionmnist/fashion-mnist_train.csv')\n",
    "images.shape, labels.shape"
   ]
  },
  {
   "cell_type": "markdown",
   "metadata": {},
   "source": [
    "Next, let's split this data into smaller training and validation sets with 50,000 images for training and 10,000 for model selection and hyperparameter tuning."
   ]
  },
  {
   "cell_type": "code",
   "execution_count": 5,
   "metadata": {},
   "outputs": [
    {
     "data": {
      "text/plain": [
       "(TensorShape([50000, 28, 28, 1]), TensorShape([10000, 28, 28, 1]))"
      ]
     },
     "execution_count": 5,
     "metadata": {},
     "output_type": "execute_result"
    }
   ],
   "source": [
    "# generate a range of indices for each images and shuffle them randomly\n",
    "idxs = tf.range(images.shape[0])\n",
    "tf.random.shuffle(idxs)\n",
    "\n",
    "# use the first 50,000 for training and the last 10,000 for validation\n",
    "train_idxs, valid_idxs = idxs[10000:], idxs[:10000]\n",
    "train_images, train_labels = tf.gather(images, train_idxs), tf.gather(labels, train_idxs)\n",
    "valid_images, valid_labels = tf.gather(images, valid_idxs), tf.gather(labels, valid_idxs)\n",
    "\n",
    "train_images.shape, valid_images.shape"
   ]
  },
  {
   "cell_type": "code",
   "execution_count": 6,
   "metadata": {},
   "outputs": [],
   "source": [
    "test_images, test_labels, _img_mean, _img_std = load_dataset(\n",
    "    'fashionmnist/fashion-mnist_train.csv',\n",
    "    img_mean=img_mean, img_std=img_std)"
   ]
  },
  {
   "cell_type": "markdown",
   "metadata": {},
   "source": [
    "For convenience, we also define a dictionary that maps integer labels to the corresponding string labels for each class of fashion apparel."
   ]
  },
  {
   "cell_type": "code",
   "execution_count": 7,
   "metadata": {},
   "outputs": [],
   "source": [
    "label_map = {\n",
    "    0: 'T-shirt/top',\n",
    "    1: 'Trouser',\n",
    "    2: 'Pullover',\n",
    "    3: 'Dress',\n",
    "    4: 'Coat',\n",
    "    5: 'Sandal',\n",
    "    6: 'Shirt',\n",
    "    7: 'Sneaker',\n",
    "    8: 'Bag',\n",
    "    9: 'Ankle boot',\n",
    "}"
   ]
  },
  {
   "cell_type": "markdown",
   "metadata": {},
   "source": [
    "We also define a handy function for plotting a montage of the first $n$ images in the dataset so that we can examine what the images look like and how our classifier performs on the first few images in the dataset."
   ]
  },
  {
   "cell_type": "code",
   "execution_count": 8,
   "metadata": {},
   "outputs": [
    {
     "data": {
      "image/png": "[encoded data removed]",
      "text/plain": [
       "<Figure size 648x576 with 1 Axes>"
      ]
     },
     "metadata": {
      "needs_background": "light"
     },
     "output_type": "display_data"
    }
   ],
   "source": [
    "def plot_montage(n):\n",
    "    '''Plot a montage of the first `n` images.\n",
    "    '''\n",
    "    # convert to numpy and squeeze out the color channel\n",
    "    imgs = images[:n].numpy().squeeze()\n",
    "    \n",
    "    # use skimage to make a montage as a single image\n",
    "    montage = ski.util.montage(imgs)\n",
    "    \n",
    "    # plot with matplotlib\n",
    "    fig = plt.figure()\n",
    "    ax = fig.add_subplot(1, 1, 1)\n",
    "    ax.imshow(montage, cmap=plt.cm.gray_r)\n",
    "    ax.axis('off')\n",
    "    fig.tight_layout()\n",
    "    \n",
    "plot_montage(16);"
   ]
  },
  {
   "cell_type": "markdown",
   "metadata": {},
   "source": [
    "Next, we use the Kears \"subclass\" API, i.e., we extend the `keras.Model` class as shown in part three, to build a straightforward Convolutional Neural Network (CNN) to classify our images.\n",
    "\n",
    "This network consists of a specified number of two-axis convolutions followed by a nonlinear activation function (Rectified Linear by default) followed by a specified number of densely connected layers each followed by a nonlinear activation (Hyperbolic Tangent by default).  Finally, a linear readout layer outputs logits where higher values correspond to higher predicted class membership likelihoods.  Cross entropy will be used as our loss function, so applying a softmax function to the output of the network will yield predicted class membership probabilities."
   ]
  },
  {
   "cell_type": "code",
   "execution_count": 9,
   "metadata": {},
   "outputs": [],
   "source": [
    "class ConvNet(keras.Model):\n",
    "    '''A simple Convolutional Neural Network (CNN) for image classification.\n",
    "    '''\n",
    "    def __init__(self, ncls, nconvs, nhiddens, conv_width=3, pool_width=2,\n",
    "                 conv_activation=keras.activations.relu, hidden_activation=keras.activations.tanh):\n",
    "        '''Initialize a Convolutional Network for classifying images.\n",
    "        \n",
    "        Args:\n",
    "            ncls:  int\n",
    "                Number of image classes.\n",
    "            nconvs:  list(int)\n",
    "                Number of filters / units in each convolutional layers.\n",
    "            nhiddens:  list(int)\n",
    "                Number of hidden units in each dense layer.\n",
    "            conv_width:  int\n",
    "                Width of the convolutional kernels, defaults to 3.\n",
    "            pool_width:  int\n",
    "                Width of the max pooling layers, defaults to 2.\n",
    "            conv_activation:  keras.activations.*\n",
    "                Activation function for convolutional layers,\n",
    "                defaults to `keras.activations.relu`.\n",
    "            hidden_activation:  keras.activations.*\n",
    "                Activation function for dense hidden layers,\n",
    "                defaults to `keras.activations.tanh`.\n",
    "        '''\n",
    "        super().__init__()\n",
    "        \n",
    "        # construct each convolutional layer, followed by a max pooling layer\n",
    "        convs = []\n",
    "        for i, conv in enumerate(nconvs):\n",
    "            convs.append(\n",
    "                keras.layers.Conv2D(\n",
    "                    filters=conv,\n",
    "                    kernel_size=conv_width,\n",
    "                    activation=conv_activation))\n",
    "            convs.append(\n",
    "                keras.layers.MaxPooling2D(\n",
    "                    pool_size=(pool_width, pool_width)))\n",
    "            \n",
    "        # pack convolutional layers into a sequential\n",
    "        self.conv = keras.Sequential(convs, name='conv')\n",
    "        \n",
    "        # flatten the result out into a vector for the dense layers\n",
    "        self.flatten = keras.layers.Flatten(name='flatten')\n",
    "        \n",
    "        # create the dense layers and pack into a sequential\n",
    "        self.hidden = keras.Sequential(\n",
    "            [keras.layers.Dense(nhidden, activation=hidden_activation) for nhidden in nhiddens],\n",
    "            name='hidden')\n",
    "        \n",
    "        # linear visible / readout layer yields a single output for each class\n",
    "        self.visible = keras.layers.Dense(ncls, name='visible')\n",
    "        \n",
    "    def call(self, images):\n",
    "        '''Forward pass of our CNN.  Outputs logits with the max corresponding\n",
    "        to the predicted class labels.  Apply softmax to this output to get\n",
    "        probability scores in [0, 1], see the `probs` method.\n",
    "        '''\n",
    "        conv_out = self.conv(images)\n",
    "        flat_out = self.flatten(conv_out)\n",
    "        hidden_out = self.hidden(flat_out)\n",
    "        visible_out = self.visible(hidden_out)\n",
    "        \n",
    "        return visible_out\n",
    "    \n",
    "    @tf.function\n",
    "    def probs(self, images):\n",
    "        '''Predict class membership probabilities for a batch of images.\n",
    "        '''\n",
    "        logits = self(images)\n",
    "        return keras.activations.softmax(logits)\n",
    "    \n",
    "    @tf.function\n",
    "    def labels(self, images):\n",
    "        '''Predict class labels for a batch of images. \n",
    "        '''\n",
    "        logits = self(images)\n",
    "        return tf.argmax(logits, axis=1)"
   ]
  },
  {
   "cell_type": "markdown",
   "metadata": {},
   "source": [
    "Now that our model class is defined, let's construct a new model with 10 classes, three convolutional layers and two dense layers."
   ]
  },
  {
   "cell_type": "code",
   "execution_count": 10,
   "metadata": {},
   "outputs": [],
   "source": [
    "conv_net = ConvNet(ncls=10, nconvs=(16, 24, 32), nhiddens=(24, 16))"
   ]
  },
  {
   "cell_type": "markdown",
   "metadata": {},
   "source": [
    "We then need to assign an optimizer and loss function.  We use the Adam stochastic gradient descent optimizer, which is a common choice, and `SparseCategoricalCrossentropy` as our loss function, which just means that we are using single-label cross entropy where the target class labels are represented as integer values, as opposed to indicator variables.\n",
    "\n",
    "We then compile our model, so that it's ready to train."
   ]
  },
  {
   "cell_type": "code",
   "execution_count": 11,
   "metadata": {},
   "outputs": [],
   "source": [
    "# use the Adam optimizer\n",
    "optimizer = keras.optimizers.Adam(learning_rate=0.0015)\n",
    "\n",
    "# cross entropy loss, the network outputs logits, so compute softmax internally\n",
    "loss = keras.losses.SparseCategoricalCrossentropy(from_logits=True)\n",
    "\n",
    "# compile the model so that its ready to train\n",
    "conv_net.compile(\n",
    "    loss=loss,\n",
    "    optimizer=optimizer,\n",
    "    metrics=['accuracy',])"
   ]
  },
  {
   "cell_type": "markdown",
   "metadata": {},
   "source": [
    "We can also build the model so that we can fix the number of inputs to each layer and examine the number of parameters in each layer.  Note that this is optional and if we don't build the model beforehand, then Keras will determine the number of inputs to each layer durint the first forward pass.\n",
    "\n",
    "Note that this network has about 10,000 parameters in the convolutional layers, 1,200 in the hidden layers and 170 in the readout layer.  Although this is likely not optimal, it is generally desirable to have most of the parameters in the convolutional layers to prevent overfitting in the dense layers."
   ]
  },
  {
   "cell_type": "code",
   "execution_count": 12,
   "metadata": {},
   "outputs": [
    {
     "name": "stdout",
     "output_type": "stream",
     "text": [
      "Model: \"conv_net\"\n",
      "_________________________________________________________________\n",
      "Layer (type)                 Output Shape              Param #   \n",
      "=================================================================\n",
      "conv (Sequential)            (60000, 1, 1, 32)         10584     \n",
      "_________________________________________________________________\n",
      "flatten (Flatten)            multiple                  0         \n",
      "_________________________________________________________________\n",
      "hidden (Sequential)          (60000, 16)               1192      \n",
      "_________________________________________________________________\n",
      "visible (Dense)              multiple                  170       \n",
      "=================================================================\n",
      "Total params: 11,946\n",
      "Trainable params: 11,946\n",
      "Non-trainable params: 0\n",
      "_________________________________________________________________\n"
     ]
    }
   ],
   "source": [
    "# build the model (fix number of inputs to each layer) so that we\n",
    "# can examine the number of parameters\n",
    "# this is optional and will be performed lazily during the first\n",
    "# forward pass if build is not explicitly called\n",
    "conv_net.build(images.shape)\n",
    "conv_net.summary()"
   ]
  },
  {
   "cell_type": "markdown",
   "metadata": {},
   "source": [
    "Next, we setup a TensorBoard callback function that we can use to later examine our network and its training performance using TensorBoard.  More on this later, but note that TensorBoard is a standardized tool for examining TensorFlow networks and training performance, and more."
   ]
  },
  {
   "cell_type": "code",
   "execution_count": 13,
   "metadata": {},
   "outputs": [],
   "source": [
    "# remove tensorboard logs from previous runs\n",
    "!rm -rf fashion_logs\n",
    "\n",
    "# set up a new tensorboard callback and point it to an on-disk logging directory\n",
    "# this logging directory is where information about the training process will be stored\n",
    "fashion_logdir = 'fashion_logs/fit/' + datetime.now().strftime(\"%Y%m%d-%H%M%S\")\n",
    "tensorboard_cb = tf.keras.callbacks.TensorBoard(fashion_logdir)"
   ]
  },
  {
   "cell_type": "markdown",
   "metadata": {},
   "source": [
    "We also set up an early stopping callback using the standard Keras callbacks to limit overfitting."
   ]
  },
  {
   "cell_type": "code",
   "execution_count": 14,
   "metadata": {},
   "outputs": [],
   "source": [
    "early_stopping_cb = tf.keras.callbacks.EarlyStopping(\n",
    "    patience=10, restore_best_weights=True)"
   ]
  },
  {
   "cell_type": "markdown",
   "metadata": {},
   "source": [
    "Finally, we can call the `.fit` method on the model to beging the training procedure."
   ]
  },
  {
   "cell_type": "code",
   "execution_count": 15,
   "metadata": {},
   "outputs": [
    {
     "name": "stdout",
     "output_type": "stream",
     "text": [
      "Epoch 1/50\n",
      "  1/391 [..............................] - ETA: 0s - loss: 2.3403 - accuracy: 0.1328"
     ]
    },
    {
     "name": "stderr",
     "output_type": "stream",
     "text": [
      "WARNING: Logging before flag parsing goes to stderr.\n",
      "W1004 22:31:32.264075 139708138239808 deprecation.py:323] From /home/idfah/.local/lib/python3.7/site-packages/tensorflow/python/ops/summary_ops_v2.py:1277: stop (from tensorflow.python.eager.profiler) is deprecated and will be removed after 2020-07-01.\n",
      "Instructions for updating:\n",
      "use `tf.profiler.experimental.stop` instead.\n"
     ]
    },
    {
     "name": "stdout",
     "output_type": "stream",
     "text": [
      "391/391 [==============================] - 4s 9ms/step - loss: 0.8297 - accuracy: 0.7265 - val_loss: 0.5602 - val_accuracy: 0.7990\n",
      "Epoch 2/50\n",
      "391/391 [==============================] - 3s 9ms/step - loss: 0.5166 - accuracy: 0.8174 - val_loss: 0.4593 - val_accuracy: 0.8390\n",
      "Epoch 3/50\n",
      "391/391 [==============================] - 3s 9ms/step - loss: 0.4441 - accuracy: 0.8424 - val_loss: 0.4123 - val_accuracy: 0.8557\n",
      "Epoch 4/50\n",
      "391/391 [==============================] - 3s 9ms/step - loss: 0.4003 - accuracy: 0.8568 - val_loss: 0.4023 - val_accuracy: 0.8556\n",
      "Epoch 5/50\n",
      "391/391 [==============================] - 3s 9ms/step - loss: 0.3730 - accuracy: 0.8663 - val_loss: 0.3660 - val_accuracy: 0.8675\n",
      "Epoch 6/50\n",
      "391/391 [==============================] - 3s 9ms/step - loss: 0.3517 - accuracy: 0.8737 - val_loss: 0.3593 - val_accuracy: 0.8712\n",
      "Epoch 7/50\n",
      "391/391 [==============================] - 3s 9ms/step - loss: 0.3378 - accuracy: 0.8798 - val_loss: 0.3558 - val_accuracy: 0.8685\n",
      "Epoch 8/50\n",
      "391/391 [==============================] - 3s 9ms/step - loss: 0.3240 - accuracy: 0.8851 - val_loss: 0.3789 - val_accuracy: 0.8585\n",
      "Epoch 9/50\n",
      "391/391 [==============================] - 3s 9ms/step - loss: 0.3137 - accuracy: 0.8876 - val_loss: 0.3428 - val_accuracy: 0.8759\n",
      "Epoch 10/50\n",
      "391/391 [==============================] - 3s 9ms/step - loss: 0.3029 - accuracy: 0.8920 - val_loss: 0.3305 - val_accuracy: 0.8822\n",
      "Epoch 11/50\n",
      "391/391 [==============================] - 3s 9ms/step - loss: 0.2943 - accuracy: 0.8948 - val_loss: 0.3396 - val_accuracy: 0.8764\n",
      "Epoch 12/50\n",
      "391/391 [==============================] - 3s 9ms/step - loss: 0.2864 - accuracy: 0.8978 - val_loss: 0.3333 - val_accuracy: 0.8805\n",
      "Epoch 13/50\n",
      "391/391 [==============================] - 3s 9ms/step - loss: 0.2808 - accuracy: 0.8999 - val_loss: 0.3293 - val_accuracy: 0.8815\n",
      "Epoch 14/50\n",
      "391/391 [==============================] - 3s 9ms/step - loss: 0.2762 - accuracy: 0.9014 - val_loss: 0.3337 - val_accuracy: 0.8774\n",
      "Epoch 15/50\n",
      "391/391 [==============================] - 3s 9ms/step - loss: 0.2665 - accuracy: 0.9041 - val_loss: 0.3313 - val_accuracy: 0.8810\n",
      "Epoch 16/50\n",
      "391/391 [==============================] - 3s 9ms/step - loss: 0.2595 - accuracy: 0.9082 - val_loss: 0.3370 - val_accuracy: 0.8784\n",
      "Epoch 17/50\n",
      "391/391 [==============================] - 3s 9ms/step - loss: 0.2568 - accuracy: 0.9082 - val_loss: 0.3249 - val_accuracy: 0.8848\n",
      "Epoch 18/50\n",
      "391/391 [==============================] - 3s 9ms/step - loss: 0.2499 - accuracy: 0.9111 - val_loss: 0.3277 - val_accuracy: 0.8881\n",
      "Epoch 19/50\n",
      "391/391 [==============================] - 3s 9ms/step - loss: 0.2455 - accuracy: 0.9120 - val_loss: 0.3264 - val_accuracy: 0.8895\n",
      "Epoch 20/50\n",
      "391/391 [==============================] - 3s 9ms/step - loss: 0.2458 - accuracy: 0.9121 - val_loss: 0.3441 - val_accuracy: 0.8807\n",
      "Epoch 21/50\n",
      "391/391 [==============================] - 3s 9ms/step - loss: 0.2355 - accuracy: 0.9152 - val_loss: 0.3285 - val_accuracy: 0.8858\n",
      "Epoch 22/50\n",
      "391/391 [==============================] - 3s 9ms/step - loss: 0.2370 - accuracy: 0.9163 - val_loss: 0.3294 - val_accuracy: 0.8843\n",
      "Epoch 23/50\n",
      "391/391 [==============================] - 3s 9ms/step - loss: 0.2299 - accuracy: 0.9177 - val_loss: 0.3312 - val_accuracy: 0.8860\n",
      "Epoch 24/50\n",
      "391/391 [==============================] - 3s 9ms/step - loss: 0.2243 - accuracy: 0.9195 - val_loss: 0.3208 - val_accuracy: 0.8886\n",
      "Epoch 25/50\n",
      "391/391 [==============================] - 4s 9ms/step - loss: 0.2249 - accuracy: 0.9183 - val_loss: 0.3346 - val_accuracy: 0.8838\n",
      "Epoch 26/50\n",
      "391/391 [==============================] - 3s 9ms/step - loss: 0.2197 - accuracy: 0.9206 - val_loss: 0.3230 - val_accuracy: 0.8891\n",
      "Epoch 27/50\n",
      "391/391 [==============================] - 3s 9ms/step - loss: 0.2187 - accuracy: 0.9215 - val_loss: 0.3529 - val_accuracy: 0.8789\n",
      "Epoch 28/50\n",
      "391/391 [==============================] - 3s 9ms/step - loss: 0.2145 - accuracy: 0.9232 - val_loss: 0.3296 - val_accuracy: 0.8863\n",
      "Epoch 29/50\n",
      "391/391 [==============================] - 3s 9ms/step - loss: 0.2149 - accuracy: 0.9230 - val_loss: 0.3359 - val_accuracy: 0.8889\n",
      "Epoch 30/50\n",
      "391/391 [==============================] - 3s 8ms/step - loss: 0.2089 - accuracy: 0.9247 - val_loss: 0.3394 - val_accuracy: 0.8838\n",
      "Epoch 31/50\n",
      "391/391 [==============================] - 3s 9ms/step - loss: 0.2082 - accuracy: 0.9257 - val_loss: 0.3517 - val_accuracy: 0.8813\n",
      "Epoch 32/50\n",
      "391/391 [==============================] - 3s 9ms/step - loss: 0.2051 - accuracy: 0.9254 - val_loss: 0.3369 - val_accuracy: 0.8908\n",
      "Epoch 33/50\n",
      "391/391 [==============================] - 3s 9ms/step - loss: 0.2020 - accuracy: 0.9278 - val_loss: 0.3511 - val_accuracy: 0.8824\n",
      "Epoch 34/50\n",
      "391/391 [==============================] - 3s 9ms/step - loss: 0.1990 - accuracy: 0.9288 - val_loss: 0.3390 - val_accuracy: 0.8866\n"
     ]
    }
   ],
   "source": [
    "train_result = conv_net.fit(\n",
    "    train_images, train_labels,\n",
    "    validation_data=(valid_images, valid_labels),\n",
    "    callbacks=[early_stopping_cb, tensorboard_cb],\n",
    "    epochs=50,\n",
    "    batch_size=128)"
   ]
  },
  {
   "cell_type": "markdown",
   "metadata": {},
   "source": [
    "Now, we can plot a few images from the test set along side with their labels and predicted class membership probabilities in order to verify that the classifier is working."
   ]
  },
  {
   "cell_type": "code",
   "execution_count": 16,
   "metadata": {},
   "outputs": [
    {
     "data": {
      "text/plain": [
       "[('Pullover', 0.4673),\n",
       " ('Ankle boot', 0.982),\n",
       " ('Coat', 0.5312),\n",
       " ('T-shirt/top', 0.6955),\n",
       " ('Dress', 0.995),\n",
       " ('Shirt', 0.9771),\n",
       " ('Coat', 0.9754),\n",
       " ('Sandal', 0.9983),\n",
       " ('Coat', 0.6824),\n",
       " ('Bag', 0.9999),\n",
       " ('T-shirt/top', 0.9489),\n",
       " ('Bag', 0.9985),\n",
       " ('Ankle boot', 0.9881),\n",
       " ('T-shirt/top', 0.9242),\n",
       " ('Pullover', 0.9842),\n",
       " ('Shirt', 0.5723)]"
      ]
     },
     "execution_count": 16,
     "metadata": {},
     "output_type": "execute_result"
    },
    {
     "data": {
      "image/png": "[encoded data removed]",
      "text/plain": [
       "<Figure size 648x576 with 1 Axes>"
      ]
     },
     "metadata": {
      "needs_background": "light"
     },
     "output_type": "display_data"
    }
   ],
   "source": [
    "# plot the first 16 images\n",
    "plot_montage(16)\n",
    "\n",
    "# predict the class membership for each image\n",
    "probs = conv_net.probs(test_images[:16])\n",
    "\n",
    "# predicted labels are the max predicted probs\n",
    "labels = tf.argmax(probs, axis=1)\n",
    "\n",
    "# convert labels to strings, round the probs and print in a list for examination\n",
    "[(label_map[int(label)], round(float(prob[label]), 4)) for label, prob in zip(labels, probs)]"
   ]
  },
  {
   "cell_type": "markdown",
   "metadata": {},
   "source": [
    "Finally, we can start up a TensorBoard server, which will parse the logs we saved during training and provides a number of useful visualizations, including how the training and validation loss and accuracy vary during the training procedure.  TensorBoard also allows us to visualize the computational graph of our CNN."
   ]
  },
  {
   "cell_type": "code",
   "execution_count": 18,
   "metadata": {},
   "outputs": [
    {
     "data": {
      "text/html": [
       "\n",
       "      <iframe id=\"tensorboard-frame-af9119685958bc0e\" width=\"100%\" height=\"800\" frameborder=\"0\">\n",
       "      </iframe>\n",
       "      <script>\n",
       "        (function() {\n",
       "          const frame = document.getElementById(\"tensorboard-frame-af9119685958bc0e\");\n",
       "          const url = new URL(\"/\", window.location);\n",
       "          const port = 6006;\n",
       "          if (port) {\n",
       "            url.port = port;\n",
       "          }\n",
       "          frame.src = url;\n",
       "        })();\n",
       "      </script>\n",
       "    "
      ],
      "text/plain": [
       "<IPython.core.display.HTML object>"
      ]
     },
     "metadata": {},
     "output_type": "display_data"
    }
   ],
   "source": [
    "%tensorboard --logdir fashion_logs"
   ]
  },
  {
   "cell_type": "markdown",
   "metadata": {},
   "source": [
    "We how now demonstrated how to build a simple CNN in TensorFlow 2.x for classifying images in the MNIST fashion dataset.  This network does not yet, however, have an optimal configuration and it is possible to improve these classification accuracies considerably.  We leave it as an exercise for the reader to properly tune this network in order to get the best possible results."
   ]
  },
  {
   "cell_type": "code",
   "execution_count": null,
   "metadata": {},
   "outputs": [],
   "source": []
  }
 ],
 "metadata": {
  "kernelspec": {
   "display_name": "Python 3",
   "language": "python",
   "name": "python3"
  },
  "language_info": {
   "codemirror_mode": {
    "name": "ipython",
    "version": 3
   },
   "file_extension": ".py",
   "mimetype": "text/x-python",
   "name": "python",
   "nbconvert_exporter": "python",
   "pygments_lexer": "ipython3",
   "version": "3.7.9"
  }
 },
 "nbformat": 4,
 "nbformat_minor": 2
}
